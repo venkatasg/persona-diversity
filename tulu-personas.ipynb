{
 "cells": [
  {
   "cell_type": "code",
   "execution_count": 1,
   "id": "e018b1cd-1607-4580-9aa7-0b8ec5b2c9b3",
   "metadata": {},
   "outputs": [],
   "source": [
    "from datasets import load_dataset\n",
    "import re\n",
    "import random"
   ]
  },
  {
   "cell_type": "code",
   "execution_count": 2,
   "id": "e6dceb42-28bb-4bae-9da5-1022d2176005",
   "metadata": {},
   "outputs": [
    {
     "data": {
      "text/plain": [
       "'mother who is'"
      ]
     },
     "execution_count": 2,
     "metadata": {},
     "output_type": "execute_result"
    }
   ],
   "source": [
    "patterns = [\n",
    "        r\"Imagine you are (?:an?|the)? ([^.,\\n]+)\",  # Matches \"Imagine you are a/an/the X\"\n",
    "        r\"As (?:an?|the)? ([^.,\\n]+)\",              # Matches \"As a/an/the X\"\n",
    "        r\"You are (?:an?|the)? ([^.,\\n]+)\",         # Matches \"You are a/an/the X\"\n",
    "        r\"Act as (?:an?|the)? ([^.,\\n]+)\",          # Matches \"Act as a/an/the X\"\n",
    "        r\"the perspective of (?:an?|the)? ([^.,\\n]+)\",  # Matches \"Take on the role of a/an/the X\"\n",
    "        r\"Take on the role of (?:an?|the)? ([^.,\\n]+)\",  # Matches \"Take on the role of a/an/the X\"\n",
    "        r\"Respond as (?:an?|the)? ([^.,\\n]+)\",      # Matches \"Respond as a/an/the X\"\n",
    "        r\"Answer as (?:an?|the)? ([^.,\\n]+)\",       # Matches \"Answer as a/an/the X\"\n",
    "    ]\n",
    "\n",
    "match = re.match(patterns[1], \"As a mother who is, not great\")\n",
    "match.group(1)"
   ]
  },
  {
   "cell_type": "code",
   "execution_count": 3,
   "id": "3fd2dbc5-f821-4130-bf62-8474261c431c",
   "metadata": {},
   "outputs": [
    {
     "data": {
      "text/plain": [
       "Dataset({\n",
       "    features: ['id', 'prompt', 'messages', 'constraints'],\n",
       "    num_rows: 29980\n",
       "})"
      ]
     },
     "execution_count": 3,
     "metadata": {},
     "output_type": "execute_result"
    }
   ],
   "source": [
    "dataset = load_dataset(\"allenai/tulu-3-sft-personas-instruction-following\")[\"train\"]\n",
    "dataset"
   ]
  },
  {
   "cell_type": "code",
   "execution_count": 4,
   "id": "750bef0b-176e-45e4-b6f5-e95c1532a325",
   "metadata": {},
   "outputs": [],
   "source": [
    "def find_persona(row):\n",
    "    persona = None\n",
    "    for patt in patterns:\n",
    "        match = re.match(patt, row[\"prompt\"], re.IGNORECASE)\n",
    "        if match is not None:\n",
    "            if match.group(1) is not None:\n",
    "                persona = \" \".join(match.group(1).strip().split())\n",
    "                break\n",
    "    row['persona'] = persona\n",
    "    \n",
    "    return row"
   ]
  },
  {
   "cell_type": "code",
   "execution_count": 5,
   "id": "38057e7b-1ccc-43f3-aeca-1001fd2eddbe",
   "metadata": {},
   "outputs": [
    {
     "data": {
      "text/plain": [
       "Dataset({\n",
       "    features: ['id', 'prompt', 'messages', 'constraints', 'persona'],\n",
       "    num_rows: 2947\n",
       "})"
      ]
     },
     "execution_count": 5,
     "metadata": {},
     "output_type": "execute_result"
    }
   ],
   "source": [
    "dataset = dataset.map(find_persona)\n",
    "persona_data=dataset.filter(lambda row: row['persona'] is not None)\n",
    "persona_data"
   ]
  },
  {
   "cell_type": "code",
   "execution_count": null,
   "id": "d578252a-3902-42b3-a361-4201e5a9ae13",
   "metadata": {},
   "outputs": [],
   "source": [
    "dataset.select(random.sample(range(len(dataset)), k=5))['prompt']"
   ]
  },
  {
   "cell_type": "code",
   "execution_count": null,
   "id": "6f559658-4b82-41dc-a68b-ded82b91ce06",
   "metadata": {
    "scrolled": true
   },
   "outputs": [],
   "source": [
    "list(zip(persona_data['persona'], persona_data['prompt']))"
   ]
  },
  {
   "cell_type": "code",
   "execution_count": null,
   "id": "17be199c-39c5-4789-9fa0-8fc6bfa5da8c",
   "metadata": {},
   "outputs": [],
   "source": [
    "persona_data.filter(lambda row: row['persona']==\"older South Sudanese immigrant who\")['prompt']"
   ]
  },
  {
   "cell_type": "markdown",
   "id": "25e83312-013a-4103-b8a4-6011b29aa030",
   "metadata": {},
   "source": [
    "These personas are derived from Persona Hub, which is all synthetic, and we end up with examples like the above, which are definitely weird to finetune as a persona? These are way too fine-grained!"
   ]
  },
  {
   "cell_type": "markdown",
   "id": "d7ca6e4a-7e9d-46cb-adf2-c9c23b6ba380",
   "metadata": {},
   "source": [
    "## Dolly 15k?"
   ]
  },
  {
   "cell_type": "code",
   "execution_count": null,
   "id": "4e36ea02-68c4-4466-8bcc-cb2d0b1ea38c",
   "metadata": {},
   "outputs": [],
   "source": [
    "dataset = load_dataset(\"databricks/databricks-dolly-15k\")[\"train\"]\n",
    "dataset"
   ]
  },
  {
   "cell_type": "code",
   "execution_count": null,
   "id": "52a8b5bc-6f1d-43df-ae61-099f8cab6260",
   "metadata": {},
   "outputs": [],
   "source": [
    "def find_persona2(row):\n",
    "    persona = None\n",
    "    for patt in patterns:\n",
    "        match = re.match(patt, row[\"instruction\"], re.IGNORECASE)\n",
    "        if match is not None:\n",
    "            if match.group(1) is not None:\n",
    "                persona = \" \".join(match.group(1).strip().split())\n",
    "                break\n",
    "    row['persona'] = str(persona)\n",
    "    \n",
    "    return row\n",
    "    \n",
    "dataset = dataset.map(find_persona2)"
   ]
  },
  {
   "cell_type": "code",
   "execution_count": null,
   "id": "2a0899e6-9cc8-4e0a-9006-a8e1f3517f96",
   "metadata": {},
   "outputs": [],
   "source": [
    "persona_data=dataset.filter(lambda row: row['persona'] != \"None\")\n",
    "persona_data"
   ]
  },
  {
   "cell_type": "code",
   "execution_count": null,
   "id": "5bdeebbe-dec0-4a56-a1b2-603e12470f49",
   "metadata": {},
   "outputs": [],
   "source": [
    "persona_data['persona']"
   ]
  },
  {
   "cell_type": "code",
   "execution_count": null,
   "id": "216cfbe7-4bb1-493a-ab04-e994270eeb51",
   "metadata": {},
   "outputs": [],
   "source": [
    "dataset.select(random.sample(range(len(dataset)), k=5))['instruction']"
   ]
  },
  {
   "cell_type": "code",
   "execution_count": null,
   "id": "597bd945-72dc-41f5-af80-ea4650125c89",
   "metadata": {},
   "outputs": [],
   "source": []
  }
 ],
 "metadata": {
  "kernelspec": {
   "display_name": "Python 3 (ipykernel)",
   "language": "python",
   "name": "python3"
  },
  "language_info": {
   "codemirror_mode": {
    "name": "ipython",
    "version": 3
   },
   "file_extension": ".py",
   "mimetype": "text/x-python",
   "name": "python",
   "nbconvert_exporter": "python",
   "pygments_lexer": "ipython3",
   "version": "3.10.14"
  }
 },
 "nbformat": 4,
 "nbformat_minor": 5
}
