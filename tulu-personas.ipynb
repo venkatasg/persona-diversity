{
 "cells": [
  {
   "cell_type": "code",
   "execution_count": 5,
   "id": "e018b1cd-1607-4580-9aa7-0b8ec5b2c9b3",
   "metadata": {},
   "outputs": [],
   "source": [
    "from datasets import load_dataset\n",
    "import re"
   ]
  },
  {
   "cell_type": "code",
   "execution_count": 2,
   "id": "3fd2dbc5-f821-4130-bf62-8474261c431c",
   "metadata": {},
   "outputs": [
    {
     "data": {
      "text/plain": [
       "Dataset({\n",
       "    features: ['id', 'prompt', 'messages', 'constraints'],\n",
       "    num_rows: 29980\n",
       "})"
      ]
     },
     "execution_count": 2,
     "metadata": {},
     "output_type": "execute_result"
    }
   ],
   "source": [
    "dataset = load_dataset(\"allenai/tulu-3-sft-personas-instruction-following\")[\"train\"]\n",
    "dataset"
   ]
  },
  {
   "cell_type": "code",
   "execution_count": 50,
   "id": "750bef0b-176e-45e4-b6f5-e95c1532a325",
   "metadata": {},
   "outputs": [
    {
     "data": {
      "application/vnd.jupyter.widget-view+json": {
       "model_id": "92bda6e1f9f64cc9b4c136b3e8e968f7",
       "version_major": 2,
       "version_minor": 0
      },
      "text/plain": [
       "Map:   0%|          | 0/29980 [00:00<?, ? examples/s]"
      ]
     },
     "metadata": {},
     "output_type": "display_data"
    }
   ],
   "source": [
    "patterns = [\n",
    "        r\"Imagine you are (?:an?|the) ([^.,\\n]+)\",  # Matches \"Imagine you are a/an/the X\"\n",
    "        r\"As (?:an?|the) ([^.,\\n]+)\",              # Matches \"As a/an/the X\"\n",
    "        r\"You are (?:an?|the) ([^.,\\n]+)\",         # Matches \"You are a/an/the X\"\n",
    "        r\"Act as (?:an?|the) ([^.,\\n]+)\",          # Matches \"Act as a/an/the X\"\n",
    "        r\"Take on the role of (?:an?|the) ([^.,\\n]+)\",  # Matches \"Take on the role of a/an/the X\"\n",
    "        r\"Respond as (?:an?|the) ([^.,\\n]+)\",      # Matches \"Respond as a/an/the X\"\n",
    "        r\"Answer as (?:an?|the) ([^.,\\n]+)\",       # Matches \"Answer as a/an/the X\"\n",
    "    ]\n",
    "\n",
    "def find_persona(row):\n",
    "    persona = None\n",
    "    for patt in patterns:\n",
    "        match = re.match(super_pattern, row['prompt'], re.IGNORECASE)\n",
    "        if match is not None:\n",
    "            if match.group(1) is not None:\n",
    "                persona = \" \".join(match.group(1).strip().split()[:5])\n",
    "                break\n",
    "    row['persona'] = persona\n",
    "    \n",
    "    return row\n",
    "    \n",
    "\n",
    "dataset = dataset.map(find_persona)"
   ]
  },
  {
   "cell_type": "code",
   "execution_count": 53,
   "id": "38057e7b-1ccc-43f3-aeca-1001fd2eddbe",
   "metadata": {},
   "outputs": [],
   "source": [
    "persona_data=dataset.filter(lambda row: row['persona'] is not None)"
   ]
  },
  {
   "cell_type": "code",
   "execution_count": 61,
   "id": "6f559658-4b82-41dc-a68b-ded82b91ce06",
   "metadata": {},
   "outputs": [
    {
     "data": {
      "text/plain": [
       "{'id': 'personas_IF_cca6zyeatcnvju08pa554bae',\n",
       " 'prompt': 'Identify two key statistical methods that can be used to analyze health outcomes among disadvantaged populations. Provide the names of these methods in English and in all capital letters.',\n",
       " 'messages': [{'content': 'Identify two key statistical methods that can be used to analyze health outcomes among disadvantaged populations. Provide the names of these methods in English and in all capital letters.',\n",
       "   'role': 'user'},\n",
       "  {'content': 'REGRESSION ANALYSIS, SURVIVAL ANALYSIS', 'role': 'assistant'}],\n",
       " 'constraints': [' give two responses', 'in english and capital'],\n",
       " 'persona': None}"
      ]
     },
     "execution_count": 61,
     "metadata": {},
     "output_type": "execute_result"
    }
   ],
   "source": [
    "dataset.filter(lambda row: row['persona'] is None)[2000]"
   ]
  },
  {
   "cell_type": "code",
   "execution_count": 47,
   "id": "fe9de835-97fb-4bca-be46-023bab09a24f",
   "metadata": {},
   "outputs": [
    {
     "data": {
      "text/plain": [
       "'mother who is'"
      ]
     },
     "execution_count": 47,
     "metadata": {},
     "output_type": "execute_result"
    }
   ],
   "source": [
    "patterns = [\n",
    "        r\"Imagine you are (?:an?|the) ([^.,\\n]+)\",  # Matches \"Imagine you are a/an/the X\"\n",
    "        r\"As (?:an?|the) ([^.,\\n]+)\",              # Matches \"As a/an/the X\"\n",
    "        r\"You are (?:an?|the) ([^.,\\n]+)\",         # Matches \"You are a/an/the X\"\n",
    "        r\"Act as (?:an?|the) ([^.,\\n]+)\",          # Matches \"Act as a/an/the X\"\n",
    "        r\"Take on the role of (?:an?|the) ([^.,\\n]+)\",  # Matches \"Take on the role of a/an/the X\"\n",
    "        r\"Respond as (?:an?|the) ([^.,\\n]+)\",      # Matches \"Respond as a/an/the X\"\n",
    "        r\"Answer as (?:an?|the) ([^.,\\n]+)\",       # Matches \"Answer as a/an/the X\"\n",
    "    ]\n",
    "\n",
    "super_pattern = '|'.join('(?:%s)' % patt for patt in patterns)\n",
    "match = re.match(patterns[1], \"As a mother who is, not great\")\n",
    "match.group(1)"
   ]
  },
  {
   "cell_type": "code",
   "execution_count": 43,
   "id": "3f56cc57-e95c-4341-9274-61d2d227c4ca",
   "metadata": {},
   "outputs": [
    {
     "ename": "IndexError",
     "evalue": "no such group",
     "output_type": "error",
     "traceback": [
      "\u001b[0;31m---------------------------------------------------------------------------\u001b[0m",
      "\u001b[0;31mIndexError\u001b[0m                                Traceback (most recent call last)",
      "Cell \u001b[0;32mIn[43], line 1\u001b[0m\n\u001b[0;32m----> 1\u001b[0m \u001b[38;5;28mprint\u001b[39m(\u001b[43mmatch\u001b[49m\u001b[38;5;241;43m.\u001b[39;49m\u001b[43mgroup\u001b[49m\u001b[43m(\u001b[49m\u001b[38;5;241;43m2134\u001b[39;49m\u001b[43m)\u001b[49m)\n",
      "\u001b[0;31mIndexError\u001b[0m: no such group"
     ]
    }
   ],
   "source": [
    "print(match.group())"
   ]
  },
  {
   "cell_type": "code",
   "execution_count": 33,
   "id": "6da0dd34-944c-4c2c-a413-891a642ffdc1",
   "metadata": {},
   "outputs": [
    {
     "data": {
      "text/plain": [
       "'(?:Imagine you are (?:an?|the) ([^.,\\\\n]+))|(?:As (?:an?|the) ([^.,\\\\n]+))|(?:You are (?:an?|the) ([^.,\\\\n]+))|(?:Act as (?:an?|the) ([^.,\\\\n]+))|(?:Take on the role of (?:an?|the) ([^.,\\\\n]+))|(?:Respond as (?:an?|the) ([^.,\\\\n]+))|(?:Answer as (?:an?|the) ([^.,\\\\n]+))'"
      ]
     },
     "execution_count": 33,
     "metadata": {},
     "output_type": "execute_result"
    }
   ],
   "source": [
    " token_specification = [\n",
    "        ('NUMBER',   r'\\d+(\\.\\d*)?'),  # Integer or decimal number\n",
    "        ('ASSIGN',   r':='),           # Assignment operator\n",
    "        ('END',      r';'),            # Statement terminator\n",
    "        ('ID',       r'[A-Za-z]+'),    # Identifiers\n",
    "        ('OP',       r'[+\\-*/]'),      # Arithmetic operators\n",
    "        ('NEWLINE',  r'\\n'),           # Line endings\n",
    "        ('SKIP',     r'[ \\t]+'),       # Skip over spaces and tabs\n",
    "        ('MISMATCH', r'.'),            # Any other character\n",
    "    ]\n",
    "tok_regex = '|'.join('(?:%s)' % patt for patt in patterns)\n",
    "tok_regex"
   ]
  },
  {
   "cell_type": "code",
   "execution_count": null,
   "id": "4e36ea02-68c4-4466-8bcc-cb2d0b1ea38c",
   "metadata": {},
   "outputs": [],
   "source": []
  }
 ],
 "metadata": {
  "kernelspec": {
   "display_name": "Python 3 (ipykernel)",
   "language": "python",
   "name": "python3"
  },
  "language_info": {
   "codemirror_mode": {
    "name": "ipython",
    "version": 3
   },
   "file_extension": ".py",
   "mimetype": "text/x-python",
   "name": "python",
   "nbconvert_exporter": "python",
   "pygments_lexer": "ipython3",
   "version": "3.10.14"
  }
 },
 "nbformat": 4,
 "nbformat_minor": 5
}
