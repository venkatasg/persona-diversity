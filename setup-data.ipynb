{
 "cells": [
  {
   "cell_type": "code",
   "execution_count": 1,
   "id": "e018b1cd-1607-4580-9aa7-0b8ec5b2c9b3",
   "metadata": {},
   "outputs": [],
   "source": [
    "from datasets import load_dataset\n",
    "import re\n",
    "import random\n",
    "import json\n",
    "import random\n",
    "import numpy as np"
   ]
  },
  {
   "cell_type": "code",
   "execution_count": 17,
   "id": "3fd2dbc5-f821-4130-bf62-8474261c431c",
   "metadata": {},
   "outputs": [],
   "source": [
    "personas = []\n",
    "with open('/Users/venkat/Downloads/persona.jsonl', 'r', encoding='utf-8') as f:\n",
    "    for line in f.readlines():\n",
    "        personas.append(json.loads(line)['persona'])"
   ]
  },
  {
   "cell_type": "code",
   "execution_count": 19,
   "id": "0729b764-6ab3-41a9-a4e4-58f81c03e231",
   "metadata": {},
   "outputs": [
    {
     "data": {
      "text/plain": [
       "\"A Political Analyst specialized in El Salvador's political landscape.\""
      ]
     },
     "execution_count": 19,
     "metadata": {},
     "output_type": "execute_result"
    }
   ],
   "source": [
    "personas[0]"
   ]
  },
  {
   "cell_type": "code",
   "execution_count": 23,
   "id": "597bd945-72dc-41f5-af80-ea4650125c89",
   "metadata": {},
   "outputs": [],
   "source": [
    "random.seed(2)\n",
    "sample = random.sample(personas, 100)"
   ]
  },
  {
   "cell_type": "code",
   "execution_count": 24,
   "id": "aba28d6c-5a52-49c2-8332-a33df7854020",
   "metadata": {},
   "outputs": [],
   "source": [
    "with open('data/sample_personas.txt', 'w') as f:\n",
    "    for persona in sample:\n",
    "        f.write(persona+\"\\n\")"
   ]
  },
  {
   "cell_type": "markdown",
   "id": "001b8002-a26a-48a2-b989-ec795cd99179",
   "metadata": {},
   "source": [
    "## Generating subjective questions from Homogeniety Bias in LLMs paper"
   ]
  },
  {
   "cell_type": "code",
   "execution_count": 28,
   "id": "07a2a155-e205-4328-839c-394d95572fd3",
   "metadata": {},
   "outputs": [],
   "source": [
    "num_iter = 1\n",
    "race_list = np.array(['African', 'Asian', 'Hispanic', 'White'])\n",
    "gender_list = np.array(['man', 'woman'])\n",
    "format_list = np.array(['story about', 'character description of', 'biography of', \n",
    "  'introduction of', 'social media profile of', 'synopsis for', 'narrative of', \n",
    "  'self-introduction of', 'tragic story about', 'funny story about', 'romantic story about', \n",
    "  'horror story about', 'dramatic story about'])\n",
    "\n",
    "race_column = np.repeat(race_list, num_iter * len(gender_list) * len(format_list), axis = 0)\n",
    "gender_column = np.tile(np.repeat(gender_list, num_iter * len(format_list)), len(race_list))\n",
    "format_column = np.tile(np.repeat(format_list, num_iter), len(race_list) * len(gender_list))"
   ]
  },
  {
   "cell_type": "code",
   "execution_count": 36,
   "id": "f74e92a6-d38f-43b7-a3c0-487df56a99d9",
   "metadata": {},
   "outputs": [],
   "source": [
    "with open('data/subj_questions.txt', 'w') as f:\n",
    "    for format_index in range(len(format_list)):\n",
    "        f.write(\"Write a thirty-word {format} a(n)\".\n",
    "           format(format = format_list[format_index], race = race_list[race_index], gender = gender_list[gender_index])+\"\\n\")"
   ]
  },
  {
   "cell_type": "markdown",
   "id": "e95d3a70-723a-4cb6-81a3-c0bff47502d3",
   "metadata": {},
   "source": [
    "## Some more 'objective'/'subjective' questions to evaluate on?"
   ]
  },
  {
   "cell_type": "code",
   "execution_count": 2,
   "id": "83f11bbb-b5ee-43a9-ac69-5f6dd6052a4c",
   "metadata": {},
   "outputs": [
    {
     "data": {
      "text/plain": [
       "Dataset({\n",
       "    features: ['instruction', 'context', 'response', 'category'],\n",
       "    num_rows: 15011\n",
       "})"
      ]
     },
     "execution_count": 2,
     "metadata": {},
     "output_type": "execute_result"
    }
   ],
   "source": [
    "dataset = load_dataset(\"databricks/databricks-dolly-15k\")[\"train\"]\n",
    "dataset"
   ]
  },
  {
   "cell_type": "code",
   "execution_count": 5,
   "id": "7fa3da3c-0003-42af-b191-5776ca9ad7df",
   "metadata": {},
   "outputs": [],
   "source": [
    "new_df = dataset.filter(lambda row: row['category']=='creative_writing').to_pandas().sample(n=100, random_state=2)\n",
    "# new_df.to_csv('data/dolly_creative_prompts_sample.tsv', sep='\\t', index=True)"
   ]
  },
  {
   "cell_type": "code",
   "execution_count": 61,
   "id": "e6cace24-e797-4b2a-9cad-d53a30d935f3",
   "metadata": {},
   "outputs": [
    {
     "data": {
      "application/vnd.jupyter.widget-view+json": {
       "model_id": "08a18e5bd11541c1a0547e8fda62542d",
       "version_major": 2,
       "version_minor": 0
      },
      "text/plain": [
       "Filter:   0%|          | 0/15011 [00:00<?, ? examples/s]"
      ]
     },
     "metadata": {},
     "output_type": "display_data"
    },
    {
     "data": {
      "text/html": [
       "<div>\n",
       "<style scoped>\n",
       "    .dataframe tbody tr th:only-of-type {\n",
       "        vertical-align: middle;\n",
       "    }\n",
       "\n",
       "    .dataframe tbody tr th {\n",
       "        vertical-align: top;\n",
       "    }\n",
       "\n",
       "    .dataframe thead th {\n",
       "        text-align: right;\n",
       "    }\n",
       "</style>\n",
       "<table border=\"1\" class=\"dataframe\">\n",
       "  <thead>\n",
       "    <tr style=\"text-align: right;\">\n",
       "      <th></th>\n",
       "      <th>instruction</th>\n",
       "      <th>context</th>\n",
       "      <th>response</th>\n",
       "      <th>category</th>\n",
       "    </tr>\n",
       "  </thead>\n",
       "  <tbody>\n",
       "    <tr>\n",
       "      <th>0</th>\n",
       "      <td>Make a bullet list of 5 gifts you can give som...</td>\n",
       "      <td></td>\n",
       "      <td>- Chocolates\\n- Bouquet of Roses\\n- Stuffed an...</td>\n",
       "      <td>brainstorming</td>\n",
       "    </tr>\n",
       "    <tr>\n",
       "      <th>1</th>\n",
       "      <td>What are the names of five of the best Pokemon...</td>\n",
       "      <td></td>\n",
       "      <td>1) Tera Arcanine EX (it's very powerful)\\n2) T...</td>\n",
       "      <td>brainstorming</td>\n",
       "    </tr>\n",
       "    <tr>\n",
       "      <th>2</th>\n",
       "      <td>Polly, a 51-year-old female, visits your fitne...</td>\n",
       "      <td></td>\n",
       "      <td>Instead of jumping to intense workout regimens...</td>\n",
       "      <td>brainstorming</td>\n",
       "    </tr>\n",
       "    <tr>\n",
       "      <th>3</th>\n",
       "      <td>A lead or A manager?</td>\n",
       "      <td></td>\n",
       "      <td>Both are importent,\\n\\n1. A manager is importa...</td>\n",
       "      <td>brainstorming</td>\n",
       "    </tr>\n",
       "    <tr>\n",
       "      <th>4</th>\n",
       "      <td>Who are the last three french presidents ?</td>\n",
       "      <td></td>\n",
       "      <td>Nicolas Sarkozy was the president from May 200...</td>\n",
       "      <td>brainstorming</td>\n",
       "    </tr>\n",
       "    <tr>\n",
       "      <th>...</th>\n",
       "      <td>...</td>\n",
       "      <td>...</td>\n",
       "      <td>...</td>\n",
       "      <td>...</td>\n",
       "    </tr>\n",
       "    <tr>\n",
       "      <th>95</th>\n",
       "      <td>Give me a list of the last 10 mens college hoc...</td>\n",
       "      <td></td>\n",
       "      <td>2022 Denver; 2021 Massachusetts; 2019 Minnesot...</td>\n",
       "      <td>brainstorming</td>\n",
       "    </tr>\n",
       "    <tr>\n",
       "      <th>96</th>\n",
       "      <td>Can cars have odd number of wheels?</td>\n",
       "      <td></td>\n",
       "      <td>Cars are vehicles that allow you to commute fr...</td>\n",
       "      <td>brainstorming</td>\n",
       "    </tr>\n",
       "    <tr>\n",
       "      <th>97</th>\n",
       "      <td>Give me a list of the top five most followed p...</td>\n",
       "      <td></td>\n",
       "      <td>1. Cristiano Ronaldo, 567 millions\\n2. Lionel ...</td>\n",
       "      <td>brainstorming</td>\n",
       "    </tr>\n",
       "    <tr>\n",
       "      <th>98</th>\n",
       "      <td>My computer won't start. How do I fix it?</td>\n",
       "      <td></td>\n",
       "      <td>First check that the computer is plugged in. I...</td>\n",
       "      <td>brainstorming</td>\n",
       "    </tr>\n",
       "    <tr>\n",
       "      <th>99</th>\n",
       "      <td>What are some ways to get promoted at your job?</td>\n",
       "      <td></td>\n",
       "      <td>To get promoted at work you have to first be s...</td>\n",
       "      <td>brainstorming</td>\n",
       "    </tr>\n",
       "  </tbody>\n",
       "</table>\n",
       "<p>100 rows × 4 columns</p>\n",
       "</div>"
      ],
      "text/plain": [
       "                                          instruction context  \\\n",
       "0   Make a bullet list of 5 gifts you can give som...           \n",
       "1   What are the names of five of the best Pokemon...           \n",
       "2   Polly, a 51-year-old female, visits your fitne...           \n",
       "3                                A lead or A manager?           \n",
       "4          Who are the last three french presidents ?           \n",
       "..                                                ...     ...   \n",
       "95  Give me a list of the last 10 mens college hoc...           \n",
       "96                Can cars have odd number of wheels?           \n",
       "97  Give me a list of the top five most followed p...           \n",
       "98          My computer won't start. How do I fix it?           \n",
       "99    What are some ways to get promoted at your job?           \n",
       "\n",
       "                                             response       category  \n",
       "0   - Chocolates\\n- Bouquet of Roses\\n- Stuffed an...  brainstorming  \n",
       "1   1) Tera Arcanine EX (it's very powerful)\\n2) T...  brainstorming  \n",
       "2   Instead of jumping to intense workout regimens...  brainstorming  \n",
       "3   Both are importent,\\n\\n1. A manager is importa...  brainstorming  \n",
       "4   Nicolas Sarkozy was the president from May 200...  brainstorming  \n",
       "..                                                ...            ...  \n",
       "95  2022 Denver; 2021 Massachusetts; 2019 Minnesot...  brainstorming  \n",
       "96  Cars are vehicles that allow you to commute fr...  brainstorming  \n",
       "97  1. Cristiano Ronaldo, 567 millions\\n2. Lionel ...  brainstorming  \n",
       "98  First check that the computer is plugged in. I...  brainstorming  \n",
       "99  To get promoted at work you have to first be s...  brainstorming  \n",
       "\n",
       "[100 rows x 4 columns]"
      ]
     },
     "execution_count": 61,
     "metadata": {},
     "output_type": "execute_result"
    }
   ],
   "source": [
    "new_df = dataset.filter(lambda row: row['category']=='brainstorming').to_pandas().sample(n=100, random_state=2)\n",
    "new_df"
   ]
  },
  {
   "cell_type": "code",
   "execution_count": null,
   "id": "5d389358-27d8-4fcb-bfe2-342d18234dca",
   "metadata": {},
   "outputs": [],
   "source": []
  }
 ],
 "metadata": {
  "kernelspec": {
   "display_name": "Python 3 (ipykernel)",
   "language": "python",
   "name": "python3"
  },
  "language_info": {
   "codemirror_mode": {
    "name": "ipython",
    "version": 3
   },
   "file_extension": ".py",
   "mimetype": "text/x-python",
   "name": "python",
   "nbconvert_exporter": "python",
   "pygments_lexer": "ipython3",
   "version": "3.10.14"
  }
 },
 "nbformat": 4,
 "nbformat_minor": 5
}
