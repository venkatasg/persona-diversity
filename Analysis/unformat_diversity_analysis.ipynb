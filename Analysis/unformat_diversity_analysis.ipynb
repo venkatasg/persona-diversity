{
 "cells": [
  {
   "cell_type": "code",
   "execution_count": 6,
   "id": "6b2ac6a1-081d-45f3-a091-56a4aaa8829b",
   "metadata": {},
   "outputs": [],
   "source": [
    "import pandas as pd\n",
    "import random\n",
    "import numpy as np\n",
    "from tqdm import tqdm\n",
    "import ipdb\n",
    "import re\n",
    "from datasets import load_dataset\n",
    "import os\n",
    "from diversity import compression_ratio, ngram_diversity_score, extract_patterns, get_pos, pos_patterns, token_patterns, self_repetition_score\n",
    "import json\n",
    "from collections import Counter\n",
    "from random import shuffle\n",
    "import markdown\n",
    "from bs4 import BeautifulSoup\n",
    "import emoji\n",
    "\n",
    "tqdm.pandas()\n",
    "\n",
    "import matplotlib.pyplot as plt\n",
    "# import mplcursors\n",
    "import seaborn as sns\n",
    "%matplotlib inline\n",
    "sns.set(style='darkgrid', context='notebook', rc={'figure.figsize':(14,10)}, font_scale=2)\n",
    "\n",
    "pd.set_option('display.max_rows', 100)\n",
    "pd.set_option('display.max_columns', 100)\n",
    "pd.set_option('display.width', None)\n",
    "pd.set_option('display.max_colwidth', None)\n",
    "pd.set_option('chained_assignment',None)\n",
    "\n",
    "# Set random seeds for reproducibility on a specific machine\n",
    "random.seed(1)\n",
    "np.random.seed(1)\n",
    "np.random.RandomState(1)\n",
    "np.set_printoptions(precision=3)"
   ]
  },
  {
   "cell_type": "code",
   "execution_count": 2,
   "id": "3a24c7ef-0cf7-4d8b-9ac4-09d9ad0dbe7f",
   "metadata": {},
   "outputs": [],
   "source": [
    "def calc_cr_nds_sr(responses):\n",
    "    cr = compression_ratio(responses, 'gzip')\n",
    "    nds = ngram_diversity_score(responses, 4)\n",
    "    #CR-POS\n",
    "    joined_pos, tuples = get_pos(responses)\n",
    "    # ngrams_pos = token_patterns(joined_pos, 5, 10)\n",
    "    cr_pos = compression_ratio(joined_pos, 'gzip')\n",
    "    srep = self_repetition_score(responses, verbose=False)\n",
    "    return cr, cr_pos, nds, srep\n",
    "\n",
    "def calc_diversity(df, num_shuffles=10):\n",
    "    '''\n",
    "    Randomly assigns personas with prompts, calculates metrics over responses for these\n",
    "    pairings, then calculates mean and S.D over 10 different random pairings\n",
    "    '''\n",
    "    random.seed(1)\n",
    "    crs = []\n",
    "    ndss = []\n",
    "    crs_pos = []\n",
    "    sreps = []\n",
    "    new_df = df.set_index(['persona_id', 'prompt_id'])\n",
    "    for _ in tqdm(range(num_shuffles)):\n",
    "        # Get random personas paired with every prompt\n",
    "        persona_ids_shuffled = [i for i in range(100)]\n",
    "        random.shuffle(persona_ids_shuffled)\n",
    "        prompt_ids = [i for i in range(100)]\n",
    "        pairs = list(zip(persona_ids_shuffled, prompt_ids))\n",
    "        responses = new_df.loc[pairs, 'response'].values.tolist()\n",
    "        \n",
    "        # Calculate metrics\n",
    "        cr, cr_pos, nds, srep = calc_cr_nds_sr(responses)\n",
    "    \n",
    "        crs.append(cr)\n",
    "        ndss.append(nds)\n",
    "        crs_pos.append(cr_pos)\n",
    "        sreps.append(srep)\n",
    "    \n",
    "    print(f\"CR: {np.round(np.mean(crs),2)} ± {np.round(np.std(crs),2)}\\nCR-POS: {np.round(np.mean(crs_pos),2)} ± {np.round(np.std(crs_pos),2)}\\nNDS: {np.round(np.mean(ndss),2)} ± {np.round(np.std(ndss),2)}\\nSelf-rep:{np.round(np.mean(sreps),2)} ± {np.round(np.std(sreps),2)}\")"
   ]
  },
  {
   "cell_type": "markdown",
   "id": "af8f0b56-9c5f-4f23-a51d-ae53a9d9458e",
   "metadata": {},
   "source": [
    "## Dolly human responses"
   ]
  },
  {
   "cell_type": "code",
   "execution_count": 3,
   "id": "87eebce1-cd67-49bc-96b9-f4d10a5105e1",
   "metadata": {},
   "outputs": [],
   "source": [
    "with open('../data/sample_personas.txt', 'r') as f:\n",
    "    personas = [x.strip() for x in f.readlines()]\n",
    "dolly = load_dataset(\"databricks/databricks-dolly-15k\")[\"train\"].filter(lambda row: row['category']=='creative_writing').to_pandas()\n",
    "sample = pd.read_csv('../data/dolly_creative_prompts_sample.tsv', sep='\\t')\n",
    "sample['response'] = sample['index'].apply(lambda x: dolly.loc[x, 'response'])\n",
    "sample['prompt_id'] = [i for i in range(len(sample))]\n",
    "prompts = sample['instruction'].values.tolist()"
   ]
  },
  {
   "cell_type": "code",
   "execution_count": null,
   "id": "f178277a-9cdc-4987-ad65-ee18cd4176d3",
   "metadata": {},
   "outputs": [],
   "source": [
    "# No persona, no cutoff\n",
    "np70_df = pd.read_csv('../output/llama-temp0.7/llama70b-np/Llama-3.3-70B-Instruct-Turbo_dolly_output.tsv', sep='\\t')\n",
    "np70_df['response'] = np70_df.response.apply(lambda x: x.strip())\n",
    "np70_df = np70_df.drop_duplicates(subset=['prompt_id', 'persona_id'], keep='first')\n",
    "cr, cr_pos, nds, srep = calc_cr_nds_sr(np70_df['response'].values.tolist())\n",
    "print(f\"CR: {np.round(cr,2)}\\nCR-POS: {np.round(cr_pos,2)}\\nNDS: {np.round(nds,2)}\\nSelf-rep: {np.round(srep, 2)}\")"
   ]
  },
  {
   "cell_type": "code",
   "execution_count": null,
   "id": "8434efba-be0d-4a80-b553-3c310b6f4015",
   "metadata": {},
   "outputs": [],
   "source": [
    "# No persona with cutoff\n",
    "npc70_df = pd.read_csv('../output/llama-temp0.7/llama70b-cutoff-np/Llama-3.3-70B-Instruct-Turbo_dolly_output.tsv', sep='\\t')\n",
    "npc70_df['response'] = npc70_df.response.apply(lambda x: x.strip())\n",
    "npc70_df = npc70_df.drop_duplicates(subset=['prompt_id', 'persona_id'], keep='first')\n",
    "cr, cr_pos, nds, srep = calc_cr_nds_sr(npc70_df['response'].values.tolist())\n",
    "print(f\"CR: {np.round(cr,2)}\\nCR-POS: {np.round(cr_pos,2)}\\nNDS: {np.round(nds,2)}\\nSelf-rep: {np.round(srep, 2)}\")"
   ]
  },
  {
   "cell_type": "code",
   "execution_count": null,
   "id": "d70942c7-e812-4b7e-8aa5-32c0cd26fbd6",
   "metadata": {},
   "outputs": [],
   "source": [
    "persona70_df = pd.read_csv('../output/llama-temp0.7/llama70b-persona/Llama-3.3-70B-Instruct-Turbo_dolly_output.tsv', sep='\\t')\n",
    "persona70_df['response'] = persona70_df.response.apply(lambda x: x.strip())\n",
    "persona70_df = persona70_df.drop_duplicates(subset=['prompt_id', 'persona_id'], keep='first')\n",
    "calc_diversity(persona70_df, num_shuffles=100)"
   ]
  },
  {
   "cell_type": "code",
   "execution_count": null,
   "id": "6d9439fd-6c86-4e8d-98fe-1ee21ed7652a",
   "metadata": {},
   "outputs": [],
   "source": [
    "# Persona plus cutoff\n",
    "personac70_df = pd.read_csv('../output/llama-temp0.7/llama70b-cutoff-persona/Llama-3.3-70B-Instruct-Turbo_dolly_output.tsv', sep='\\t')\n",
    "personac70_df['response'] = personac70_df.response.apply(lambda x: x.strip())\n",
    "calc_diversity(personac70_df, num_shuffles=100)"
   ]
  },
  {
   "cell_type": "code",
   "execution_count": null,
   "id": "4e0b8eaa-a50e-4348-b139-0f84912ad806",
   "metadata": {},
   "outputs": [],
   "source": [
    "# Coarse personas plus cutoff\n",
    "persona70_df_coarse = pd.read_csv('../output/coarse/llama-cutoff-persona/Llama-3.3-70B-Instruct-Turbo_dolly_output.tsv', sep='\\t')\n",
    "persona70_df_coarse['response'] = persona70_df_coarse.response.apply(lambda x: x.strip())\n",
    "persona70_df_coarse = persona70_df_coarse.drop_duplicates(subset=['prompt_id', 'persona_id'], keep='first')\n",
    "calc_diversity(persona70_df_coarse, num_shuffles=100)"
   ]
  },
  {
   "cell_type": "markdown",
   "id": "8002f398-ec29-407c-bb0d-362c57f54f4b",
   "metadata": {},
   "source": [
    "## Deepseek"
   ]
  },
  {
   "cell_type": "code",
   "execution_count": 41,
   "id": "ebc4fa96-3270-40e4-bbba-051531924ce2",
   "metadata": {},
   "outputs": [],
   "source": [
    "def unformat(text):\n",
    "    html = markdown.markdown(text.strip())\n",
    "    soup = BeautifulSoup(html, features='html.parser')\n",
    "    unformatted_text = soup.get_text()\n",
    "    final_text = emoji.replace_emoji(unformatted_text, replace='').replace('\\n', ' ')\n",
    "    return final_text"
   ]
  },
  {
   "cell_type": "code",
   "execution_count": 42,
   "id": "23c10561-66b5-4d44-94ff-b6ab7822c862",
   "metadata": {},
   "outputs": [
    {
     "name": "stdout",
     "output_type": "stream",
     "text": [
      "CR: 2.32\n",
      "CR-POS: 5.07\n",
      "NDS: 3.13\n",
      "Self-rep: 0.85\n"
     ]
    }
   ],
   "source": [
    "# No persona, no cutoff\n",
    "deep_npnc = pd.read_csv('../output/deepseek-np/DeepSeek-V3_dolly_output.tsv', sep='\\t')\n",
    "deep_npnc['response'] = deep_npnc.response.apply(lambda x: unformat(x))\n",
    "cr, cr_pos, nds, srep = calc_cr_nds_sr(deep_npnc['response'].values.tolist())\n",
    "print(f\"CR: {np.round(cr,2)}\\nCR-POS: {np.round(cr_pos,2)}\\nNDS: {np.round(nds,2)}\\nSelf-rep: {np.round(srep, 2)}\")"
   ]
  },
  {
   "cell_type": "code",
   "execution_count": 43,
   "id": "417d8b38-6756-449d-9917-7d46941bc6b7",
   "metadata": {},
   "outputs": [
    {
     "name": "stdout",
     "output_type": "stream",
     "text": [
      "CR: 2.28\n",
      "CR-POS: 4.74\n",
      "NDS: 3.27\n",
      "Self-rep: 0.11\n"
     ]
    }
   ],
   "source": [
    "# No persona, cutoff\n",
    "deep_npc = pd.read_csv('../output/deepseek-np-cutoff/DeepSeek-V3_dolly_output.tsv', sep='\\t')\n",
    "deep_npc['response'] = deep_npc.response.apply(lambda x: unformat(x))\n",
    "cr, cr_pos, nds, srep = calc_cr_nds_sr(deep_npc['response'].values.tolist())\n",
    "print(f\"CR: {np.round(cr,2)}\\nCR-POS: {np.round(cr_pos,2)}\\nNDS: {np.round(nds,2)}\\nSelf-rep: {np.round(srep, 2)}\")"
   ]
  },
  {
   "cell_type": "code",
   "execution_count": 11,
   "id": "8fe93f98-e227-4b34-954f-4a78f6a2ee84",
   "metadata": {},
   "outputs": [
    {
     "name": "stderr",
     "output_type": "stream",
     "text": [
      "100%|█████████████████████████████████████████████████████████████████████████████████████████████| 100/100 [09:17<00:00,  5.57s/it]"
     ]
    },
    {
     "name": "stdout",
     "output_type": "stream",
     "text": [
      "CR: 2.2 ± 0.02\n",
      "CR-POS: 4.64 ± 0.03\n",
      "NDS: 3.4 ± 0.01\n",
      "Self-rep:0.09 ± 0.04\n"
     ]
    },
    {
     "name": "stderr",
     "output_type": "stream",
     "text": [
      "\n"
     ]
    }
   ],
   "source": [
    "# Persona cutoff\n",
    "deep_pc = pd.read_csv('../output/deepseek-cutoff-persona/DeepSeek-V3_dolly_output.tsv', sep='\\t')\n",
    "deep_pc['response'] = deep_pc.response.apply(lambda x: unformat(x))\n",
    "deep_pc = deep_pc.drop_duplicates(subset=['prompt_id', 'persona_id'])\n",
    "calc_diversity(deep_pc, 100)"
   ]
  },
  {
   "cell_type": "code",
   "execution_count": 12,
   "id": "357b87a6-f7e7-40cb-9b23-c8492890e3ba",
   "metadata": {},
   "outputs": [
    {
     "name": "stderr",
     "output_type": "stream",
     "text": [
      "100%|█████████████████████████████████████████████████████████████████████████████████████████████| 100/100 [09:18<00:00,  5.59s/it]"
     ]
    },
    {
     "name": "stdout",
     "output_type": "stream",
     "text": [
      "CR: 2.21 ± 0.02\n",
      "CR-POS: 4.68 ± 0.03\n",
      "NDS: 3.39 ± 0.02\n",
      "Self-rep:0.09 ± 0.04\n"
     ]
    },
    {
     "name": "stderr",
     "output_type": "stream",
     "text": [
      "\n"
     ]
    }
   ],
   "source": [
    "# Coarse persona cutoff\n",
    "deep_pc_coarse = pd.read_csv('../output/coarse/deepseek-cutoff-persona/DeepSeek-V3_dolly_output.tsv', sep='\\t')\n",
    "deep_pc_coarse['response'] = deep_pc_coarse.response.apply(lambda x: unformat(x))\n",
    "deep_pc_coarse = deep_pc_coarse.drop_duplicates(subset=['prompt_id', 'persona_id'])\n",
    "calc_diversity(deep_pc_coarse,100)"
   ]
  },
  {
   "cell_type": "code",
   "execution_count": 35,
   "id": "71fade0c-9b83-4bcf-a934-893bf3c633e4",
   "metadata": {},
   "outputs": [
    {
     "data": {
      "text/plain": [
       "(39, 96)"
      ]
     },
     "execution_count": 35,
     "metadata": {},
     "output_type": "execute_result"
    }
   ],
   "source": [
    "random.randint(0,100), random.randint(0,100)"
   ]
  },
  {
   "cell_type": "code",
   "execution_count": 36,
   "id": "d58e6008-6cda-41ea-9ae6-c810e6b05388",
   "metadata": {},
   "outputs": [
    {
     "data": {
      "text/plain": [
       "('How to stay calm in stressful situations ?',\n",
       " 'a savvy talent agent specializing in representing independent film directors')"
      ]
     },
     "execution_count": 36,
     "metadata": {},
     "output_type": "execute_result"
    }
   ],
   "source": [
    "prompts[39], personas[96]"
   ]
  },
  {
   "cell_type": "code",
   "execution_count": null,
   "id": "e31c9d2a-50d4-43af-a61d-080838bccee5",
   "metadata": {},
   "outputs": [],
   "source": [
    "len_df = {'len': [], 'source':[]}\n",
    "\n",
    "# Load all the human responses first.\n",
    "len_df['len'] += sample['response'].apply(lambda x: len(x)).values.tolist()\n",
    "len_df['source'] += ['Human responses' for _ in range(len(sample))]\n",
    "\n",
    "for (df, source_name) in [(deep_npc,'No persona+cutoff'), (deep_pc, 'Persona+cutoff'), (deep_pc_coarse, 'Coarse Persona+cutoff')]:\n",
    "    if df.shape[0]>100:\n",
    "        df['len'] = df.response.apply(lambda x: len(x))\n",
    "        len_df['len'] += df.loc[:, ['prompt_id', 'len']].groupby('prompt_id').mean().len.values.tolist()\n",
    "    else:\n",
    "        len_df['len'] += df['response'].apply(lambda x: len(x)).values.tolist()\n",
    "    len_df['source'] += [source_name for _ in range(100)]\n",
    "    \n",
    "len_df=pd.DataFrame(len_df)\n",
    "\n",
    "g = sns.kdeplot(len_df, x='len', hue='source', common_norm=False, fill=True, clip=[0,6000])\n",
    "g.set_xlabel('Completion length (chars)')\n",
    "g.set_ylabel('Density')\n",
    "g.spines[\"top\"].set_visible(False)\n",
    "g.spines[\"right\"].set_visible(False)\n",
    "g.spines[\"left\"].set_visible(False)\n",
    "g.set(yticklabels=[])\n",
    "g.grid(axis='x')\n",
    "# plt.legend([], [], frameon=False)\n",
    "plt.show()"
   ]
  },
  {
   "cell_type": "markdown",
   "id": "ff70fcd6-3dfd-4fc5-8603-83233bc76870",
   "metadata": {},
   "source": [
    "The above isn't right though, it makes the density look higher because i have more responses in the persona case 🤔"
   ]
  },
  {
   "cell_type": "code",
   "execution_count": null,
   "id": "113c50c6-033f-49d0-836b-09aa1988e51c",
   "metadata": {},
   "outputs": [],
   "source": [
    "len_df"
   ]
  },
  {
   "cell_type": "code",
   "execution_count": null,
   "id": "0b478c18-20d3-4221-9a7b-c4d6ace5557d",
   "metadata": {},
   "outputs": [],
   "source": [
    "deep_pc.loc[:, ['prompt_id', 'len']].groupby('prompt_id').mean().len.values.tolist()"
   ]
  },
  {
   "cell_type": "code",
   "execution_count": null,
   "id": "8381046c-de2d-475d-a651-801b0e20a4cc",
   "metadata": {},
   "outputs": [],
   "source": []
  },
  {
   "cell_type": "code",
   "execution_count": 37,
   "id": "d766d39f-ae17-4f59-8150-c1ff9246a0c2",
   "metadata": {},
   "outputs": [
    {
     "data": {
      "text/html": [
       "<div>\n",
       "<style scoped>\n",
       "    .dataframe tbody tr th:only-of-type {\n",
       "        vertical-align: middle;\n",
       "    }\n",
       "\n",
       "    .dataframe tbody tr th {\n",
       "        vertical-align: top;\n",
       "    }\n",
       "\n",
       "    .dataframe thead th {\n",
       "        text-align: right;\n",
       "    }\n",
       "</style>\n",
       "<table border=\"1\" class=\"dataframe\">\n",
       "  <thead>\n",
       "    <tr style=\"text-align: right;\">\n",
       "      <th></th>\n",
       "      <th>prompt_id</th>\n",
       "      <th>persona_id</th>\n",
       "      <th>response</th>\n",
       "    </tr>\n",
       "  </thead>\n",
       "  <tbody>\n",
       "    <tr>\n",
       "      <th>39</th>\n",
       "      <td>39</td>\n",
       "      <td>-1</td>\n",
       "      <td>Staying calm in stressful situations is a skill that can be developed with practice. Here are some effective strategies to help you manage stress and stay composed:  \\n1. Pause and Breathe\\n\\nTake deep breaths: Slow, deep breathing activates your parasympathetic nervous system, reducing stress. Try the 4-7-8 technique: Inhale for 4 seconds, hold for 7, exhale for 8.  \\nCount to 10: A brief pause gives your brain time to reset before reacting.  \\n\\n2. Ground Yourself in the Present\\n\\nUse the 5-4-3-2-1 technique: Name 5 things you see, 4 things you feel, 3 things you hear, 2 things you smell, and 1 thing you taste to bring your focus back to the present.  \\nMantras/Affirmations: Repeat a calming phrase like, \"This is temporary, I can handle this.\" \\n\\n3. Reframe Your Thoughts\\n\\nChallenge negative thinking: Ask yourself, \"Is this as bad as it seems?\" or \"What’s the worst that can happen?\" \\nFocus on solutions, not problems: Shift from \"This is too much\" to \"What’s the first step I can take?\" \\n\\n4. Control What You Can\\n\\nMake a quick action plan: Breaking tasks into smaller steps makes stress manageable.  \\nAccept what you can’t control: Some things are out of your hands—focus on reactions, not outcomes.  \\n\\n5. Use Physical Calming Techniques\\n\\nRelax your muscles: Tense and release each muscle group (progressive muscle relaxation).  \\nSplash cold water on your face: Triggers the \"dive reflex,\" slowing your heart rate.  \\nMove your body: A short walk or stretching can reduce stress hormones.  \\n\\n6. Shift Perspective\\n\\nAsk: \"Will this matter in 5 years?\" Often, stress feels bigger than it really is.  \\nHumor: Lightening the mood with a joke (even internally) can reduce tension.  \\n\\n7. Prepare for Future Stress\\n\\nPractice mindfulness/meditation: Regular practice builds resilience.  \\nTrain under pressure: Simulate stressful situations to improve response (e.g., public speaking practice).  \\n\\n8. Seek Support (If Needed)\\n\\nTalk to someone: Verbalizing stress can provide relief and new solutions.  \\nStep away if possible: A brief break (even 2 minutes) can help reset emotions.  \\n\\nQuick Reminder\\nStress is a reaction—not a life sentence. The calmer you stay, the better decisions you’ll make.  \\nWould you like specific tips for a particular situation (e.g., work, exams, conflicts)?</td>\n",
       "    </tr>\n",
       "  </tbody>\n",
       "</table>\n",
       "</div>"
      ],
      "text/plain": [
       "    prompt_id  persona_id  \\\n",
       "39         39          -1   \n",
       "\n",
       "                                                                                                                                                                                                                                                                                                                                                                                                                                                                                                                                                                                                                                                                                                                                                                                                                                                                                                                                                                                                                                                                                                                                                                                                                                                                                                                                                                                                                                                                                                                                                                                                                                                                                                                                                                                                                                                                                                                                                                                                                                                                                                                                                                                                                                                                                                                                                                                                                response  \n",
       "39  Staying calm in stressful situations is a skill that can be developed with practice. Here are some effective strategies to help you manage stress and stay composed:  \\n1. Pause and Breathe\\n\\nTake deep breaths: Slow, deep breathing activates your parasympathetic nervous system, reducing stress. Try the 4-7-8 technique: Inhale for 4 seconds, hold for 7, exhale for 8.  \\nCount to 10: A brief pause gives your brain time to reset before reacting.  \\n\\n2. Ground Yourself in the Present\\n\\nUse the 5-4-3-2-1 technique: Name 5 things you see, 4 things you feel, 3 things you hear, 2 things you smell, and 1 thing you taste to bring your focus back to the present.  \\nMantras/Affirmations: Repeat a calming phrase like, \"This is temporary, I can handle this.\" \\n\\n3. Reframe Your Thoughts\\n\\nChallenge negative thinking: Ask yourself, \"Is this as bad as it seems?\" or \"What’s the worst that can happen?\" \\nFocus on solutions, not problems: Shift from \"This is too much\" to \"What’s the first step I can take?\" \\n\\n4. Control What You Can\\n\\nMake a quick action plan: Breaking tasks into smaller steps makes stress manageable.  \\nAccept what you can’t control: Some things are out of your hands—focus on reactions, not outcomes.  \\n\\n5. Use Physical Calming Techniques\\n\\nRelax your muscles: Tense and release each muscle group (progressive muscle relaxation).  \\nSplash cold water on your face: Triggers the \"dive reflex,\" slowing your heart rate.  \\nMove your body: A short walk or stretching can reduce stress hormones.  \\n\\n6. Shift Perspective\\n\\nAsk: \"Will this matter in 5 years?\" Often, stress feels bigger than it really is.  \\nHumor: Lightening the mood with a joke (even internally) can reduce tension.  \\n\\n7. Prepare for Future Stress\\n\\nPractice mindfulness/meditation: Regular practice builds resilience.  \\nTrain under pressure: Simulate stressful situations to improve response (e.g., public speaking practice).  \\n\\n8. Seek Support (If Needed)\\n\\nTalk to someone: Verbalizing stress can provide relief and new solutions.  \\nStep away if possible: A brief break (even 2 minutes) can help reset emotions.  \\n\\nQuick Reminder\\nStress is a reaction—not a life sentence. The calmer you stay, the better decisions you’ll make.  \\nWould you like specific tips for a particular situation (e.g., work, exams, conflicts)?  "
      ]
     },
     "execution_count": 37,
     "metadata": {},
     "output_type": "execute_result"
    }
   ],
   "source": [
    "deep_npnc[deep_npnc.prompt_id==39]"
   ]
  },
  {
   "cell_type": "code",
   "execution_count": 38,
   "id": "ee54112e-8521-479d-8d73-acb1804069ee",
   "metadata": {},
   "outputs": [
    {
     "data": {
      "text/html": [
       "<div>\n",
       "<style scoped>\n",
       "    .dataframe tbody tr th:only-of-type {\n",
       "        vertical-align: middle;\n",
       "    }\n",
       "\n",
       "    .dataframe tbody tr th {\n",
       "        vertical-align: top;\n",
       "    }\n",
       "\n",
       "    .dataframe thead th {\n",
       "        text-align: right;\n",
       "    }\n",
       "</style>\n",
       "<table border=\"1\" class=\"dataframe\">\n",
       "  <thead>\n",
       "    <tr style=\"text-align: right;\">\n",
       "      <th></th>\n",
       "      <th>prompt_id</th>\n",
       "      <th>persona_id</th>\n",
       "      <th>response</th>\n",
       "    </tr>\n",
       "  </thead>\n",
       "  <tbody>\n",
       "    <tr>\n",
       "      <th>39</th>\n",
       "      <td>39</td>\n",
       "      <td>-1</td>\n",
       "      <td>To stay calm in stressful situations:\\n1. Breathe deeply to slow your heart rate.\\n2. Pause before reacting—take a moment to assess.\\n3. Reframe thoughts—focus on solutions, not problems.\\n4. Prioritize tasks—break them into manageable steps.\\n5. Practice mindfulness or quick meditation.\\n6. Use positive self-talk to stay composed.\\n7. Take breaks to recharge when needed.  \\nStaying calm improves decision-making and reduces stress.</td>\n",
       "    </tr>\n",
       "  </tbody>\n",
       "</table>\n",
       "</div>"
      ],
      "text/plain": [
       "    prompt_id  persona_id  \\\n",
       "39         39          -1   \n",
       "\n",
       "                                                                                                                                                                                                                                                                                                                                                                                                                                               response  \n",
       "39  To stay calm in stressful situations:\\n1. Breathe deeply to slow your heart rate.\\n2. Pause before reacting—take a moment to assess.\\n3. Reframe thoughts—focus on solutions, not problems.\\n4. Prioritize tasks—break them into manageable steps.\\n5. Practice mindfulness or quick meditation.\\n6. Use positive self-talk to stay composed.\\n7. Take breaks to recharge when needed.  \\nStaying calm improves decision-making and reduces stress.  "
      ]
     },
     "execution_count": 38,
     "metadata": {},
     "output_type": "execute_result"
    }
   ],
   "source": [
    "deep_npc[deep_npc.prompt_id==39]"
   ]
  },
  {
   "cell_type": "code",
   "execution_count": 39,
   "id": "b1f9d613-8df4-48ea-a1ce-58f8930bf607",
   "metadata": {},
   "outputs": [
    {
     "data": {
      "text/html": [
       "<div>\n",
       "<style scoped>\n",
       "    .dataframe tbody tr th:only-of-type {\n",
       "        vertical-align: middle;\n",
       "    }\n",
       "\n",
       "    .dataframe tbody tr th {\n",
       "        vertical-align: top;\n",
       "    }\n",
       "\n",
       "    .dataframe thead th {\n",
       "        text-align: right;\n",
       "    }\n",
       "</style>\n",
       "<table border=\"1\" class=\"dataframe\">\n",
       "  <thead>\n",
       "    <tr style=\"text-align: right;\">\n",
       "      <th></th>\n",
       "      <th>prompt_id</th>\n",
       "      <th>persona_id</th>\n",
       "      <th>response</th>\n",
       "    </tr>\n",
       "  </thead>\n",
       "  <tbody>\n",
       "    <tr>\n",
       "      <th>9639</th>\n",
       "      <td>39</td>\n",
       "      <td>96</td>\n",
       "      <td>In high-stress moments—like a blown budget or a temperamental A-lister—I ground myself with deep breaths and focus on solutions, not panic. I remind my directors (and myself) that stress is temporary; the film isn’t. Preparation is key: anticipate fires before they spark. And humor? Always. A quick laugh diffuses tension. Stay cool, stay sharp—your clarity keeps the set steady. That’s how we turn chaos into art.</td>\n",
       "    </tr>\n",
       "  </tbody>\n",
       "</table>\n",
       "</div>"
      ],
      "text/plain": [
       "      prompt_id  persona_id  \\\n",
       "9639         39          96   \n",
       "\n",
       "                                                                                                                                                                                                                                                                                                                                                                                                                             response  \n",
       "9639  In high-stress moments—like a blown budget or a temperamental A-lister—I ground myself with deep breaths and focus on solutions, not panic. I remind my directors (and myself) that stress is temporary; the film isn’t. Preparation is key: anticipate fires before they spark. And humor? Always. A quick laugh diffuses tension. Stay cool, stay sharp—your clarity keeps the set steady. That’s how we turn chaos into art.  "
      ]
     },
     "execution_count": 39,
     "metadata": {},
     "output_type": "execute_result"
    }
   ],
   "source": [
    "deep_pc[((deep_pc.prompt_id==39) & (deep_pc.persona_id==96))]"
   ]
  },
  {
   "cell_type": "code",
   "execution_count": 40,
   "id": "651e2ab3-755e-4f9d-8370-8c69b38db3ff",
   "metadata": {},
   "outputs": [
    {
     "data": {
      "text/html": [
       "<div>\n",
       "<style scoped>\n",
       "    .dataframe tbody tr th:only-of-type {\n",
       "        vertical-align: middle;\n",
       "    }\n",
       "\n",
       "    .dataframe tbody tr th {\n",
       "        vertical-align: top;\n",
       "    }\n",
       "\n",
       "    .dataframe thead th {\n",
       "        text-align: right;\n",
       "    }\n",
       "</style>\n",
       "<table border=\"1\" class=\"dataframe\">\n",
       "  <thead>\n",
       "    <tr style=\"text-align: right;\">\n",
       "      <th></th>\n",
       "      <th>prompt_id</th>\n",
       "      <th>persona_id</th>\n",
       "      <th>response</th>\n",
       "    </tr>\n",
       "  </thead>\n",
       "  <tbody>\n",
       "    <tr>\n",
       "      <th>9638</th>\n",
       "      <td>39</td>\n",
       "      <td>96</td>\n",
       "      <td>\"Stay sharp under pressure by breathing deeply and focusing on what you can control. Visualize success—confidence is key. Prioritize tasks, delegate when possible, and trust your prep. Take quick mental breaks to reset; even 10 seconds can recharge you. Remember, stress is adrenaline—harness it to perform, not panic. Always keep your endgame in sight. Clients and deals thrive on your calm, so own it like the pro you are.\"</td>\n",
       "    </tr>\n",
       "  </tbody>\n",
       "</table>\n",
       "</div>"
      ],
      "text/plain": [
       "      prompt_id  persona_id  \\\n",
       "9638         39          96   \n",
       "\n",
       "                                                                                                                                                                                                                                                                                                                                                                                                                                       response  \n",
       "9638  \"Stay sharp under pressure by breathing deeply and focusing on what you can control. Visualize success—confidence is key. Prioritize tasks, delegate when possible, and trust your prep. Take quick mental breaks to reset; even 10 seconds can recharge you. Remember, stress is adrenaline—harness it to perform, not panic. Always keep your endgame in sight. Clients and deals thrive on your calm, so own it like the pro you are.\"  "
      ]
     },
     "execution_count": 40,
     "metadata": {},
     "output_type": "execute_result"
    }
   ],
   "source": [
    "deep_pc_coarse[((deep_pc_coarse.prompt_id==39) & (deep_pc_coarse.persona_id==96))]"
   ]
  },
  {
   "cell_type": "code",
   "execution_count": null,
   "id": "ca2eb088-9d62-48ed-8445-0a4259a4ff42",
   "metadata": {},
   "outputs": [],
   "source": [
    "print(hom_bs(data, batch_size=16, verbose=args.noverb))"
   ]
  },
  {
   "cell_type": "code",
   "execution_count": null,
   "id": "16002e6d-74e6-41e6-b4e1-9c2b83b88ba6",
   "metadata": {},
   "outputs": [],
   "source": [
    "if df.persona_id.unique().shape[0]==1:\n",
    "    data = df.response.values.tolist()\n",
    "    print(hom_bs(data, batch_size=args.batch, verbose=args.noverb))\n",
    "else:\n",
    "    bs_scores = []\n",
    "    random.seed(1)\n",
    "    for _ in range(args.num_shuffles):\n",
    "        persona_ids_shuffled = [i for i in range(100)]\n",
    "        random.shuffle(persona_ids_shuffled)\n",
    "        prompt_ids = [i for i in range(100)]\n",
    "        pairs = list(zip(persona_ids_shuffled, prompt_ids))\n",
    "        \n",
    "        new_df = df.set_index(['persona_id', 'prompt_id'])\n",
    "        data = new_df.loc[pairs, 'response'].values.tolist()\n",
    "        bs_scores.append(hom_bs(data, batch_size=args.batch, verbose=args.noverb))\n",
    "    print(bs_scores)\n",
    "    print(f\"Mean:{np.round(np.mean(bs_scores),2)}, SD: {np.round(np.std(bs_scores),3)}\")"
   ]
  }
 ],
 "metadata": {
  "kernelspec": {
   "display_name": "Python 3 (ipykernel)",
   "language": "python",
   "name": "python3"
  },
  "language_info": {
   "codemirror_mode": {
    "name": "ipython",
    "version": 3
   },
   "file_extension": ".py",
   "mimetype": "text/x-python",
   "name": "python",
   "nbconvert_exporter": "python",
   "pygments_lexer": "ipython3",
   "version": "3.11.0"
  }
 },
 "nbformat": 4,
 "nbformat_minor": 5
}
