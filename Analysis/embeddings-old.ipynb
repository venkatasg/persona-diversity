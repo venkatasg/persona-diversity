{
 "cells": [
  {
   "cell_type": "code",
   "execution_count": 1,
   "id": "5c38b414-d030-4d67-a2a2-c243d9798564",
   "metadata": {},
   "outputs": [],
   "source": [
    "import torch\n",
    "from transformers import (\n",
    "    AutoModel,\n",
    "    AutoTokenizer,\n",
    ")\n",
    "from datasets import load_dataset\n",
    "import pandas as pd\n",
    "import pandas as pd\n",
    "import random\n",
    "import numpy as np\n",
    "from tqdm import tqdm\n",
    "import ipdb\n",
    "import re\n",
    "import umap\n",
    "\n",
    "import matplotlib.pyplot as plt\n",
    "# import mplcursors\n",
    "import seaborn as sns\n",
    "%matplotlib inline\n",
    "sns.set(style='darkgrid', context='notebook', rc={'figure.figsize':(14,10)}, font_scale=2)\n",
    "\n",
    "pd.set_option('display.max_rows', 100)\n",
    "pd.set_option('display.max_columns', 100)\n",
    "pd.set_option('display.width', None)\n",
    "pd.set_option('display.max_colwidth', None)\n",
    "pd.set_option('chained_assignment',None)\n",
    "\n",
    "# Set random seeds for reproducibility on a specific machine\n",
    "random.seed(1)\n",
    "np.random.seed(1)\n",
    "np.random.RandomState(1)\n",
    "np.set_printoptions(precision=3)"
   ]
  },
  {
   "cell_type": "code",
   "execution_count": 2,
   "id": "b6579112-12bf-4607-9ca6-4a9ca907408c",
   "metadata": {},
   "outputs": [],
   "source": [
    "def mean_pooling(model_output, attention_mask):\n",
    "    token_embeddings = model_output[0]\n",
    "    input_mask_expanded = (\n",
    "        attention_mask.unsqueeze(-1).expand(token_embeddings.size()).float()\n",
    "    )\n",
    "    return torch.sum(token_embeddings * input_mask_expanded, 1) / torch.clamp(\n",
    "        input_mask_expanded.sum(1), min=1e-9\n",
    "    )\n",
    "\n",
    "\n",
    "def cls_pooling(model_output):\n",
    "    return model_output[0][:, 0]\n",
    "\n",
    "model_id = \"answerdotai/ModernBERT-base\"\n",
    "tokenizer = AutoTokenizer.from_pretrained(model_id)\n",
    "model = AutoModel.from_pretrained(model_id, torch_dtype=torch.float16)\n",
    "device='mps'\n",
    "model = model.to(device)\n",
    "\n",
    "def get_embedding(text, use_mean_pooling=True):\n",
    "   \n",
    "    inputs = tokenizer(\n",
    "        text, return_tensors=\"pt\", padding=True, truncation=True, max_length=512\n",
    "    )\n",
    "    inputs = {name: tensor.to(device) for name, tensor in inputs.items()}\n",
    "    with torch.no_grad():\n",
    "        model_output = model(**inputs)\n",
    "    if use_mean_pooling:\n",
    "        return mean_pooling(model_output, inputs[\"attention_mask\"])\n",
    "    return cls_pooling(model_output)\n",
    "\n",
    "\n",
    "def get_similarity(text1, text2, pooling_method, model_id):\n",
    "    use_mean_pooling = pooling_method == \"mean\"\n",
    "    embedding1 = get_embedding(text1, use_mean_pooling, model_id)\n",
    "    embedding2 = get_embedding(text2, use_mean_pooling, model_id)\n",
    "    return torch.nn.functional.cosine_similarity(embedding1, embedding2).item()"
   ]
  },
  {
   "cell_type": "markdown",
   "id": "8517c0d6-922d-4834-8cff-9b82b330b58e",
   "metadata": {},
   "source": [
    "## Let's load human and AI written texts first"
   ]
  },
  {
   "cell_type": "code",
   "execution_count": 3,
   "id": "d7513974-631d-4895-a387-6818978052e7",
   "metadata": {
    "scrolled": true
   },
   "outputs": [
    {
     "data": {
      "text/html": [
       "<div>\n",
       "<style scoped>\n",
       "    .dataframe tbody tr th:only-of-type {\n",
       "        vertical-align: middle;\n",
       "    }\n",
       "\n",
       "    .dataframe tbody tr th {\n",
       "        vertical-align: top;\n",
       "    }\n",
       "\n",
       "    .dataframe thead th {\n",
       "        text-align: right;\n",
       "    }\n",
       "</style>\n",
       "<table border=\"1\" class=\"dataframe\">\n",
       "  <thead>\n",
       "    <tr style=\"text-align: right;\">\n",
       "      <th></th>\n",
       "      <th>index</th>\n",
       "      <th>instruction</th>\n",
       "      <th>num_tokens</th>\n",
       "      <th>num_tokens_round</th>\n",
       "      <th>num_words_round</th>\n",
       "      <th>response</th>\n",
       "      <th>prompt_id</th>\n",
       "    </tr>\n",
       "  </thead>\n",
       "  <tbody>\n",
       "    <tr>\n",
       "      <th>0</th>\n",
       "      <td>525</td>\n",
       "      <td>Please propose an argument to convince my mother that she increases the amount of money that I get every month during my studies. I think the current amount is too low.</td>\n",
       "      <td>211</td>\n",
       "      <td>210</td>\n",
       "      <td>180</td>\n",
       "      <td>Dear Mum, I would like to talk to you about the monthly money I get for my studies. I am very grateful that you support me financially during my studies. At the same time, I feel that the current amount is a little bit too low in order to sustain myself. I estimated my monthly expenses and it seems like the money is not enough. We can go through the details if you want. I want to ask you if you can increase the amount so that I can cover my expenses. I understand if you cannot do this or have other reasons against this. However, I want you to know that if you do not increase my monthly money, I will be forced to work part-time next to my studies. There is research that shows that students who work part-time have worse grades than people who do not have to work part-time to afford their studies. I would love to dedicate my full time to my studies to get the best grades and learning outcomes possible; thus, I would prefer not to work part-time. What do you think?</td>\n",
       "      <td>0</td>\n",
       "    </tr>\n",
       "    <tr>\n",
       "      <th>1</th>\n",
       "      <td>172</td>\n",
       "      <td>Write a paragraph to refute a claim by a colleague that ancient structures such as Stonehenge, the Great Pyramid are evidence of UFO activities on Earth</td>\n",
       "      <td>189</td>\n",
       "      <td>190</td>\n",
       "      <td>160</td>\n",
       "      <td>There are several strong arguments against concluding that alien races built the structures like the Stonehenge or the Pyramids. First, there is evidence that these magnificent structures were built by humans. For example, tombs of the pyramid builders were found in the vicinity of the Great Pyramind (with human remains!). The technology to move and assemble the massive stones of the Stonehenge has been shown to be available to humans at that time. Second, given that space is vast the chance of finding one tiny planet among billions is infinitesimal. If alien intelligence had indeed found our one inhabited planet they are unlikely to have just created couple of structures and avoided any further contact with Earth and its inhabitants. In science, Occam’s Razor (“the best explanation is the simplest one”) is a guiding principle and until there is much more evidence of alien visitation it would be inadvisable to jump to a conclusion that aliens built these structures.</td>\n",
       "      <td>1</td>\n",
       "    </tr>\n",
       "  </tbody>\n",
       "</table>\n",
       "</div>"
      ],
      "text/plain": [
       "   index  \\\n",
       "0    525   \n",
       "1    172   \n",
       "\n",
       "                                                                                                                                                                instruction  \\\n",
       "0  Please propose an argument to convince my mother that she increases the amount of money that I get every month during my studies. I think the current amount is too low.   \n",
       "1                  Write a paragraph to refute a claim by a colleague that ancient structures such as Stonehenge, the Great Pyramid are evidence of UFO activities on Earth   \n",
       "\n",
       "   num_tokens  num_tokens_round  num_words_round  \\\n",
       "0         211               210              180   \n",
       "1         189               190              160   \n",
       "\n",
       "                                                                                                                                                                                                                                                                                                                                                                                                                                                                                                                                                                                                                                                                                                                                                                                                                                                                                                                                                                                                               response  \\\n",
       "0       Dear Mum, I would like to talk to you about the monthly money I get for my studies. I am very grateful that you support me financially during my studies. At the same time, I feel that the current amount is a little bit too low in order to sustain myself. I estimated my monthly expenses and it seems like the money is not enough. We can go through the details if you want. I want to ask you if you can increase the amount so that I can cover my expenses. I understand if you cannot do this or have other reasons against this. However, I want you to know that if you do not increase my monthly money, I will be forced to work part-time next to my studies. There is research that shows that students who work part-time have worse grades than people who do not have to work part-time to afford their studies. I would love to dedicate my full time to my studies to get the best grades and learning outcomes possible; thus, I would prefer not to work part-time. What do you think?   \n",
       "1  There are several strong arguments against concluding that alien races built the structures like the Stonehenge or the Pyramids. First, there is evidence that these magnificent structures were built by humans. For example, tombs of the pyramid builders were found in the vicinity of the Great Pyramind (with human remains!). The technology to move and assemble the massive stones of the Stonehenge has been shown to be available to humans at that time. Second, given that space is vast the chance of finding one tiny planet among billions is infinitesimal. If alien intelligence had indeed found our one inhabited planet they are unlikely to have just created couple of structures and avoided any further contact with Earth and its inhabitants. In science, Occam’s Razor (“the best explanation is the simplest one”) is a guiding principle and until there is much more evidence of alien visitation it would be inadvisable to jump to a conclusion that aliens built these structures.   \n",
       "\n",
       "   prompt_id  \n",
       "0          0  \n",
       "1          1  "
      ]
     },
     "execution_count": 3,
     "metadata": {},
     "output_type": "execute_result"
    }
   ],
   "source": [
    "with open('../data/sample_personas.txt', 'r') as f:\n",
    "    personas = [x.strip() for x in f.readlines()]\n",
    "dolly = load_dataset(\"databricks/databricks-dolly-15k\")[\"train\"].filter(lambda row: row['category']=='creative_writing').to_pandas()\n",
    "sample = pd.read_csv('../data/dolly_creative_prompts_sample.tsv', sep='\\t')\n",
    "sample['response'] = sample['index'].apply(lambda x: dolly.loc[x, 'response'])\n",
    "sample['prompt_id'] = [i for i in range(len(sample))]\n",
    "del dolly\n",
    "sample.head(2)"
   ]
  },
  {
   "cell_type": "code",
   "execution_count": 4,
   "id": "15e000e2-4137-4d28-b7f3-bb87e718cbd5",
   "metadata": {},
   "outputs": [
    {
     "data": {
      "text/plain": [
       "(100, 7)"
      ]
     },
     "execution_count": 4,
     "metadata": {},
     "output_type": "execute_result"
    }
   ],
   "source": [
    "sample.shape"
   ]
  },
  {
   "cell_type": "code",
   "execution_count": 6,
   "id": "089ece4a-b82a-4070-a630-fbe52231cdef",
   "metadata": {},
   "outputs": [
    {
     "name": "stderr",
     "output_type": "stream",
     "text": [
      "100%|█████████████████████████████████████████████████████████████████████████████████████████████| 100/100 [00:09<00:00, 10.73it/s]\n"
     ]
    }
   ],
   "source": [
    "dolly_responses = sample.response.values.tolist()\n",
    "dolly_embeds_mean = []\n",
    "dolly_embeds_cls = []\n",
    "for resp in tqdm(dolly_responses):\n",
    "    dolly_embeds_mean.append(get_embedding(resp, use_mean_pooling=True).detach().cpu().numpy().squeeze())\n",
    "    dolly_embeds_cls.append(get_embedding(resp, use_mean_pooling=False).detach().cpu().numpy().squeeze())"
   ]
  },
  {
   "cell_type": "markdown",
   "id": "6cfd6ff0-72bf-4432-b641-ae1644071ef0",
   "metadata": {},
   "source": [
    "## Check distances with no persona first"
   ]
  },
  {
   "cell_type": "code",
   "execution_count": 8,
   "id": "92e3802d-0134-4009-892a-2dfce5b90efb",
   "metadata": {},
   "outputs": [
    {
     "name": "stderr",
     "output_type": "stream",
     "text": [
      "100%|█████████████████████████████████████████████████████████████████████████████████████████████| 100/100 [00:20<00:00,  4.84it/s]\n"
     ]
    }
   ],
   "source": [
    "np_df = pd.read_csv('../output/llama8b-np/Llama-3.1-8B-Instruct_dolly_output.tsv', sep='\\t')\n",
    "np_df['response'] = np_df.response.apply(lambda x: x.strip())\n",
    "np_df['prompt_id'] = [i for i in range(len(sample))]\n",
    "np_embeds_mean = []\n",
    "np_embeds_cls = []\n",
    "for resp in tqdm(np_df.response):\n",
    "    np_embeds_mean.append(get_embedding(resp, use_mean_pooling=True).detach().cpu().numpy().squeeze())\n",
    "    np_embeds_cls.append(get_embedding(resp, use_mean_pooling=False).detach().cpu().numpy().squeeze())"
   ]
  },
  {
   "cell_type": "code",
   "execution_count": 10,
   "id": "4b6b6210-7718-4c7c-90aa-d6ab7c6ba258",
   "metadata": {},
   "outputs": [
    {
     "name": "stderr",
     "output_type": "stream",
     "text": [
      "100%|█████████████████████████████████████████████████████████████████████████████████████████████| 100/100 [00:24<00:00,  4.02it/s]\n"
     ]
    }
   ],
   "source": [
    "npc_df = pd.read_csv('../output/llama8b-cutoff-np/Llama-3.1-8B-Instruct_dolly_output.tsv', sep='\\t')\n",
    "npc_df['response'] = npc_df.response.apply(lambda x: x.strip())\n",
    "npc_df['prompt_id'] = [i for i in range(len(sample))]\n",
    "npc_embeds_mean = []\n",
    "npc_embeds_cls = []\n",
    "for resp in tqdm(npc_df.response):\n",
    "    npc_embeds_mean.append(get_embedding(resp, use_mean_pooling=True).detach().cpu().numpy().squeeze())\n",
    "    npc_embeds_cls.append(get_embedding(resp, use_mean_pooling=False).detach().cpu().numpy().squeeze())"
   ]
  },
  {
   "cell_type": "code",
   "execution_count": 13,
   "id": "94148be7-a178-4dcb-9854-3969c74341d5",
   "metadata": {},
   "outputs": [
    {
     "name": "stderr",
     "output_type": "stream",
     "text": [
      "/Users/venkat/micromamba/envs/nlp/lib/python3.10/site-packages/umap/umap_.py:1952: UserWarning: n_jobs value 1 overridden to 1 by setting random_state. Use no seed for parallelism.\n",
      "  warn(\n"
     ]
    }
   ],
   "source": [
    "all_embeds = dolly_embeds_mean + np_embeds_mean + npc_embeds_mean\n",
    "labels = ['human']*100 + ['np']*100 + ['np+cutoff']*100\n",
    "color = [0]*100 + [1]*100 + [2]*100\n",
    "all_umap = umap.UMAP(n_components=2, random_state=42).fit_transform(all_embeds)"
   ]
  },
  {
   "cell_type": "code",
   "execution_count": 14,
   "id": "7ad61a53-5fe4-4399-a4a1-429fbb7f52b3",
   "metadata": {},
   "outputs": [
    {
     "data": {
      "image/png": "[encoded data removed]",
      "text/plain": [
       "<Figure size 1000x800 with 1 Axes>"
      ]
     },
     "metadata": {},
     "output_type": "display_data"
    }
   ],
   "source": [
    "# Create scatter plot\n",
    "plt.figure(figsize=(10, 8))\n",
    "for label in ['human', 'np', 'np+cutoff']:\n",
    "    mask = np.array(labels) == label\n",
    "    plt.scatter(all_umap[mask, 0], all_umap[mask, 1], \n",
    "                label=label, alpha=0.7)\n",
    "\n",
    "plt.xlabel('UMAP 1')\n",
    "plt.ylabel('UMAP 2')\n",
    "plt.legend()\n",
    "plt.show()"
   ]
  },
  {
   "cell_type": "markdown",
   "id": "e5573f7c-f2a0-4e3e-a71a-029422065c82",
   "metadata": {},
   "source": [
    "\n"
   ]
  },
  {
   "cell_type": "markdown",
   "id": "9ba5a565-f0e6-46f2-bb61-5bdfae83448f",
   "metadata": {},
   "source": [
    "## Nearest neighbor distance"
   ]
  },
  {
   "cell_type": "code",
   "execution_count": 15,
   "id": "9f6cf0dc-753c-49dc-8e49-6b0bf5f0a770",
   "metadata": {},
   "outputs": [],
   "source": [
    "from sklearn.neighbors import NearestNeighbors\n",
    "\n",
    "def average_nn_distance(embeddings, n_neighbors=5):\n",
    "    nbrs = NearestNeighbors(n_neighbors=n_neighbors+1).fit(embeddings)  # +1 because it includes the point itself\n",
    "    distances, _ = nbrs.kneighbors(embeddings)\n",
    "    # Exclude the first column (distance to self = 0)\n",
    "    return np.mean(distances[:, 1:]), np.median(distances[:, 1:]), np.std(distances[:, 1:])"
   ]
  },
  {
   "cell_type": "code",
   "execution_count": 18,
   "id": "e73bff1f-ac71-482d-a4ea-d4a5d1f7a5c6",
   "metadata": {},
   "outputs": [
    {
     "name": "stdout",
     "output_type": "stream",
     "text": [
      "Mean, median, stdev to 10 nearest neighbors for Dolly mean embeddings:\n",
      " 12.66, 12.56, 1.77\n"
     ]
    }
   ],
   "source": [
    "dolly_mean, dolly_median, dolly_std = average_nn_distance(dolly_embeds_mean, 10)\n",
    "print(f\"Mean, median, stdev to 10 nearest neighbors for Dolly mean embeddings:\\n {np.round(dolly_mean,2)}, {np.round(dolly_median,2)}, {np.round(dolly_std,2)}\")"
   ]
  },
  {
   "cell_type": "code",
   "execution_count": 19,
   "id": "3ea88b01-351b-48e4-9fa2-d101e23e84ff",
   "metadata": {},
   "outputs": [
    {
     "name": "stdout",
     "output_type": "stream",
     "text": [
      "Mean, median, stdev to 10 nearest neighbors for Dolly cls embeddings:\n",
      " 18.12, 17.92, 2.31\n"
     ]
    }
   ],
   "source": [
    "dolly_mean, dolly_median, dolly_std = average_nn_distance(dolly_embeds_cls, 10)\n",
    "print(f\"Mean, median, stdev to 10 nearest neighbors for Dolly cls embeddings:\\n {np.round(dolly_mean,2)}, {np.round(dolly_median,2)}, {np.round(dolly_std,2)}\")"
   ]
  },
  {
   "cell_type": "code",
   "execution_count": 20,
   "id": "5c0486fb-061b-496c-9d16-cb2a0af13f72",
   "metadata": {},
   "outputs": [
    {
     "name": "stdout",
     "output_type": "stream",
     "text": [
      "Mean, median, stdev to 10 nearest neighbors for Dolly mean embeddings:\n",
      " 10.82, 10.67, 1.73\n"
     ]
    }
   ],
   "source": [
    "np_mean, np_median, np_std = average_nn_distance(np_embeds_mean, 10)\n",
    "print(f\"Mean, median, stdev to 10 nearest neighbors for No persona mean embeddings:\\n {np.round(np_mean,2)}, {np.round(np_median,2)}, {np.round(np_std,2)}\")"
   ]
  },
  {
   "cell_type": "code",
   "execution_count": 22,
   "id": "f771a170-a75a-471e-a5c0-d3586b16f025",
   "metadata": {},
   "outputs": [
    {
     "name": "stdout",
     "output_type": "stream",
     "text": [
      "Mean, median, stdev to 10 nearest neighbors for No persona CLS embeddings:\n",
      " 17.82, 17.46, 2.51\n"
     ]
    }
   ],
   "source": [
    "np_mean, np_median, np_std = average_nn_distance(np_embeds_cls, 10)\n",
    "print(f\"Mean, median, stdev to 10 nearest neighbors for No persona CLS embeddings:\\n {np.round(np_mean,2)}, {np.round(np_median,2)}, {np.round(np_std,2)}\")"
   ]
  },
  {
   "cell_type": "code",
   "execution_count": 23,
   "id": "cc01fc7c-61e9-44c6-8b53-f8242d3c3b8c",
   "metadata": {},
   "outputs": [
    {
     "name": "stdout",
     "output_type": "stream",
     "text": [
      "Mean, median, stdev to 10 nearest neighbors for No persona+cutoff mean embeddings:\n",
      " 12.52, 12.17, 2.2\n"
     ]
    }
   ],
   "source": [
    "npc_mean, npc_median, npc_std = average_nn_distance(npc_embeds_mean, 10)\n",
    "print(f\"Mean, median, stdev to 10 nearest neighbors for No persona+cutoff mean embeddings:\\n {np.round(npc_mean,2)}, {np.round(npc_median,2)}, {np.round(npc_std,2)}\")"
   ]
  },
  {
   "cell_type": "code",
   "execution_count": 24,
   "id": "2a6e5855-e5a5-4147-96f1-da92db431499",
   "metadata": {},
   "outputs": [
    {
     "name": "stdout",
     "output_type": "stream",
     "text": [
      "Mean, median, stdev to 10 nearest neighbors for No persona+cutoff CLS embeddings:\n",
      " 18.32, 17.98, 3.04\n"
     ]
    }
   ],
   "source": [
    "npc_mean, npc_median, npc_std = average_nn_distance(npc_embeds_cls, 10)\n",
    "print(f\"Mean, median, stdev to 10 nearest neighbors for No persona+cutoff CLS embeddings:\\n {np.round(npc_mean,2)}, {np.round(npc_median,2)}, {np.round(npc_std,2)}\")"
   ]
  },
  {
   "cell_type": "markdown",
   "id": "fbfbbd7b-6bfb-478b-94a4-b75adb633fc2",
   "metadata": {},
   "source": [
    "## Distances per persona for Llama-8b responses"
   ]
  },
  {
   "cell_type": "code",
   "execution_count": 28,
   "id": "2fd1a4f0-b9a1-4d28-ac29-1c84ad8a89fb",
   "metadata": {
    "scrolled": true
   },
   "outputs": [
    {
     "name": "stdout",
     "output_type": "stream",
     "text": [
      "PERSONA ID: 35\n",
      "first\n",
      "Mean, median, stdev dist to 10 nearest neighbors: 8.94, 8.86, 1.18\n",
      "last\n",
      "Mean, median, stdev dist to 10 nearest neighbors: 9.31, 9.33, 0.95\n",
      "mid\n",
      "Mean, median, stdev dist to 10 nearest neighbors: 9.08, 9.13, 0.99\n",
      "PERSONA ID: 41\n",
      "first\n",
      "Mean, median, stdev dist to 10 nearest neighbors: 9.38, 9.23, 1.33\n",
      "last\n",
      "Mean, median, stdev dist to 10 nearest neighbors: 9.31, 8.89, 1.82\n",
      "mid\n",
      "Mean, median, stdev dist to 10 nearest neighbors: 9.22, 9.0, 1.64\n",
      "PERSONA ID: 98\n",
      "first\n",
      "Mean, median, stdev dist to 10 nearest neighbors: 8.58, 8.47, 1.23\n",
      "last\n",
      "Mean, median, stdev dist to 10 nearest neighbors: 8.54, 8.43, 1.22\n",
      "mid\n",
      "Mean, median, stdev dist to 10 nearest neighbors: 8.63, 8.57, 0.92\n",
      "PERSONA ID: 29\n",
      "first\n",
      "Mean, median, stdev dist to 10 nearest neighbors: 9.13, 9.04, 1.4\n",
      "last\n",
      "Mean, median, stdev dist to 10 nearest neighbors: 9.19, 9.14, 1.29\n",
      "mid\n",
      "Mean, median, stdev dist to 10 nearest neighbors: 9.24, 9.27, 1.54\n",
      "PERSONA ID: 70\n",
      "first\n",
      "Mean, median, stdev dist to 10 nearest neighbors: 9.86, 9.81, 1.38\n",
      "last\n",
      "Mean, median, stdev dist to 10 nearest neighbors: 10.19, 10.03, 1.3\n",
      "mid\n",
      "Mean, median, stdev dist to 10 nearest neighbors: 9.99, 9.9, 1.4\n",
      "PERSONA ID: 58\n",
      "first\n",
      "Mean, median, stdev dist to 10 nearest neighbors: 9.39, 9.36, 1.51\n",
      "last\n",
      "Mean, median, stdev dist to 10 nearest neighbors: 9.46, 9.41, 1.46\n",
      "mid\n",
      "Mean, median, stdev dist to 10 nearest neighbors: 9.38, 9.06, 1.54\n",
      "PERSONA ID: 4\n",
      "first\n",
      "Mean, median, stdev dist to 10 nearest neighbors: 9.34, 9.3, 1.27\n",
      "last\n"
     ]
    },
    {
     "ename": "KeyboardInterrupt",
     "evalue": "",
     "output_type": "error",
     "traceback": [
      "\u001b[0;31m---------------------------------------------------------------------------\u001b[0m",
      "\u001b[0;31mKeyboardInterrupt\u001b[0m                         Traceback (most recent call last)",
      "Cell \u001b[0;32mIn[28], line 10\u001b[0m\n\u001b[1;32m      7\u001b[0m \u001b[38;5;28;01melse\u001b[39;00m:\n\u001b[1;32m      8\u001b[0m     responses \u001b[38;5;241m=\u001b[39m llama8b\u001b[38;5;241m.\u001b[39mloc[llama8b\u001b[38;5;241m.\u001b[39mpersona_id\u001b[38;5;241m==\u001b[39mpersona_id]\u001b[38;5;241m.\u001b[39mdrop_duplicates(subset\u001b[38;5;241m=\u001b[39m[\u001b[38;5;124m'\u001b[39m\u001b[38;5;124mpersona_id\u001b[39m\u001b[38;5;124m'\u001b[39m, \u001b[38;5;124m'\u001b[39m\u001b[38;5;124mprompt_id\u001b[39m\u001b[38;5;124m'\u001b[39m], keep\u001b[38;5;241m=\u001b[39mkeep)[\u001b[38;5;124m'\u001b[39m\u001b[38;5;124mresponse\u001b[39m\u001b[38;5;124m'\u001b[39m]\u001b[38;5;241m.\u001b[39mvalues\u001b[38;5;241m.\u001b[39mtolist()\n\u001b[0;32m---> 10\u001b[0m embeds \u001b[38;5;241m=\u001b[39m [get_embedding(resp)\u001b[38;5;241m.\u001b[39mdetach()\u001b[38;5;241m.\u001b[39mcpu()\u001b[38;5;241m.\u001b[39mnumpy()\u001b[38;5;241m.\u001b[39msqueeze() \u001b[38;5;28;01mfor\u001b[39;00m resp \u001b[38;5;129;01min\u001b[39;00m responses]\n\u001b[1;32m     11\u001b[0m embeds_mean, embeds_median, embeds_std \u001b[38;5;241m=\u001b[39m average_nn_distance(embeds, \u001b[38;5;241m10\u001b[39m)\n\u001b[1;32m     12\u001b[0m \u001b[38;5;28mprint\u001b[39m(\u001b[38;5;124mf\u001b[39m\u001b[38;5;124m\"\u001b[39m\u001b[38;5;124mMean, median, stdev dist to 10 nearest neighbors: \u001b[39m\u001b[38;5;132;01m{\u001b[39;00mnp\u001b[38;5;241m.\u001b[39mround(embeds_mean,\u001b[38;5;241m2\u001b[39m)\u001b[38;5;132;01m}\u001b[39;00m\u001b[38;5;124m, \u001b[39m\u001b[38;5;132;01m{\u001b[39;00mnp\u001b[38;5;241m.\u001b[39mround(embeds_median,\u001b[38;5;241m2\u001b[39m)\u001b[38;5;132;01m}\u001b[39;00m\u001b[38;5;124m, \u001b[39m\u001b[38;5;132;01m{\u001b[39;00mnp\u001b[38;5;241m.\u001b[39mround(embeds_std,\u001b[38;5;241m2\u001b[39m)\u001b[38;5;132;01m}\u001b[39;00m\u001b[38;5;124m\"\u001b[39m)\n",
      "Cell \u001b[0;32mIn[28], line 10\u001b[0m, in \u001b[0;36m<listcomp>\u001b[0;34m(.0)\u001b[0m\n\u001b[1;32m      7\u001b[0m \u001b[38;5;28;01melse\u001b[39;00m:\n\u001b[1;32m      8\u001b[0m     responses \u001b[38;5;241m=\u001b[39m llama8b\u001b[38;5;241m.\u001b[39mloc[llama8b\u001b[38;5;241m.\u001b[39mpersona_id\u001b[38;5;241m==\u001b[39mpersona_id]\u001b[38;5;241m.\u001b[39mdrop_duplicates(subset\u001b[38;5;241m=\u001b[39m[\u001b[38;5;124m'\u001b[39m\u001b[38;5;124mpersona_id\u001b[39m\u001b[38;5;124m'\u001b[39m, \u001b[38;5;124m'\u001b[39m\u001b[38;5;124mprompt_id\u001b[39m\u001b[38;5;124m'\u001b[39m], keep\u001b[38;5;241m=\u001b[39mkeep)[\u001b[38;5;124m'\u001b[39m\u001b[38;5;124mresponse\u001b[39m\u001b[38;5;124m'\u001b[39m]\u001b[38;5;241m.\u001b[39mvalues\u001b[38;5;241m.\u001b[39mtolist()\n\u001b[0;32m---> 10\u001b[0m embeds \u001b[38;5;241m=\u001b[39m [\u001b[43mget_embedding\u001b[49m\u001b[43m(\u001b[49m\u001b[43mresp\u001b[49m\u001b[43m)\u001b[49m\u001b[38;5;241m.\u001b[39mdetach()\u001b[38;5;241m.\u001b[39mcpu()\u001b[38;5;241m.\u001b[39mnumpy()\u001b[38;5;241m.\u001b[39msqueeze() \u001b[38;5;28;01mfor\u001b[39;00m resp \u001b[38;5;129;01min\u001b[39;00m responses]\n\u001b[1;32m     11\u001b[0m embeds_mean, embeds_median, embeds_std \u001b[38;5;241m=\u001b[39m average_nn_distance(embeds, \u001b[38;5;241m10\u001b[39m)\n\u001b[1;32m     12\u001b[0m \u001b[38;5;28mprint\u001b[39m(\u001b[38;5;124mf\u001b[39m\u001b[38;5;124m\"\u001b[39m\u001b[38;5;124mMean, median, stdev dist to 10 nearest neighbors: \u001b[39m\u001b[38;5;132;01m{\u001b[39;00mnp\u001b[38;5;241m.\u001b[39mround(embeds_mean,\u001b[38;5;241m2\u001b[39m)\u001b[38;5;132;01m}\u001b[39;00m\u001b[38;5;124m, \u001b[39m\u001b[38;5;132;01m{\u001b[39;00mnp\u001b[38;5;241m.\u001b[39mround(embeds_median,\u001b[38;5;241m2\u001b[39m)\u001b[38;5;132;01m}\u001b[39;00m\u001b[38;5;124m, \u001b[39m\u001b[38;5;132;01m{\u001b[39;00mnp\u001b[38;5;241m.\u001b[39mround(embeds_std,\u001b[38;5;241m2\u001b[39m)\u001b[38;5;132;01m}\u001b[39;00m\u001b[38;5;124m\"\u001b[39m)\n",
      "Cell \u001b[0;32mIn[2], line 22\u001b[0m, in \u001b[0;36mget_embedding\u001b[0;34m(text, use_mean_pooling)\u001b[0m\n\u001b[1;32m     20\u001b[0m \u001b[38;5;28;01mdef\u001b[39;00m \u001b[38;5;21mget_embedding\u001b[39m(text, use_mean_pooling\u001b[38;5;241m=\u001b[39m\u001b[38;5;28;01mTrue\u001b[39;00m):\n\u001b[0;32m---> 22\u001b[0m     inputs \u001b[38;5;241m=\u001b[39m \u001b[43mtokenizer\u001b[49m\u001b[43m(\u001b[49m\n\u001b[1;32m     23\u001b[0m \u001b[43m        \u001b[49m\u001b[43mtext\u001b[49m\u001b[43m,\u001b[49m\u001b[43m \u001b[49m\u001b[43mreturn_tensors\u001b[49m\u001b[38;5;241;43m=\u001b[39;49m\u001b[38;5;124;43m\"\u001b[39;49m\u001b[38;5;124;43mpt\u001b[39;49m\u001b[38;5;124;43m\"\u001b[39;49m\u001b[43m,\u001b[49m\u001b[43m \u001b[49m\u001b[43mpadding\u001b[49m\u001b[38;5;241;43m=\u001b[39;49m\u001b[38;5;28;43;01mTrue\u001b[39;49;00m\u001b[43m,\u001b[49m\u001b[43m \u001b[49m\u001b[43mtruncation\u001b[49m\u001b[38;5;241;43m=\u001b[39;49m\u001b[38;5;28;43;01mTrue\u001b[39;49;00m\u001b[43m,\u001b[49m\u001b[43m \u001b[49m\u001b[43mmax_length\u001b[49m\u001b[38;5;241;43m=\u001b[39;49m\u001b[38;5;241;43m512\u001b[39;49m\n\u001b[1;32m     24\u001b[0m \u001b[43m    \u001b[49m\u001b[43m)\u001b[49m\n\u001b[1;32m     25\u001b[0m     inputs \u001b[38;5;241m=\u001b[39m {name: tensor\u001b[38;5;241m.\u001b[39mto(device) \u001b[38;5;28;01mfor\u001b[39;00m name, tensor \u001b[38;5;129;01min\u001b[39;00m inputs\u001b[38;5;241m.\u001b[39mitems()}\n\u001b[1;32m     26\u001b[0m     \u001b[38;5;28;01mwith\u001b[39;00m torch\u001b[38;5;241m.\u001b[39mno_grad():\n",
      "File \u001b[0;32m~/micromamba/envs/nlp/lib/python3.10/site-packages/transformers/tokenization_utils_base.py:2867\u001b[0m, in \u001b[0;36mPreTrainedTokenizerBase.__call__\u001b[0;34m(self, text, text_pair, text_target, text_pair_target, add_special_tokens, padding, truncation, max_length, stride, is_split_into_words, pad_to_multiple_of, padding_side, return_tensors, return_token_type_ids, return_attention_mask, return_overflowing_tokens, return_special_tokens_mask, return_offsets_mapping, return_length, verbose, **kwargs)\u001b[0m\n\u001b[1;32m   2863\u001b[0m \u001b[38;5;28;01mif\u001b[39;00m text \u001b[38;5;129;01mis\u001b[39;00m \u001b[38;5;129;01mnot\u001b[39;00m \u001b[38;5;28;01mNone\u001b[39;00m:\n\u001b[1;32m   2864\u001b[0m     \u001b[38;5;66;03m# The context manager will send the inputs as normal texts and not text_target, but we shouldn't change the\u001b[39;00m\n\u001b[1;32m   2865\u001b[0m     \u001b[38;5;66;03m# input mode in this case.\u001b[39;00m\n\u001b[1;32m   2866\u001b[0m     \u001b[38;5;28;01mif\u001b[39;00m \u001b[38;5;129;01mnot\u001b[39;00m \u001b[38;5;28mself\u001b[39m\u001b[38;5;241m.\u001b[39m_in_target_context_manager:\n\u001b[0;32m-> 2867\u001b[0m         \u001b[38;5;28;43mself\u001b[39;49m\u001b[38;5;241;43m.\u001b[39;49m\u001b[43m_switch_to_input_mode\u001b[49m\u001b[43m(\u001b[49m\u001b[43m)\u001b[49m\n\u001b[1;32m   2868\u001b[0m     encodings \u001b[38;5;241m=\u001b[39m \u001b[38;5;28mself\u001b[39m\u001b[38;5;241m.\u001b[39m_call_one(text\u001b[38;5;241m=\u001b[39mtext, text_pair\u001b[38;5;241m=\u001b[39mtext_pair, \u001b[38;5;241m*\u001b[39m\u001b[38;5;241m*\u001b[39mall_kwargs)\n\u001b[1;32m   2869\u001b[0m \u001b[38;5;28;01mif\u001b[39;00m text_target \u001b[38;5;129;01mis\u001b[39;00m \u001b[38;5;129;01mnot\u001b[39;00m \u001b[38;5;28;01mNone\u001b[39;00m:\n",
      "File \u001b[0;32m~/micromamba/envs/nlp/lib/python3.10/site-packages/transformers/tokenization_utils_base.py:3943\u001b[0m, in \u001b[0;36mPreTrainedTokenizerBase._switch_to_input_mode\u001b[0;34m(self)\u001b[0m\n\u001b[1;32m   3936\u001b[0m             logger\u001b[38;5;241m.\u001b[39mwarning(\n\u001b[1;32m   3937\u001b[0m                 \u001b[38;5;124m\"\u001b[39m\u001b[38;5;124mToken indices sequence length is longer than the specified maximum sequence length \u001b[39m\u001b[38;5;124m\"\u001b[39m\n\u001b[1;32m   3938\u001b[0m                 \u001b[38;5;124mf\u001b[39m\u001b[38;5;124m\"\u001b[39m\u001b[38;5;124mfor this model (\u001b[39m\u001b[38;5;132;01m{\u001b[39;00m\u001b[38;5;28mlen\u001b[39m(ids)\u001b[38;5;132;01m}\u001b[39;00m\u001b[38;5;124m > \u001b[39m\u001b[38;5;132;01m{\u001b[39;00m\u001b[38;5;28mself\u001b[39m\u001b[38;5;241m.\u001b[39mmodel_max_length\u001b[38;5;132;01m}\u001b[39;00m\u001b[38;5;124m). Running this sequence through the model \u001b[39m\u001b[38;5;124m\"\u001b[39m\n\u001b[1;32m   3939\u001b[0m                 \u001b[38;5;124m\"\u001b[39m\u001b[38;5;124mwill result in indexing errors\u001b[39m\u001b[38;5;124m\"\u001b[39m\n\u001b[1;32m   3940\u001b[0m             )\n\u001b[1;32m   3941\u001b[0m         \u001b[38;5;28mself\u001b[39m\u001b[38;5;241m.\u001b[39mdeprecation_warnings[\u001b[38;5;124m\"\u001b[39m\u001b[38;5;124msequence-length-is-longer-than-the-specified-maximum\u001b[39m\u001b[38;5;124m\"\u001b[39m] \u001b[38;5;241m=\u001b[39m \u001b[38;5;28;01mTrue\u001b[39;00m\n\u001b[0;32m-> 3943\u001b[0m \u001b[38;5;28;01mdef\u001b[39;00m \u001b[38;5;21m_switch_to_input_mode\u001b[39m(\u001b[38;5;28mself\u001b[39m):\n\u001b[1;32m   3944\u001b[0m \u001b[38;5;250m    \u001b[39m\u001b[38;5;124;03m\"\"\"\u001b[39;00m\n\u001b[1;32m   3945\u001b[0m \u001b[38;5;124;03m    Private method to put the tokenizer in input mode (when it has different modes for input/outputs)\u001b[39;00m\n\u001b[1;32m   3946\u001b[0m \u001b[38;5;124;03m    \"\"\"\u001b[39;00m\n\u001b[1;32m   3947\u001b[0m     \u001b[38;5;28;01mpass\u001b[39;00m\n",
      "\u001b[0;31mKeyboardInterrupt\u001b[0m: "
     ]
    }
   ],
   "source": [
    "for persona_id in llama8b.persona_id.sample(n=5, random_state=1):\n",
    "    print(f\"PERSONA ID: {persona_id}\")\n",
    "    for keep in ['first', 'last', 'mid']:\n",
    "        print(f\"{keep}\")\n",
    "        if keep=='mid':\n",
    "            responses = llama8b.loc[llama8b.persona_id==persona_id].groupby(['prompt_id']).tail(2).groupby(['prompt_id']).head(1)['response'].values.tolist()\n",
    "        else:\n",
    "            responses = llama8b.loc[llama8b.persona_id==persona_id].drop_duplicates(subset=['persona_id', 'prompt_id'], keep=keep)['response'].values.tolist()\n",
    "        \n",
    "        embeds = [get_embedding(resp).detach().cpu().numpy().squeeze() for resp in responses]\n",
    "        embeds_mean, embeds_median, embeds_std = average_nn_distance(embeds, 10)\n",
    "        print(f\"Mean, median, stdev dist to 10 nearest neighbors: {np.round(embeds_mean,2)}, {np.round(embeds_median,2)}, {np.round(embeds_std,2)}\")"
   ]
  },
  {
   "cell_type": "markdown",
   "id": "90d5ec65-14af-4e23-b280-4bd75850213b",
   "metadata": {},
   "source": [
    "## LLama-8b no persona responses"
   ]
  },
  {
   "cell_type": "code",
   "execution_count": 31,
   "id": "660cac0e-0009-47de-983c-a81537f76d0c",
   "metadata": {},
   "outputs": [],
   "source": [
    "llama8b_np = pd.read_csv('../output/Llama-3.1-8B-Instruct_dollynp_output.tsv', sep='\\t')\n",
    "\n",
    "persona_ids = []\n",
    "prompt_ids = []\n",
    "for persona_id in [-1]:\n",
    "    for prompt_id in range(100):\n",
    "        persona_ids += [persona_id]*3\n",
    "        prompt_ids += [prompt_id]*3\n",
    "        \n",
    "llama8b_np['persona_id'] = persona_ids\n",
    "llama8b_np['prompt_id'] = prompt_ids"
   ]
  },
  {
   "cell_type": "code",
   "execution_count": 33,
   "id": "f341a4da-db28-405b-90e2-4d482e3bb0db",
   "metadata": {},
   "outputs": [
    {
     "name": "stdout",
     "output_type": "stream",
     "text": [
      "first Mean, median, stdev to 10 nearest neighbors for resp embeddings: 11.48, 11.29, 1.55\n",
      "last Mean, median, stdev to 10 nearest neighbors for resp embeddings: 11.42, 11.18, 1.78\n",
      "mid Mean, median, stdev to 10 nearest neighbors for resp embeddings: 11.72, 11.57, 1.69\n"
     ]
    }
   ],
   "source": [
    "for keep in ['first', 'last', 'mid']:\n",
    "    if keep=='mid':\n",
    "        responses = llama8b_np.groupby(['prompt_id']).tail(2).groupby(['prompt_id']).head(1)['response'].values.tolist()\n",
    "    else:\n",
    "        responses = llama8b_np.drop_duplicates(subset=['persona_id', 'prompt_id'], keep=keep)['response'].values.tolist()\n",
    "\n",
    "    embeds = [get_embedding(resp).detach().cpu().numpy().squeeze() for resp in responses]\n",
    "    embeds_mean, embeds_median, embeds_std = average_nn_distance(embeds, 10)\n",
    "    print(f\"{keep} Mean, median, stdev to 10 nearest neighbors for resp embeddings: {np.round(embeds_mean,2)}, {np.round(embeds_median,2)}, {np.round(embeds_std,2)}\")"
   ]
  },
  {
   "cell_type": "code",
   "execution_count": 18,
   "id": "f30a6dd3-9ee4-4cc1-aba8-44866eb3496d",
   "metadata": {},
   "outputs": [
    {
     "data": {
      "text/plain": [
       "300"
      ]
     },
     "execution_count": 18,
     "metadata": {},
     "output_type": "execute_result"
    }
   ],
   "source": [
    "len(prompt_ids)"
   ]
  },
  {
   "cell_type": "markdown",
   "id": "fba3f7cf-4971-4768-88b6-c649383348b1",
   "metadata": {},
   "source": [
    "## Llama-90b persona responses"
   ]
  },
  {
   "cell_type": "code",
   "execution_count": 36,
   "id": "40135c4a-48c7-498b-b333-c96c468e9adb",
   "metadata": {},
   "outputs": [],
   "source": [
    "llama90b = pd.read_csv('../output/llama_3.2_90b_dolly_output.csv', sep=',')\n",
    "\n",
    "persona_ids = []\n",
    "prompt_ids = []\n",
    "for persona_id in range(100):\n",
    "    for prompt_id in range(100):\n",
    "        persona_ids += [persona_id]*3\n",
    "        prompt_ids += [prompt_id]*3\n",
    "        \n",
    "llama90b['persona_id'] = persona_ids\n",
    "llama90b['prompt_id'] = prompt_ids"
   ]
  },
  {
   "cell_type": "code",
   "execution_count": 37,
   "id": "dfb149c1-d87a-40db-874f-062ef685b79f",
   "metadata": {},
   "outputs": [
    {
     "data": {
      "text/plain": [
       "(30000, 4)"
      ]
     },
     "execution_count": 37,
     "metadata": {},
     "output_type": "execute_result"
    }
   ],
   "source": [
    "llama90b.shape"
   ]
  },
  {
   "cell_type": "code",
   "execution_count": 38,
   "id": "41959ba4-4131-4ae2-9464-83b52e48c000",
   "metadata": {},
   "outputs": [
    {
     "name": "stdout",
     "output_type": "stream",
     "text": [
      "PERSONA ID: 35\n",
      "first\n",
      "Mean, median, stdev dist to 10 nearest neighbors: 10.3, 10.22, 1.24\n",
      "last\n",
      "Mean, median, stdev dist to 10 nearest neighbors: 10.08, 10.09, 1.49\n",
      "mid\n",
      "Mean, median, stdev dist to 10 nearest neighbors: 10.49, 10.27, 1.43\n",
      "PERSONA ID: 41\n",
      "first\n",
      "Mean, median, stdev dist to 10 nearest neighbors: 9.89, 9.88, 1.46\n",
      "last\n",
      "Mean, median, stdev dist to 10 nearest neighbors: 9.75, 9.69, 1.23\n",
      "mid\n",
      "Mean, median, stdev dist to 10 nearest neighbors: 10.09, 10.06, 1.31\n",
      "PERSONA ID: 98\n",
      "first\n",
      "Mean, median, stdev dist to 10 nearest neighbors: 10.01, 9.93, 1.25\n",
      "last\n",
      "Mean, median, stdev dist to 10 nearest neighbors: 10.05, 10.03, 1.2\n",
      "mid\n",
      "Mean, median, stdev dist to 10 nearest neighbors: 10.06, 9.99, 1.26\n",
      "PERSONA ID: 29\n",
      "first\n",
      "Mean, median, stdev dist to 10 nearest neighbors: 10.15, 10.08, 1.36\n",
      "last\n",
      "Mean, median, stdev dist to 10 nearest neighbors: 10.03, 10.07, 1.11\n",
      "mid\n",
      "Mean, median, stdev dist to 10 nearest neighbors: 10.14, 10.06, 1.2\n",
      "PERSONA ID: 70\n",
      "first\n",
      "Mean, median, stdev dist to 10 nearest neighbors: 10.69, 10.82, 1.54\n",
      "last\n",
      "Mean, median, stdev dist to 10 nearest neighbors: 10.87, 10.83, 1.17\n",
      "mid\n",
      "Mean, median, stdev dist to 10 nearest neighbors: 11.04, 11.01, 1.18\n"
     ]
    }
   ],
   "source": [
    "for persona_id in llama90b.persona_id.sample(n=5, random_state=1):\n",
    "    print(f\"PERSONA ID: {persona_id}\")\n",
    "    for keep in ['first', 'last', 'mid']:\n",
    "        print(f\"{keep}\")\n",
    "        if keep=='mid':\n",
    "            responses = llama90b.loc[llama90b.persona_id==persona_id].groupby(['prompt_id']).tail(2).groupby(['prompt_id']).head(1)['response'].values.tolist()\n",
    "        else:\n",
    "            responses = llama90b.loc[llama90b.persona_id==persona_id].drop_duplicates(subset=['persona_id', 'prompt_id'], keep=keep)['response'].values.tolist()\n",
    "        \n",
    "        embeds = [get_embedding(resp).detach().cpu().numpy().squeeze() for resp in responses]\n",
    "        embeds_mean, embeds_median, embeds_std = average_nn_distance(embeds, 10)\n",
    "        print(f\"Mean, median, stdev dist to 10 nearest neighbors: {np.round(embeds_mean,2)}, {np.round(embeds_median,2)}, {np.round(embeds_std,2)}\")"
   ]
  },
  {
   "cell_type": "markdown",
   "id": "260bc511-2c8d-4e48-84fa-41d3fe652ecb",
   "metadata": {},
   "source": [
    "## Claude"
   ]
  },
  {
   "cell_type": "code",
   "execution_count": 46,
   "id": "4f9a1d97-e97a-4905-851a-65313be794a1",
   "metadata": {},
   "outputs": [
    {
     "name": "stdout",
     "output_type": "stream",
     "text": [
      "(13065, 2)\n"
     ]
    }
   ],
   "source": [
    "claude = pd.read_csv('../output/claude_3.5_sonnet_v2_dolly_output.csv', sep=',')\n",
    "print(claude.shape)\n",
    "persona_ids = []\n",
    "prompt_ids = []\n",
    "for persona_id in range(43):\n",
    "    for prompt_id in range(100):\n",
    "        persona_ids += [persona_id]*3\n",
    "        prompt_ids += [prompt_id]*3\n",
    "\n",
    "for persona_id in [44]:\n",
    "    for prompt_id in range(55):\n",
    "        persona_ids += [persona_id]*3\n",
    "        prompt_ids += [prompt_id]*3\n",
    "        \n",
    "claude['persona_id'] = persona_ids\n",
    "claude['prompt_id'] = prompt_ids"
   ]
  },
  {
   "cell_type": "code",
   "execution_count": 47,
   "id": "91b23902-820f-4ade-9c61-d958a9e3e310",
   "metadata": {},
   "outputs": [
    {
     "name": "stdout",
     "output_type": "stream",
     "text": [
      "PERSONA ID: 5\n",
      "first\n",
      "Mean, median, stdev dist to 10 nearest neighbors: 8.69, 8.55, 1.08\n",
      "last\n",
      "Mean, median, stdev dist to 10 nearest neighbors: 8.82, 8.67, 1.18\n",
      "mid\n",
      "Mean, median, stdev dist to 10 nearest neighbors: 8.91, 8.89, 1.47\n",
      "PERSONA ID: 31\n",
      "first\n",
      "Mean, median, stdev dist to 10 nearest neighbors: 9.36, 9.34, 1.3\n",
      "last\n",
      "Mean, median, stdev dist to 10 nearest neighbors: 9.26, 9.2, 1.16\n",
      "mid\n",
      "Mean, median, stdev dist to 10 nearest neighbors: 9.39, 9.31, 1.27\n",
      "PERSONA ID: 7\n",
      "first\n",
      "Mean, median, stdev dist to 10 nearest neighbors: 9.08, 8.98, 1.04\n",
      "last\n",
      "Mean, median, stdev dist to 10 nearest neighbors: 9.02, 9.1, 1.33\n",
      "mid\n",
      "Mean, median, stdev dist to 10 nearest neighbors: 9.0, 9.04, 1.27\n",
      "PERSONA ID: 33\n",
      "first\n",
      "Mean, median, stdev dist to 10 nearest neighbors: 8.95, 8.88, 1.08\n",
      "last\n",
      "Mean, median, stdev dist to 10 nearest neighbors: 9.07, 8.98, 1.15\n",
      "mid\n",
      "Mean, median, stdev dist to 10 nearest neighbors: 9.05, 9.05, 0.95\n",
      "PERSONA ID: 15\n",
      "first\n",
      "Mean, median, stdev dist to 10 nearest neighbors: 8.59, 8.45, 1.18\n",
      "last\n",
      "Mean, median, stdev dist to 10 nearest neighbors: 8.51, 8.41, 1.16\n",
      "mid\n",
      "Mean, median, stdev dist to 10 nearest neighbors: 8.68, 8.51, 1.21\n"
     ]
    }
   ],
   "source": [
    "for persona_id in claude.persona_id.sample(n=5, random_state=1):\n",
    "    print(f\"PERSONA ID: {persona_id}\")\n",
    "    for keep in ['first', 'last', 'mid']:\n",
    "        print(f\"{keep}\")\n",
    "        if keep=='mid':\n",
    "            responses = claude.loc[claude.persona_id==persona_id].groupby(['prompt_id']).tail(2).groupby(['prompt_id']).head(1)['response'].values.tolist()\n",
    "        else:\n",
    "            responses = claude.loc[claude.persona_id==persona_id].drop_duplicates(subset=['persona_id', 'prompt_id'], keep=keep)['response'].values.tolist()\n",
    "        \n",
    "        embeds = [get_embedding(resp).detach().cpu().numpy().squeeze() for resp in responses]\n",
    "        embeds_mean, embeds_median, embeds_std = average_nn_distance(embeds, 10)\n",
    "        print(f\"Mean, median, stdev dist to 10 nearest neighbors: {np.round(embeds_mean,2)}, {np.round(embeds_median,2)}, {np.round(embeds_std,2)}\")"
   ]
  },
  {
   "cell_type": "code",
   "execution_count": 49,
   "id": "dab28ff6-c3f2-45fb-af0b-656ad96c5a37",
   "metadata": {},
   "outputs": [
    {
     "data": {
      "text/plain": [
       "'As a PR professional who regularly crafts persuasive messages, I\\'ll help you frame this request strategically:\\n\\nFirst, I recommend approaching this as a professional \"pitch\" with clear data points and benefits, rather than just asking for more money. Here\\'s how I\\'d structure your argument:\\n\\n1. Start with appreciation: Acknowledge your mother\\'s current support and express genuine gratitude. This establishes goodwill.\\n\\n2. Present market research:\\n- Compare your current allowance with average student living costs\\n- Show specific price increases in student essentials (housing, books, food)\\n- Present a detailed monthly budget showing the gap\\n\\n3. Position it as an investment:\\n- Emphasize how adequate financial support allows you to focus on studies rather than seeking part-time work\\n- Highlight how better financial stability can lead to improved academic performance\\n- Stress that this is a temporary investment in your future career\\n\\n4. Offer compromise solutions:\\n- Propose a gradual increase rather than a large jump\\n- Suggest performance-based incentives (maintaining good grades)\\n- Show how you\\'re also trying to reduce costs\\n\\n5. Use the \"ROI\" approach:\\n- Demonstrate how this additional'"
      ]
     },
     "execution_count": 49,
     "metadata": {},
     "output_type": "execute_result"
    }
   ],
   "source": [
    "claude['response'][0]"
   ]
  },
  {
   "cell_type": "code",
   "execution_count": null,
   "id": "5e9603a7-e406-44c0-87f1-0184cc48980c",
   "metadata": {},
   "outputs": [],
   "source": []
  }
 ],
 "metadata": {
  "kernelspec": {
   "display_name": "Python 3 (ipykernel)",
   "language": "python",
   "name": "python3"
  },
  "language_info": {
   "codemirror_mode": {
    "name": "ipython",
    "version": 3
   },
   "file_extension": ".py",
   "mimetype": "text/x-python",
   "name": "python",
   "nbconvert_exporter": "python",
   "pygments_lexer": "ipython3",
   "version": "3.11.0"
  }
 },
 "nbformat": 4,
 "nbformat_minor": 5
}
