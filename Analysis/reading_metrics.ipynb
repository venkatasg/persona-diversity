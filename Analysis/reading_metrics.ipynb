{
 "cells": [
  {
   "cell_type": "code",
   "execution_count": 22,
   "metadata": {},
   "outputs": [],
   "source": [
    "import pandas as pd\n",
    "from readability import Readability\n",
    "from collections import defaultdict\n",
    "from matplotlib import pyplot as plt\n",
    "import numpy as np\n",
    "import seaborn as sns\n",
    "import plotly.express as px\n",
    "import plotly.graph_objects as go"
   ]
  },
  {
   "cell_type": "code",
   "execution_count": null,
   "metadata": {},
   "outputs": [],
   "source": [
    "model_mapping = {\n",
    "    \"llama1b\": \"Llama-3.2-1B-Instruct\",\n",
    "    \"llama8b\": \"Llama-3.1-8B-Instruct\",\n",
    "    \"llama70b\": \"Llama-3.3-70B-Instruct-Turbo\"\n",
    "}\n",
    "\n",
    "for model in [\"llama70b\"]:\n",
    "    for length in [\"cutoff\", \"full\"]:\n",
    "        for persona in [\"persona\", \"np\"]:\n",
    "            if length == \"cutoff\":\n",
    "                df = pd.read_csv(f\"../output/{model}-{length}-{persona}/{model_mapping[model]}_dolly_output.tsv\", sep=\"\\t\")\n",
    "            else:\n",
    "                df = pd.read_csv(f\"../output/{model}-{persona}/{model_mapping[model]}_dolly_output.tsv\", sep=\"\\t\")\n",
    "            df[\"ari\"] = None # higher = more complicated\n",
    "            df[\"coleman_liau\"] = None # higher = more complicated\n",
    "            df[\"flesch\"] = None # lower = more complicated\n",
    "            df[\"flesch_kincaid\"] = None # higher = more complicated\n",
    "            df[\"gunning_fog\"] = None # higher = more complicated\n",
    "            df[\"linsear_write\"] = None # higher = more complicated\n",
    "            # df[\"smog\"] = None\n",
    "            df[\"dale_chall\"] = None # higher = more complicated\n",
    "            for i, row in df.iterrows():\n",
    "                print(\"{}/{}\".format(i, len(df)))\n",
    "                text = row[\"response\"]\n",
    "                # if text contains less than 100 words, skip (metrics need at least 100 words to be able to calculate)\n",
    "                if len(text.split()) <= 106:\n",
    "                    continue\n",
    "                print(len(text.split()))\n",
    "                r = Readability(text)\n",
    "                df.at[i, \"ari\"] = r.ari().score\n",
    "                df.at[i, \"coleman_liau\"] = r.coleman_liau().score\n",
    "                df.at[i, \"flesch\"] = r.flesch().score\n",
    "                df.at[i, \"flesch_kincaid\"] = r.flesch_kincaid().score\n",
    "                df.at[i, \"gunning_fog\"] = r.gunning_fog().score\n",
    "                df.at[i, \"linsear_write\"] = r.linsear_write().score\n",
    "                # df.at[i, \"smog\"] = r.smog().score\n",
    "                df.at[i, \"dale_chall\"] = r.dale_chall().score\n",
    "            if length == \"cutoff\":\n",
    "                df.to_csv(f\"../output/{model}-{length}-{persona}/{model_mapping[model]}_readability.tsv\", sep=\"\\t\", index=False)\n",
    "            else:\n",
    "                df.to_csv(f\"../output/{model}-{persona}/{model_mapping[model]}_readability.tsv\", sep=\"\\t\", index=False)\n",
    "            "
   ]
  },
  {
   "cell_type": "code",
   "execution_count": 52,
   "metadata": {},
   "outputs": [
    {
     "name": "stdout",
     "output_type": "stream",
     "text": [
      "Model: llama1b, Length: cutoff, Persona: persona\n",
      "Model: llama1b, Length: cutoff, Persona: np\n",
      "Model: llama1b, Length: full, Persona: persona\n",
      "Model: llama1b, Length: full, Persona: np\n",
      "Model: llama8b, Length: cutoff, Persona: persona\n",
      "Model: llama8b, Length: cutoff, Persona: np\n",
      "Model: llama8b, Length: full, Persona: persona\n",
      "Model: llama8b, Length: full, Persona: np\n",
      "Model: llama70b, Length: cutoff, Persona: persona\n",
      "Model: llama70b, Length: cutoff, Persona: np\n",
      "Model: llama70b, Length: full, Persona: persona\n",
      "Model: llama70b, Length: full, Persona: np\n"
     ]
    }
   ],
   "source": [
    "model_mapping = {\n",
    "    \"llama1b\": \"Llama-3.2-1B-Instruct\",\n",
    "    \"llama8b\": \"Llama-3.1-8B-Instruct\",\n",
    "    \"llama70b\": \"Llama-3.3-70B-Instruct-Turbo\"\n",
    "}\n",
    "\n",
    "averages = pd.DataFrame(columns=[\"model\", \"metric\", \"value\", \"std\"])\n",
    "for model in [\"llama1b\", \"llama8b\", \"llama70b\"]:\n",
    "    for length in [\"cutoff\", \"full\"]:\n",
    "        for persona in [\"persona\", \"np\"]:\n",
    "            if length == \"cutoff\":\n",
    "                df = pd.read_csv(f\"../output/{model}-{length}-{persona}/{model_mapping[model]}_readability.tsv\", sep=\"\\t\")\n",
    "            else:\n",
    "                df = pd.read_csv(f\"../output/{model}-{persona}/{model_mapping[model]}_readability.tsv\", sep=\"\\t\")\n",
    "            print(f\"Model: {model}, Length: {length}, Persona: {persona}\")\n",
    "            # Get average readability scores\n",
    "            averages.loc[len(averages)] = [f\"{model}-{length}-{persona}\", \"ARI\", df[\"ari\"].mean(), df[\"ari\"].std()]\n",
    "            averages.loc[len(averages)] = [f\"{model}-{length}-{persona}\", \"Coleman-Liau\", df[\"coleman_liau\"].mean(), df[\"coleman_liau\"].std()]\n",
    "            averages.loc[len(averages)] = [f\"{model}-{length}-{persona}\", \"Flesch\", df[\"flesch\"].mean(), df[\"flesch\"].std()]\n",
    "            averages.loc[len(averages)] = [f\"{model}-{length}-{persona}\", \"Flesch-Kincaid\", df[\"flesch_kincaid\"].mean(), df[\"flesch_kincaid\"].std()]\n",
    "            averages.loc[len(averages)] = [f\"{model}-{length}-{persona}\", \"Gunning Fog\", df[\"gunning_fog\"].mean(), df[\"gunning_fog\"].std()]\n",
    "            averages.loc[len(averages)] = [f\"{model}-{length}-{persona}\", \"Linsear Write\", df[\"linsear_write\"].mean(), df[\"linsear_write\"].std()]\n",
    "            averages.loc[len(averages)] = [f\"{model}-{length}-{persona}\", \"Dale Chall\", df[\"dale_chall\"].mean(), df[\"dale_chall\"].std()]\n",
    "averages.to_csv(\"../output/readability_averages.tsv\", sep=\"\\t\", index=False)"
   ]
  },
  {
   "cell_type": "code",
   "execution_count": null,
   "metadata": {},
   "outputs": [
    {
     "name": "stdout",
     "output_type": "stream",
     "text": [
      "0      5.277316\n",
      "1      1.638908\n",
      "3      4.040528\n",
      "4      4.198162\n",
      "5      5.980986\n",
      "        ...    \n",
      "78     1.603431\n",
      "80     6.977651\n",
      "81     7.372367\n",
      "82    11.188726\n",
      "83     1.112460\n",
      "Name: std, Length: 72, dtype: float64\n"
     ]
    },
    {
     "data": {
      "application/vnd.plotly.v1+json": {
       "config": {
        "plotlyServerURL": "https://plot.ly"
       },
       "data": [
        {
         "alignmentgroup": "True",
         "error_y": {
          "array": [
           5.277316334060269,
           1.6389081889932036,
           4.0405276829751875,
           4.198161657899422,
           5.980985609701338,
           1.0081872627858288,
           9.387418818045518,
           1.7773196048686317,
           7.063369776235352,
           7.3417139904576505,
           11.104220589937936,
           1.2382271663266953,
           5.955916211013024,
           1.6297668736437998,
           4.525909205304428,
           4.728538526301006,
           7.1530838729972075,
           1.2386406441984024,
           5.229901258687355,
           1.5967057854489888,
           3.940526266010584,
           4.12374790208796,
           6.434028549077997,
           0.9930131141179229,
           2.8095835328894836,
           1.6016872725711875,
           2.2426976412461426,
           2.3279979089497242,
           3.15695310818218,
           0.9536840495497868,
           6.347757710719367,
           1.7801868283789979,
           4.713237081680405,
           4.987222276540232,
           6.952748339440646,
           0.9497177534441916,
           3.2571946098812674,
           1.4786076050082775,
           2.5675051050665685,
           2.624702490438509,
           4.00435263177692,
           0.967169935966228,
           3.558269904876272,
           1.5350726848662648,
           2.745824812631207,
           2.8040141842690414,
           4.493503266035164,
           0.8720113021535465,
           2.5482444661816746,
           1.5126381497414243,
           2.052858514732899,
           2.1700632608228982,
           2.8513361063881675,
           0.8237504884571213,
           7.555555513093856,
           1.9106160433281962,
           5.693080730855715,
           5.887964711893862,
           8.281254901968111,
           0.949348980203823,
           3.3758540875215837,
           1.4227234400469402,
           2.6653693565434833,
           2.7627181192475625,
           4.0562656286570355,
           0.8392034404095978,
           9.235638334546099,
           1.6034306703666885,
           6.977650557597769,
           7.372367293204949,
           11.188725720138986,
           1.112460349115639
          ],
          "type": "data"
         },
         "hovertemplate": "metric=ARI<br>model=%{x}<br>value=%{y}<extra></extra>",
         "legendgroup": "ARI",
         "marker": {
          "color": "#636efa",
          "pattern": {
           "shape": ""
          }
         },
         "name": "ARI",
         "offsetgroup": "ARI",
         "orientation": "v",
         "showlegend": true,
         "textposition": "outside",
         "texttemplate": "%{value:.2f}",
         "type": "bar",
         "x": [
          "llama1b-cutoff-persona",
          "llama1b-cutoff-np",
          "llama1b-full-persona",
          "llama1b-full-np",
          "llama8b-cutoff-persona",
          "llama8b-cutoff-np",
          "llama8b-full-persona",
          "llama8b-full-np",
          "llama70b-cutoff-persona",
          "llama70b-cutoff-np",
          "llama70b-full-persona",
          "llama70b-full-np"
         ],
         "xaxis": "x",
         "y": [
          11.50946388550722,
          14.331391717243635,
          11.521255170065967,
          12.34588897374416,
          10.419299941631703,
          13.167199402641954,
          10.810181268697583,
          11.439060933798398,
          10.993294981708623,
          15.236851545247657,
          11.70262364872493,
          13.803637650860228
         ],
         "yaxis": "y"
        },
        {
         "alignmentgroup": "True",
         "error_y": {
          "array": [
           5.277316334060269,
           1.6389081889932036,
           4.0405276829751875,
           4.198161657899422,
           5.980985609701338,
           1.0081872627858288,
           9.387418818045518,
           1.7773196048686317,
           7.063369776235352,
           7.3417139904576505,
           11.104220589937936,
           1.2382271663266953,
           5.955916211013024,
           1.6297668736437998,
           4.525909205304428,
           4.728538526301006,
           7.1530838729972075,
           1.2386406441984024,
           5.229901258687355,
           1.5967057854489888,
           3.940526266010584,
           4.12374790208796,
           6.434028549077997,
           0.9930131141179229,
           2.8095835328894836,
           1.6016872725711875,
           2.2426976412461426,
           2.3279979089497242,
           3.15695310818218,
           0.9536840495497868,
           6.347757710719367,
           1.7801868283789979,
           4.713237081680405,
           4.987222276540232,
           6.952748339440646,
           0.9497177534441916,
           3.2571946098812674,
           1.4786076050082775,
           2.5675051050665685,
           2.624702490438509,
           4.00435263177692,
           0.967169935966228,
           3.558269904876272,
           1.5350726848662648,
           2.745824812631207,
           2.8040141842690414,
           4.493503266035164,
           0.8720113021535465,
           2.5482444661816746,
           1.5126381497414243,
           2.052858514732899,
           2.1700632608228982,
           2.8513361063881675,
           0.8237504884571213,
           7.555555513093856,
           1.9106160433281962,
           5.693080730855715,
           5.887964711893862,
           8.281254901968111,
           0.949348980203823,
           3.3758540875215837,
           1.4227234400469402,
           2.6653693565434833,
           2.7627181192475625,
           4.0562656286570355,
           0.8392034404095978,
           9.235638334546099,
           1.6034306703666885,
           6.977650557597769,
           7.372367293204949,
           11.188725720138986,
           1.112460349115639
          ],
          "type": "data"
         },
         "hovertemplate": "metric=Coleman-Liau<br>model=%{x}<br>value=%{y}<extra></extra>",
         "legendgroup": "Coleman-Liau",
         "marker": {
          "color": "#EF553B",
          "pattern": {
           "shape": ""
          }
         },
         "name": "Coleman-Liau",
         "offsetgroup": "Coleman-Liau",
         "orientation": "v",
         "showlegend": true,
         "textposition": "outside",
         "texttemplate": "%{value:.2f}",
         "type": "bar",
         "x": [
          "llama1b-cutoff-persona",
          "llama1b-cutoff-np",
          "llama1b-full-persona",
          "llama1b-full-np",
          "llama8b-cutoff-persona",
          "llama8b-cutoff-np",
          "llama8b-full-persona",
          "llama8b-full-np",
          "llama70b-cutoff-persona",
          "llama70b-cutoff-np",
          "llama70b-full-persona",
          "llama70b-full-np"
         ],
         "xaxis": "x",
         "y": [
          10.260028470092177,
          11.449919579497793,
          9.794340448731106,
          11.2677183497404,
          10.14114635345756,
          11.51648902904401,
          9.962585958997371,
          11.252225960352236,
          10.644809865842165,
          12.230042326684256,
          10.311281099794435,
          11.52184279430741
         ],
         "yaxis": "y"
        },
        {
         "alignmentgroup": "True",
         "error_y": {
          "array": [
           5.277316334060269,
           1.6389081889932036,
           4.0405276829751875,
           4.198161657899422,
           5.980985609701338,
           1.0081872627858288,
           9.387418818045518,
           1.7773196048686317,
           7.063369776235352,
           7.3417139904576505,
           11.104220589937936,
           1.2382271663266953,
           5.955916211013024,
           1.6297668736437998,
           4.525909205304428,
           4.728538526301006,
           7.1530838729972075,
           1.2386406441984024,
           5.229901258687355,
           1.5967057854489888,
           3.940526266010584,
           4.12374790208796,
           6.434028549077997,
           0.9930131141179229,
           2.8095835328894836,
           1.6016872725711875,
           2.2426976412461426,
           2.3279979089497242,
           3.15695310818218,
           0.9536840495497868,
           6.347757710719367,
           1.7801868283789979,
           4.713237081680405,
           4.987222276540232,
           6.952748339440646,
           0.9497177534441916,
           3.2571946098812674,
           1.4786076050082775,
           2.5675051050665685,
           2.624702490438509,
           4.00435263177692,
           0.967169935966228,
           3.558269904876272,
           1.5350726848662648,
           2.745824812631207,
           2.8040141842690414,
           4.493503266035164,
           0.8720113021535465,
           2.5482444661816746,
           1.5126381497414243,
           2.052858514732899,
           2.1700632608228982,
           2.8513361063881675,
           0.8237504884571213,
           7.555555513093856,
           1.9106160433281962,
           5.693080730855715,
           5.887964711893862,
           8.281254901968111,
           0.949348980203823,
           3.3758540875215837,
           1.4227234400469402,
           2.6653693565434833,
           2.7627181192475625,
           4.0562656286570355,
           0.8392034404095978,
           9.235638334546099,
           1.6034306703666885,
           6.977650557597769,
           7.372367293204949,
           11.188725720138986,
           1.112460349115639
          ],
          "type": "data"
         },
         "hovertemplate": "metric=Flesch-Kincaid<br>model=%{x}<br>value=%{y}<extra></extra>",
         "legendgroup": "Flesch-Kincaid",
         "marker": {
          "color": "#00cc96",
          "pattern": {
           "shape": ""
          }
         },
         "name": "Flesch-Kincaid",
         "offsetgroup": "Flesch-Kincaid",
         "orientation": "v",
         "showlegend": true,
         "textposition": "outside",
         "texttemplate": "%{value:.2f}",
         "type": "bar",
         "x": [
          "llama1b-cutoff-persona",
          "llama1b-cutoff-np",
          "llama1b-full-persona",
          "llama1b-full-np",
          "llama8b-cutoff-persona",
          "llama8b-cutoff-np",
          "llama8b-full-persona",
          "llama8b-full-np",
          "llama70b-cutoff-persona",
          "llama70b-cutoff-np",
          "llama70b-full-persona",
          "llama70b-full-np"
         ],
         "xaxis": "x",
         "y": [
          10.864634630389515,
          13.066554913979592,
          10.834319535631094,
          11.55127449703745,
          10.062658188580924,
          12.171196690440636,
          10.330537423408497,
          10.923120287157339,
          10.542960850334847,
          13.946064430314877,
          11.017118190832612,
          12.746115620783632
         ],
         "yaxis": "y"
        },
        {
         "alignmentgroup": "True",
         "error_y": {
          "array": [
           5.277316334060269,
           1.6389081889932036,
           4.0405276829751875,
           4.198161657899422,
           5.980985609701338,
           1.0081872627858288,
           9.387418818045518,
           1.7773196048686317,
           7.063369776235352,
           7.3417139904576505,
           11.104220589937936,
           1.2382271663266953,
           5.955916211013024,
           1.6297668736437998,
           4.525909205304428,
           4.728538526301006,
           7.1530838729972075,
           1.2386406441984024,
           5.229901258687355,
           1.5967057854489888,
           3.940526266010584,
           4.12374790208796,
           6.434028549077997,
           0.9930131141179229,
           2.8095835328894836,
           1.6016872725711875,
           2.2426976412461426,
           2.3279979089497242,
           3.15695310818218,
           0.9536840495497868,
           6.347757710719367,
           1.7801868283789979,
           4.713237081680405,
           4.987222276540232,
           6.952748339440646,
           0.9497177534441916,
           3.2571946098812674,
           1.4786076050082775,
           2.5675051050665685,
           2.624702490438509,
           4.00435263177692,
           0.967169935966228,
           3.558269904876272,
           1.5350726848662648,
           2.745824812631207,
           2.8040141842690414,
           4.493503266035164,
           0.8720113021535465,
           2.5482444661816746,
           1.5126381497414243,
           2.052858514732899,
           2.1700632608228982,
           2.8513361063881675,
           0.8237504884571213,
           7.555555513093856,
           1.9106160433281962,
           5.693080730855715,
           5.887964711893862,
           8.281254901968111,
           0.949348980203823,
           3.3758540875215837,
           1.4227234400469402,
           2.6653693565434833,
           2.7627181192475625,
           4.0562656286570355,
           0.8392034404095978,
           9.235638334546099,
           1.6034306703666885,
           6.977650557597769,
           7.372367293204949,
           11.188725720138986,
           1.112460349115639
          ],
          "type": "data"
         },
         "hovertemplate": "metric=Gunning Fog<br>model=%{x}<br>value=%{y}<extra></extra>",
         "legendgroup": "Gunning Fog",
         "marker": {
          "color": "#ab63fa",
          "pattern": {
           "shape": ""
          }
         },
         "name": "Gunning Fog",
         "offsetgroup": "Gunning Fog",
         "orientation": "v",
         "showlegend": true,
         "textposition": "outside",
         "texttemplate": "%{value:.2f}",
         "type": "bar",
         "x": [
          "llama1b-cutoff-persona",
          "llama1b-cutoff-np",
          "llama1b-full-persona",
          "llama1b-full-np",
          "llama8b-cutoff-persona",
          "llama8b-cutoff-np",
          "llama8b-full-persona",
          "llama8b-full-np",
          "llama70b-cutoff-persona",
          "llama70b-cutoff-np",
          "llama70b-full-persona",
          "llama70b-full-np"
         ],
         "xaxis": "x",
         "y": [
          13.530011364017922,
          15.587508050644612,
          13.621113577627918,
          13.883588875550306,
          12.712237126171061,
          14.357044995916024,
          13.009978324524807,
          12.995781462388656,
          13.438685169626885,
          16.733377394093548,
          13.927683798367733,
          15.259651183322143
         ],
         "yaxis": "y"
        },
        {
         "alignmentgroup": "True",
         "error_y": {
          "array": [
           5.277316334060269,
           1.6389081889932036,
           4.0405276829751875,
           4.198161657899422,
           5.980985609701338,
           1.0081872627858288,
           9.387418818045518,
           1.7773196048686317,
           7.063369776235352,
           7.3417139904576505,
           11.104220589937936,
           1.2382271663266953,
           5.955916211013024,
           1.6297668736437998,
           4.525909205304428,
           4.728538526301006,
           7.1530838729972075,
           1.2386406441984024,
           5.229901258687355,
           1.5967057854489888,
           3.940526266010584,
           4.12374790208796,
           6.434028549077997,
           0.9930131141179229,
           2.8095835328894836,
           1.6016872725711875,
           2.2426976412461426,
           2.3279979089497242,
           3.15695310818218,
           0.9536840495497868,
           6.347757710719367,
           1.7801868283789979,
           4.713237081680405,
           4.987222276540232,
           6.952748339440646,
           0.9497177534441916,
           3.2571946098812674,
           1.4786076050082775,
           2.5675051050665685,
           2.624702490438509,
           4.00435263177692,
           0.967169935966228,
           3.558269904876272,
           1.5350726848662648,
           2.745824812631207,
           2.8040141842690414,
           4.493503266035164,
           0.8720113021535465,
           2.5482444661816746,
           1.5126381497414243,
           2.052858514732899,
           2.1700632608228982,
           2.8513361063881675,
           0.8237504884571213,
           7.555555513093856,
           1.9106160433281962,
           5.693080730855715,
           5.887964711893862,
           8.281254901968111,
           0.949348980203823,
           3.3758540875215837,
           1.4227234400469402,
           2.6653693565434833,
           2.7627181192475625,
           4.0562656286570355,
           0.8392034404095978,
           9.235638334546099,
           1.6034306703666885,
           6.977650557597769,
           7.372367293204949,
           11.188725720138986,
           1.112460349115639
          ],
          "type": "data"
         },
         "hovertemplate": "metric=Linsear Write<br>model=%{x}<br>value=%{y}<extra></extra>",
         "legendgroup": "Linsear Write",
         "marker": {
          "color": "#FFA15A",
          "pattern": {
           "shape": ""
          }
         },
         "name": "Linsear Write",
         "offsetgroup": "Linsear Write",
         "orientation": "v",
         "showlegend": true,
         "textposition": "outside",
         "texttemplate": "%{value:.2f}",
         "type": "bar",
         "x": [
          "llama1b-cutoff-persona",
          "llama1b-cutoff-np",
          "llama1b-full-persona",
          "llama1b-full-np",
          "llama8b-cutoff-persona",
          "llama8b-cutoff-np",
          "llama8b-full-persona",
          "llama8b-full-np",
          "llama70b-cutoff-persona",
          "llama70b-cutoff-np",
          "llama70b-full-persona",
          "llama70b-full-np"
         ],
         "xaxis": "x",
         "y": [
          13.450863891498765,
          16.16536332005653,
          13.941745530889632,
          13.6201809222637,
          12.2693098432259,
          14.17329057048463,
          13.031094899106696,
          12.38647180292083,
          12.842178918252138,
          17.076648816929282,
          14.13983171675757,
          15.489525291388993
         ],
         "yaxis": "y"
        },
        {
         "alignmentgroup": "True",
         "error_y": {
          "array": [
           5.277316334060269,
           1.6389081889932036,
           4.0405276829751875,
           4.198161657899422,
           5.980985609701338,
           1.0081872627858288,
           9.387418818045518,
           1.7773196048686317,
           7.063369776235352,
           7.3417139904576505,
           11.104220589937936,
           1.2382271663266953,
           5.955916211013024,
           1.6297668736437998,
           4.525909205304428,
           4.728538526301006,
           7.1530838729972075,
           1.2386406441984024,
           5.229901258687355,
           1.5967057854489888,
           3.940526266010584,
           4.12374790208796,
           6.434028549077997,
           0.9930131141179229,
           2.8095835328894836,
           1.6016872725711875,
           2.2426976412461426,
           2.3279979089497242,
           3.15695310818218,
           0.9536840495497868,
           6.347757710719367,
           1.7801868283789979,
           4.713237081680405,
           4.987222276540232,
           6.952748339440646,
           0.9497177534441916,
           3.2571946098812674,
           1.4786076050082775,
           2.5675051050665685,
           2.624702490438509,
           4.00435263177692,
           0.967169935966228,
           3.558269904876272,
           1.5350726848662648,
           2.745824812631207,
           2.8040141842690414,
           4.493503266035164,
           0.8720113021535465,
           2.5482444661816746,
           1.5126381497414243,
           2.052858514732899,
           2.1700632608228982,
           2.8513361063881675,
           0.8237504884571213,
           7.555555513093856,
           1.9106160433281962,
           5.693080730855715,
           5.887964711893862,
           8.281254901968111,
           0.949348980203823,
           3.3758540875215837,
           1.4227234400469402,
           2.6653693565434833,
           2.7627181192475625,
           4.0562656286570355,
           0.8392034404095978,
           9.235638334546099,
           1.6034306703666885,
           6.977650557597769,
           7.372367293204949,
           11.188725720138986,
           1.112460349115639
          ],
          "type": "data"
         },
         "hovertemplate": "metric=Dale Chall<br>model=%{x}<br>value=%{y}<extra></extra>",
         "legendgroup": "Dale Chall",
         "marker": {
          "color": "#19d3f3",
          "pattern": {
           "shape": ""
          }
         },
         "name": "Dale Chall",
         "offsetgroup": "Dale Chall",
         "orientation": "v",
         "showlegend": true,
         "textposition": "outside",
         "texttemplate": "%{value:.2f}",
         "type": "bar",
         "x": [
          "llama1b-cutoff-persona",
          "llama1b-cutoff-np",
          "llama1b-full-persona",
          "llama1b-full-np",
          "llama8b-cutoff-persona",
          "llama8b-cutoff-np",
          "llama8b-full-persona",
          "llama8b-full-np",
          "llama70b-cutoff-persona",
          "llama70b-cutoff-np",
          "llama70b-full-persona",
          "llama70b-full-np"
         ],
         "xaxis": "x",
         "y": [
          9.251753716528286,
          9.82935665870382,
          9.158884026439608,
          9.808291153702283,
          9.212247225199276,
          9.741698731570361,
          9.072954844141819,
          9.680214171771052,
          9.173630854456698,
          9.843573560829462,
          9.04172437311167,
          9.83281855947507
         ],
         "yaxis": "y"
        }
       ],
       "layout": {
        "barmode": "group",
        "legend": {
         "title": {
          "text": "metric"
         },
         "tracegroupgap": 0
        },
        "template": {
         "data": {
          "bar": [
           {
            "error_x": {
             "color": "#2a3f5f"
            },
            "error_y": {
             "color": "#2a3f5f"
            },
            "marker": {
             "line": {
              "color": "#E5ECF6",
              "width": 0.5
             },
             "pattern": {
              "fillmode": "overlay",
              "size": 10,
              "solidity": 0.2
             }
            },
            "type": "bar"
           }
          ],
          "barpolar": [
           {
            "marker": {
             "line": {
              "color": "#E5ECF6",
              "width": 0.5
             },
             "pattern": {
              "fillmode": "overlay",
              "size": 10,
              "solidity": 0.2
             }
            },
            "type": "barpolar"
           }
          ],
          "carpet": [
           {
            "aaxis": {
             "endlinecolor": "#2a3f5f",
             "gridcolor": "white",
             "linecolor": "white",
             "minorgridcolor": "white",
             "startlinecolor": "#2a3f5f"
            },
            "baxis": {
             "endlinecolor": "#2a3f5f",
             "gridcolor": "white",
             "linecolor": "white",
             "minorgridcolor": "white",
             "startlinecolor": "#2a3f5f"
            },
            "type": "carpet"
           }
          ],
          "choropleth": [
           {
            "colorbar": {
             "outlinewidth": 0,
             "ticks": ""
            },
            "type": "choropleth"
           }
          ],
          "contour": [
           {
            "colorbar": {
             "outlinewidth": 0,
             "ticks": ""
            },
            "colorscale": [
             [
              0,
              "#0d0887"
             ],
             [
              0.1111111111111111,
              "#46039f"
             ],
             [
              0.2222222222222222,
              "#7201a8"
             ],
             [
              0.3333333333333333,
              "#9c179e"
             ],
             [
              0.4444444444444444,
              "#bd3786"
             ],
             [
              0.5555555555555556,
              "#d8576b"
             ],
             [
              0.6666666666666666,
              "#ed7953"
             ],
             [
              0.7777777777777778,
              "#fb9f3a"
             ],
             [
              0.8888888888888888,
              "#fdca26"
             ],
             [
              1,
              "#f0f921"
             ]
            ],
            "type": "contour"
           }
          ],
          "contourcarpet": [
           {
            "colorbar": {
             "outlinewidth": 0,
             "ticks": ""
            },
            "type": "contourcarpet"
           }
          ],
          "heatmap": [
           {
            "colorbar": {
             "outlinewidth": 0,
             "ticks": ""
            },
            "colorscale": [
             [
              0,
              "#0d0887"
             ],
             [
              0.1111111111111111,
              "#46039f"
             ],
             [
              0.2222222222222222,
              "#7201a8"
             ],
             [
              0.3333333333333333,
              "#9c179e"
             ],
             [
              0.4444444444444444,
              "#bd3786"
             ],
             [
              0.5555555555555556,
              "#d8576b"
             ],
             [
              0.6666666666666666,
              "#ed7953"
             ],
             [
              0.7777777777777778,
              "#fb9f3a"
             ],
             [
              0.8888888888888888,
              "#fdca26"
             ],
             [
              1,
              "#f0f921"
             ]
            ],
            "type": "heatmap"
           }
          ],
          "heatmapgl": [
           {
            "colorbar": {
             "outlinewidth": 0,
             "ticks": ""
            },
            "colorscale": [
             [
              0,
              "#0d0887"
             ],
             [
              0.1111111111111111,
              "#46039f"
             ],
             [
              0.2222222222222222,
              "#7201a8"
             ],
             [
              0.3333333333333333,
              "#9c179e"
             ],
             [
              0.4444444444444444,
              "#bd3786"
             ],
             [
              0.5555555555555556,
              "#d8576b"
             ],
             [
              0.6666666666666666,
              "#ed7953"
             ],
             [
              0.7777777777777778,
              "#fb9f3a"
             ],
             [
              0.8888888888888888,
              "#fdca26"
             ],
             [
              1,
              "#f0f921"
             ]
            ],
            "type": "heatmapgl"
           }
          ],
          "histogram": [
           {
            "marker": {
             "pattern": {
              "fillmode": "overlay",
              "size": 10,
              "solidity": 0.2
             }
            },
            "type": "histogram"
           }
          ],
          "histogram2d": [
           {
            "colorbar": {
             "outlinewidth": 0,
             "ticks": ""
            },
            "colorscale": [
             [
              0,
              "#0d0887"
             ],
             [
              0.1111111111111111,
              "#46039f"
             ],
             [
              0.2222222222222222,
              "#7201a8"
             ],
             [
              0.3333333333333333,
              "#9c179e"
             ],
             [
              0.4444444444444444,
              "#bd3786"
             ],
             [
              0.5555555555555556,
              "#d8576b"
             ],
             [
              0.6666666666666666,
              "#ed7953"
             ],
             [
              0.7777777777777778,
              "#fb9f3a"
             ],
             [
              0.8888888888888888,
              "#fdca26"
             ],
             [
              1,
              "#f0f921"
             ]
            ],
            "type": "histogram2d"
           }
          ],
          "histogram2dcontour": [
           {
            "colorbar": {
             "outlinewidth": 0,
             "ticks": ""
            },
            "colorscale": [
             [
              0,
              "#0d0887"
             ],
             [
              0.1111111111111111,
              "#46039f"
             ],
             [
              0.2222222222222222,
              "#7201a8"
             ],
             [
              0.3333333333333333,
              "#9c179e"
             ],
             [
              0.4444444444444444,
              "#bd3786"
             ],
             [
              0.5555555555555556,
              "#d8576b"
             ],
             [
              0.6666666666666666,
              "#ed7953"
             ],
             [
              0.7777777777777778,
              "#fb9f3a"
             ],
             [
              0.8888888888888888,
              "#fdca26"
             ],
             [
              1,
              "#f0f921"
             ]
            ],
            "type": "histogram2dcontour"
           }
          ],
          "mesh3d": [
           {
            "colorbar": {
             "outlinewidth": 0,
             "ticks": ""
            },
            "type": "mesh3d"
           }
          ],
          "parcoords": [
           {
            "line": {
             "colorbar": {
              "outlinewidth": 0,
              "ticks": ""
             }
            },
            "type": "parcoords"
           }
          ],
          "pie": [
           {
            "automargin": true,
            "type": "pie"
           }
          ],
          "scatter": [
           {
            "marker": {
             "colorbar": {
              "outlinewidth": 0,
              "ticks": ""
             }
            },
            "type": "scatter"
           }
          ],
          "scatter3d": [
           {
            "line": {
             "colorbar": {
              "outlinewidth": 0,
              "ticks": ""
             }
            },
            "marker": {
             "colorbar": {
              "outlinewidth": 0,
              "ticks": ""
             }
            },
            "type": "scatter3d"
           }
          ],
          "scattercarpet": [
           {
            "marker": {
             "colorbar": {
              "outlinewidth": 0,
              "ticks": ""
             }
            },
            "type": "scattercarpet"
           }
          ],
          "scattergeo": [
           {
            "marker": {
             "colorbar": {
              "outlinewidth": 0,
              "ticks": ""
             }
            },
            "type": "scattergeo"
           }
          ],
          "scattergl": [
           {
            "marker": {
             "colorbar": {
              "outlinewidth": 0,
              "ticks": ""
             }
            },
            "type": "scattergl"
           }
          ],
          "scattermapbox": [
           {
            "marker": {
             "colorbar": {
              "outlinewidth": 0,
              "ticks": ""
             }
            },
            "type": "scattermapbox"
           }
          ],
          "scatterpolar": [
           {
            "marker": {
             "colorbar": {
              "outlinewidth": 0,
              "ticks": ""
             }
            },
            "type": "scatterpolar"
           }
          ],
          "scatterpolargl": [
           {
            "marker": {
             "colorbar": {
              "outlinewidth": 0,
              "ticks": ""
             }
            },
            "type": "scatterpolargl"
           }
          ],
          "scatterternary": [
           {
            "marker": {
             "colorbar": {
              "outlinewidth": 0,
              "ticks": ""
             }
            },
            "type": "scatterternary"
           }
          ],
          "surface": [
           {
            "colorbar": {
             "outlinewidth": 0,
             "ticks": ""
            },
            "colorscale": [
             [
              0,
              "#0d0887"
             ],
             [
              0.1111111111111111,
              "#46039f"
             ],
             [
              0.2222222222222222,
              "#7201a8"
             ],
             [
              0.3333333333333333,
              "#9c179e"
             ],
             [
              0.4444444444444444,
              "#bd3786"
             ],
             [
              0.5555555555555556,
              "#d8576b"
             ],
             [
              0.6666666666666666,
              "#ed7953"
             ],
             [
              0.7777777777777778,
              "#fb9f3a"
             ],
             [
              0.8888888888888888,
              "#fdca26"
             ],
             [
              1,
              "#f0f921"
             ]
            ],
            "type": "surface"
           }
          ],
          "table": [
           {
            "cells": {
             "fill": {
              "color": "#EBF0F8"
             },
             "line": {
              "color": "white"
             }
            },
            "header": {
             "fill": {
              "color": "#C8D4E3"
             },
             "line": {
              "color": "white"
             }
            },
            "type": "table"
           }
          ]
         },
         "layout": {
          "annotationdefaults": {
           "arrowcolor": "#2a3f5f",
           "arrowhead": 0,
           "arrowwidth": 1
          },
          "autotypenumbers": "strict",
          "coloraxis": {
           "colorbar": {
            "outlinewidth": 0,
            "ticks": ""
           }
          },
          "colorscale": {
           "diverging": [
            [
             0,
             "#8e0152"
            ],
            [
             0.1,
             "#c51b7d"
            ],
            [
             0.2,
             "#de77ae"
            ],
            [
             0.3,
             "#f1b6da"
            ],
            [
             0.4,
             "#fde0ef"
            ],
            [
             0.5,
             "#f7f7f7"
            ],
            [
             0.6,
             "#e6f5d0"
            ],
            [
             0.7,
             "#b8e186"
            ],
            [
             0.8,
             "#7fbc41"
            ],
            [
             0.9,
             "#4d9221"
            ],
            [
             1,
             "#276419"
            ]
           ],
           "sequential": [
            [
             0,
             "#0d0887"
            ],
            [
             0.1111111111111111,
             "#46039f"
            ],
            [
             0.2222222222222222,
             "#7201a8"
            ],
            [
             0.3333333333333333,
             "#9c179e"
            ],
            [
             0.4444444444444444,
             "#bd3786"
            ],
            [
             0.5555555555555556,
             "#d8576b"
            ],
            [
             0.6666666666666666,
             "#ed7953"
            ],
            [
             0.7777777777777778,
             "#fb9f3a"
            ],
            [
             0.8888888888888888,
             "#fdca26"
            ],
            [
             1,
             "#f0f921"
            ]
           ],
           "sequentialminus": [
            [
             0,
             "#0d0887"
            ],
            [
             0.1111111111111111,
             "#46039f"
            ],
            [
             0.2222222222222222,
             "#7201a8"
            ],
            [
             0.3333333333333333,
             "#9c179e"
            ],
            [
             0.4444444444444444,
             "#bd3786"
            ],
            [
             0.5555555555555556,
             "#d8576b"
            ],
            [
             0.6666666666666666,
             "#ed7953"
            ],
            [
             0.7777777777777778,
             "#fb9f3a"
            ],
            [
             0.8888888888888888,
             "#fdca26"
            ],
            [
             1,
             "#f0f921"
            ]
           ]
          },
          "colorway": [
           "#636efa",
           "#EF553B",
           "#00cc96",
           "#ab63fa",
           "#FFA15A",
           "#19d3f3",
           "#FF6692",
           "#B6E880",
           "#FF97FF",
           "#FECB52"
          ],
          "font": {
           "color": "#2a3f5f"
          },
          "geo": {
           "bgcolor": "white",
           "lakecolor": "white",
           "landcolor": "#E5ECF6",
           "showlakes": true,
           "showland": true,
           "subunitcolor": "white"
          },
          "hoverlabel": {
           "align": "left"
          },
          "hovermode": "closest",
          "mapbox": {
           "style": "light"
          },
          "paper_bgcolor": "white",
          "plot_bgcolor": "#E5ECF6",
          "polar": {
           "angularaxis": {
            "gridcolor": "white",
            "linecolor": "white",
            "ticks": ""
           },
           "bgcolor": "#E5ECF6",
           "radialaxis": {
            "gridcolor": "white",
            "linecolor": "white",
            "ticks": ""
           }
          },
          "scene": {
           "xaxis": {
            "backgroundcolor": "#E5ECF6",
            "gridcolor": "white",
            "gridwidth": 2,
            "linecolor": "white",
            "showbackground": true,
            "ticks": "",
            "zerolinecolor": "white"
           },
           "yaxis": {
            "backgroundcolor": "#E5ECF6",
            "gridcolor": "white",
            "gridwidth": 2,
            "linecolor": "white",
            "showbackground": true,
            "ticks": "",
            "zerolinecolor": "white"
           },
           "zaxis": {
            "backgroundcolor": "#E5ECF6",
            "gridcolor": "white",
            "gridwidth": 2,
            "linecolor": "white",
            "showbackground": true,
            "ticks": "",
            "zerolinecolor": "white"
           }
          },
          "shapedefaults": {
           "line": {
            "color": "#2a3f5f"
           }
          },
          "ternary": {
           "aaxis": {
            "gridcolor": "white",
            "linecolor": "white",
            "ticks": ""
           },
           "baxis": {
            "gridcolor": "white",
            "linecolor": "white",
            "ticks": ""
           },
           "bgcolor": "#E5ECF6",
           "caxis": {
            "gridcolor": "white",
            "linecolor": "white",
            "ticks": ""
           }
          },
          "title": {
           "x": 0.05
          },
          "xaxis": {
           "automargin": true,
           "gridcolor": "white",
           "linecolor": "white",
           "ticks": "",
           "title": {
            "standoff": 15
           },
           "zerolinecolor": "white",
           "zerolinewidth": 2
          },
          "yaxis": {
           "automargin": true,
           "gridcolor": "white",
           "linecolor": "white",
           "ticks": "",
           "title": {
            "standoff": 15
           },
           "zerolinecolor": "white",
           "zerolinewidth": 2
          }
         }
        },
        "title": {
         "text": "Readability Metrics"
        },
        "xaxis": {
         "anchor": "y",
         "domain": [
          0,
          1
         ],
         "title": {
          "text": "model"
         }
        },
        "yaxis": {
         "anchor": "x",
         "domain": [
          0,
          1
         ],
         "tickvals": [
          0,
          2,
          4,
          6,
          8,
          10,
          12,
          14,
          16,
          18
         ],
         "title": {
          "text": "value"
         }
        }
       }
      }
     },
     "metadata": {},
     "output_type": "display_data"
    }
   ],
   "source": [
    "averages = averages[averages[\"metric\"] != \"Flesch\"]\n",
    "fig = px.bar(averages, x=\"model\", y=\"value\", color=\"metric\", barmode=\"group\", title=\"Readability Metrics\")\n",
    "# add tick marks on y-axis\n",
    "fig.update_yaxes(tickvals=np.arange(0, 20, 2))\n",
    "# add values to bars\n",
    "fig.update_traces(texttemplate='%{value:.2f}', textposition='outside')\n",
    "# add error bars\n",
    "# error bars should be standard deviation / 2\n",
    "averages[\"std\"] = averages[\"std\"] / 2\n",
    "fig.update_traces(error_y=dict(type='data', array=averages[\"std\"]))\n",
    "fig.show()\n"
   ]
  },
  {
   "cell_type": "code",
   "execution_count": null,
   "metadata": {},
   "outputs": [
    {
     "data": {
      "application/vnd.plotly.v1+json": {
       "config": {
        "plotlyServerURL": "https://plot.ly"
       },
       "data": [
        {
         "alignmentgroup": "True",
         "error_y": {
          "array": [
           13.031247447659775,
           19.977977063362946,
           14.138284991811336,
           12.0992349747124,
           9.888936285125334,
           13.627675808021058,
           10.215673773268085,
           10.082717577842205,
           9.389483822899388,
           16.757669838364745,
           10.296733754041943,
           19.530789033028054
          ],
          "type": "data"
         },
         "hovertemplate": "model=%{x}<br>value=%{y}<extra></extra>",
         "legendgroup": "",
         "marker": {
          "color": "#636efa",
          "pattern": {
           "shape": ""
          }
         },
         "name": "",
         "offsetgroup": "",
         "orientation": "v",
         "showlegend": false,
         "textposition": "inside",
         "texttemplate": "%{value:.2f}",
         "type": "bar",
         "x": [
          "llama1b-cutoff-persona",
          "llama1b-cutoff-np",
          "llama1b-full-persona",
          "llama1b-full-np",
          "llama8b-cutoff-persona",
          "llama8b-cutoff-np",
          "llama8b-full-persona",
          "llama8b-full-np",
          "llama70b-cutoff-persona",
          "llama70b-cutoff-np",
          "llama70b-full-persona",
          "llama70b-full-np"
         ],
         "xaxis": "x",
         "y": [
          53.85785139293949,
          44.327869249624506,
          55.55131521871135,
          48.640155271127554,
          56.12042151314125,
          46.30510943076443,
          56.2511885289165,
          49.82462776859684,
          53.475596022202566,
          39.42157838352203,
          53.74811126937002,
          44.54612482221943
         ],
         "yaxis": "y"
        }
       ],
       "layout": {
        "barmode": "relative",
        "legend": {
         "tracegroupgap": 0
        },
        "template": {
         "data": {
          "bar": [
           {
            "error_x": {
             "color": "#2a3f5f"
            },
            "error_y": {
             "color": "#2a3f5f"
            },
            "marker": {
             "line": {
              "color": "#E5ECF6",
              "width": 0.5
             },
             "pattern": {
              "fillmode": "overlay",
              "size": 10,
              "solidity": 0.2
             }
            },
            "type": "bar"
           }
          ],
          "barpolar": [
           {
            "marker": {
             "line": {
              "color": "#E5ECF6",
              "width": 0.5
             },
             "pattern": {
              "fillmode": "overlay",
              "size": 10,
              "solidity": 0.2
             }
            },
            "type": "barpolar"
           }
          ],
          "carpet": [
           {
            "aaxis": {
             "endlinecolor": "#2a3f5f",
             "gridcolor": "white",
             "linecolor": "white",
             "minorgridcolor": "white",
             "startlinecolor": "#2a3f5f"
            },
            "baxis": {
             "endlinecolor": "#2a3f5f",
             "gridcolor": "white",
             "linecolor": "white",
             "minorgridcolor": "white",
             "startlinecolor": "#2a3f5f"
            },
            "type": "carpet"
           }
          ],
          "choropleth": [
           {
            "colorbar": {
             "outlinewidth": 0,
             "ticks": ""
            },
            "type": "choropleth"
           }
          ],
          "contour": [
           {
            "colorbar": {
             "outlinewidth": 0,
             "ticks": ""
            },
            "colorscale": [
             [
              0,
              "#0d0887"
             ],
             [
              0.1111111111111111,
              "#46039f"
             ],
             [
              0.2222222222222222,
              "#7201a8"
             ],
             [
              0.3333333333333333,
              "#9c179e"
             ],
             [
              0.4444444444444444,
              "#bd3786"
             ],
             [
              0.5555555555555556,
              "#d8576b"
             ],
             [
              0.6666666666666666,
              "#ed7953"
             ],
             [
              0.7777777777777778,
              "#fb9f3a"
             ],
             [
              0.8888888888888888,
              "#fdca26"
             ],
             [
              1,
              "#f0f921"
             ]
            ],
            "type": "contour"
           }
          ],
          "contourcarpet": [
           {
            "colorbar": {
             "outlinewidth": 0,
             "ticks": ""
            },
            "type": "contourcarpet"
           }
          ],
          "heatmap": [
           {
            "colorbar": {
             "outlinewidth": 0,
             "ticks": ""
            },
            "colorscale": [
             [
              0,
              "#0d0887"
             ],
             [
              0.1111111111111111,
              "#46039f"
             ],
             [
              0.2222222222222222,
              "#7201a8"
             ],
             [
              0.3333333333333333,
              "#9c179e"
             ],
             [
              0.4444444444444444,
              "#bd3786"
             ],
             [
              0.5555555555555556,
              "#d8576b"
             ],
             [
              0.6666666666666666,
              "#ed7953"
             ],
             [
              0.7777777777777778,
              "#fb9f3a"
             ],
             [
              0.8888888888888888,
              "#fdca26"
             ],
             [
              1,
              "#f0f921"
             ]
            ],
            "type": "heatmap"
           }
          ],
          "heatmapgl": [
           {
            "colorbar": {
             "outlinewidth": 0,
             "ticks": ""
            },
            "colorscale": [
             [
              0,
              "#0d0887"
             ],
             [
              0.1111111111111111,
              "#46039f"
             ],
             [
              0.2222222222222222,
              "#7201a8"
             ],
             [
              0.3333333333333333,
              "#9c179e"
             ],
             [
              0.4444444444444444,
              "#bd3786"
             ],
             [
              0.5555555555555556,
              "#d8576b"
             ],
             [
              0.6666666666666666,
              "#ed7953"
             ],
             [
              0.7777777777777778,
              "#fb9f3a"
             ],
             [
              0.8888888888888888,
              "#fdca26"
             ],
             [
              1,
              "#f0f921"
             ]
            ],
            "type": "heatmapgl"
           }
          ],
          "histogram": [
           {
            "marker": {
             "pattern": {
              "fillmode": "overlay",
              "size": 10,
              "solidity": 0.2
             }
            },
            "type": "histogram"
           }
          ],
          "histogram2d": [
           {
            "colorbar": {
             "outlinewidth": 0,
             "ticks": ""
            },
            "colorscale": [
             [
              0,
              "#0d0887"
             ],
             [
              0.1111111111111111,
              "#46039f"
             ],
             [
              0.2222222222222222,
              "#7201a8"
             ],
             [
              0.3333333333333333,
              "#9c179e"
             ],
             [
              0.4444444444444444,
              "#bd3786"
             ],
             [
              0.5555555555555556,
              "#d8576b"
             ],
             [
              0.6666666666666666,
              "#ed7953"
             ],
             [
              0.7777777777777778,
              "#fb9f3a"
             ],
             [
              0.8888888888888888,
              "#fdca26"
             ],
             [
              1,
              "#f0f921"
             ]
            ],
            "type": "histogram2d"
           }
          ],
          "histogram2dcontour": [
           {
            "colorbar": {
             "outlinewidth": 0,
             "ticks": ""
            },
            "colorscale": [
             [
              0,
              "#0d0887"
             ],
             [
              0.1111111111111111,
              "#46039f"
             ],
             [
              0.2222222222222222,
              "#7201a8"
             ],
             [
              0.3333333333333333,
              "#9c179e"
             ],
             [
              0.4444444444444444,
              "#bd3786"
             ],
             [
              0.5555555555555556,
              "#d8576b"
             ],
             [
              0.6666666666666666,
              "#ed7953"
             ],
             [
              0.7777777777777778,
              "#fb9f3a"
             ],
             [
              0.8888888888888888,
              "#fdca26"
             ],
             [
              1,
              "#f0f921"
             ]
            ],
            "type": "histogram2dcontour"
           }
          ],
          "mesh3d": [
           {
            "colorbar": {
             "outlinewidth": 0,
             "ticks": ""
            },
            "type": "mesh3d"
           }
          ],
          "parcoords": [
           {
            "line": {
             "colorbar": {
              "outlinewidth": 0,
              "ticks": ""
             }
            },
            "type": "parcoords"
           }
          ],
          "pie": [
           {
            "automargin": true,
            "type": "pie"
           }
          ],
          "scatter": [
           {
            "marker": {
             "colorbar": {
              "outlinewidth": 0,
              "ticks": ""
             }
            },
            "type": "scatter"
           }
          ],
          "scatter3d": [
           {
            "line": {
             "colorbar": {
              "outlinewidth": 0,
              "ticks": ""
             }
            },
            "marker": {
             "colorbar": {
              "outlinewidth": 0,
              "ticks": ""
             }
            },
            "type": "scatter3d"
           }
          ],
          "scattercarpet": [
           {
            "marker": {
             "colorbar": {
              "outlinewidth": 0,
              "ticks": ""
             }
            },
            "type": "scattercarpet"
           }
          ],
          "scattergeo": [
           {
            "marker": {
             "colorbar": {
              "outlinewidth": 0,
              "ticks": ""
             }
            },
            "type": "scattergeo"
           }
          ],
          "scattergl": [
           {
            "marker": {
             "colorbar": {
              "outlinewidth": 0,
              "ticks": ""
             }
            },
            "type": "scattergl"
           }
          ],
          "scattermapbox": [
           {
            "marker": {
             "colorbar": {
              "outlinewidth": 0,
              "ticks": ""
             }
            },
            "type": "scattermapbox"
           }
          ],
          "scatterpolar": [
           {
            "marker": {
             "colorbar": {
              "outlinewidth": 0,
              "ticks": ""
             }
            },
            "type": "scatterpolar"
           }
          ],
          "scatterpolargl": [
           {
            "marker": {
             "colorbar": {
              "outlinewidth": 0,
              "ticks": ""
             }
            },
            "type": "scatterpolargl"
           }
          ],
          "scatterternary": [
           {
            "marker": {
             "colorbar": {
              "outlinewidth": 0,
              "ticks": ""
             }
            },
            "type": "scatterternary"
           }
          ],
          "surface": [
           {
            "colorbar": {
             "outlinewidth": 0,
             "ticks": ""
            },
            "colorscale": [
             [
              0,
              "#0d0887"
             ],
             [
              0.1111111111111111,
              "#46039f"
             ],
             [
              0.2222222222222222,
              "#7201a8"
             ],
             [
              0.3333333333333333,
              "#9c179e"
             ],
             [
              0.4444444444444444,
              "#bd3786"
             ],
             [
              0.5555555555555556,
              "#d8576b"
             ],
             [
              0.6666666666666666,
              "#ed7953"
             ],
             [
              0.7777777777777778,
              "#fb9f3a"
             ],
             [
              0.8888888888888888,
              "#fdca26"
             ],
             [
              1,
              "#f0f921"
             ]
            ],
            "type": "surface"
           }
          ],
          "table": [
           {
            "cells": {
             "fill": {
              "color": "#EBF0F8"
             },
             "line": {
              "color": "white"
             }
            },
            "header": {
             "fill": {
              "color": "#C8D4E3"
             },
             "line": {
              "color": "white"
             }
            },
            "type": "table"
           }
          ]
         },
         "layout": {
          "annotationdefaults": {
           "arrowcolor": "#2a3f5f",
           "arrowhead": 0,
           "arrowwidth": 1
          },
          "autotypenumbers": "strict",
          "coloraxis": {
           "colorbar": {
            "outlinewidth": 0,
            "ticks": ""
           }
          },
          "colorscale": {
           "diverging": [
            [
             0,
             "#8e0152"
            ],
            [
             0.1,
             "#c51b7d"
            ],
            [
             0.2,
             "#de77ae"
            ],
            [
             0.3,
             "#f1b6da"
            ],
            [
             0.4,
             "#fde0ef"
            ],
            [
             0.5,
             "#f7f7f7"
            ],
            [
             0.6,
             "#e6f5d0"
            ],
            [
             0.7,
             "#b8e186"
            ],
            [
             0.8,
             "#7fbc41"
            ],
            [
             0.9,
             "#4d9221"
            ],
            [
             1,
             "#276419"
            ]
           ],
           "sequential": [
            [
             0,
             "#0d0887"
            ],
            [
             0.1111111111111111,
             "#46039f"
            ],
            [
             0.2222222222222222,
             "#7201a8"
            ],
            [
             0.3333333333333333,
             "#9c179e"
            ],
            [
             0.4444444444444444,
             "#bd3786"
            ],
            [
             0.5555555555555556,
             "#d8576b"
            ],
            [
             0.6666666666666666,
             "#ed7953"
            ],
            [
             0.7777777777777778,
             "#fb9f3a"
            ],
            [
             0.8888888888888888,
             "#fdca26"
            ],
            [
             1,
             "#f0f921"
            ]
           ],
           "sequentialminus": [
            [
             0,
             "#0d0887"
            ],
            [
             0.1111111111111111,
             "#46039f"
            ],
            [
             0.2222222222222222,
             "#7201a8"
            ],
            [
             0.3333333333333333,
             "#9c179e"
            ],
            [
             0.4444444444444444,
             "#bd3786"
            ],
            [
             0.5555555555555556,
             "#d8576b"
            ],
            [
             0.6666666666666666,
             "#ed7953"
            ],
            [
             0.7777777777777778,
             "#fb9f3a"
            ],
            [
             0.8888888888888888,
             "#fdca26"
            ],
            [
             1,
             "#f0f921"
            ]
           ]
          },
          "colorway": [
           "#636efa",
           "#EF553B",
           "#00cc96",
           "#ab63fa",
           "#FFA15A",
           "#19d3f3",
           "#FF6692",
           "#B6E880",
           "#FF97FF",
           "#FECB52"
          ],
          "font": {
           "color": "#2a3f5f"
          },
          "geo": {
           "bgcolor": "white",
           "lakecolor": "white",
           "landcolor": "#E5ECF6",
           "showlakes": true,
           "showland": true,
           "subunitcolor": "white"
          },
          "hoverlabel": {
           "align": "left"
          },
          "hovermode": "closest",
          "mapbox": {
           "style": "light"
          },
          "paper_bgcolor": "white",
          "plot_bgcolor": "#E5ECF6",
          "polar": {
           "angularaxis": {
            "gridcolor": "white",
            "linecolor": "white",
            "ticks": ""
           },
           "bgcolor": "#E5ECF6",
           "radialaxis": {
            "gridcolor": "white",
            "linecolor": "white",
            "ticks": ""
           }
          },
          "scene": {
           "xaxis": {
            "backgroundcolor": "#E5ECF6",
            "gridcolor": "white",
            "gridwidth": 2,
            "linecolor": "white",
            "showbackground": true,
            "ticks": "",
            "zerolinecolor": "white"
           },
           "yaxis": {
            "backgroundcolor": "#E5ECF6",
            "gridcolor": "white",
            "gridwidth": 2,
            "linecolor": "white",
            "showbackground": true,
            "ticks": "",
            "zerolinecolor": "white"
           },
           "zaxis": {
            "backgroundcolor": "#E5ECF6",
            "gridcolor": "white",
            "gridwidth": 2,
            "linecolor": "white",
            "showbackground": true,
            "ticks": "",
            "zerolinecolor": "white"
           }
          },
          "shapedefaults": {
           "line": {
            "color": "#2a3f5f"
           }
          },
          "ternary": {
           "aaxis": {
            "gridcolor": "white",
            "linecolor": "white",
            "ticks": ""
           },
           "baxis": {
            "gridcolor": "white",
            "linecolor": "white",
            "ticks": ""
           },
           "bgcolor": "#E5ECF6",
           "caxis": {
            "gridcolor": "white",
            "linecolor": "white",
            "ticks": ""
           }
          },
          "title": {
           "x": 0.05
          },
          "xaxis": {
           "automargin": true,
           "gridcolor": "white",
           "linecolor": "white",
           "ticks": "",
           "title": {
            "standoff": 15
           },
           "zerolinecolor": "white",
           "zerolinewidth": 2
          },
          "yaxis": {
           "automargin": true,
           "gridcolor": "white",
           "linecolor": "white",
           "ticks": "",
           "title": {
            "standoff": 15
           },
           "zerolinecolor": "white",
           "zerolinewidth": 2
          }
         }
        },
        "title": {
         "text": "Flesch Score"
        },
        "xaxis": {
         "anchor": "y",
         "domain": [
          0,
          1
         ],
         "title": {
          "text": "model"
         }
        },
        "yaxis": {
         "anchor": "x",
         "domain": [
          0,
          1
         ],
         "title": {
          "text": "value"
         }
        }
       }
      }
     },
     "metadata": {},
     "output_type": "display_data"
    }
   ],
   "source": [
    "averages = pd.read_csv(\"../output/readability_averages.tsv\", sep=\"\\t\")\n",
    "averages = averages[averages[\"metric\"] == \"Flesch\"]\n",
    "averages[\"std\"] = averages[\"std\"] / 2\n",
    "fig = px.bar(averages, x=\"model\", y=\"value\", title=\"Flesch Score\")\n",
    "# add values to bars\n",
    "fig.update_traces(texttemplate='%{value:.2f}', textposition='inside')\n",
    "# add error bars\n",
    "fig.update_traces(error_y=dict(type='data', array=averages[\"std\"]))\n",
    "fig.show()"
   ]
  }
 ],
 "metadata": {
  "kernelspec": {
   "display_name": "base",
   "language": "python",
   "name": "python3"
  },
  "language_info": {
   "codemirror_mode": {
    "name": "ipython",
    "version": 3
   },
   "file_extension": ".py",
   "mimetype": "text/x-python",
   "name": "python",
   "nbconvert_exporter": "python",
   "pygments_lexer": "ipython3",
   "version": "3.9.12"
  }
 },
 "nbformat": 4,
 "nbformat_minor": 2
}
