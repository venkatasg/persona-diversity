{
 "cells": [
  {
   "cell_type": "code",
   "execution_count": 1,
   "id": "86f110ba-c1e0-4344-a487-3cfb5c17f56f",
   "metadata": {},
   "outputs": [],
   "source": [
    "import pandas as pd\n",
    "import random\n",
    "import numpy as np\n",
    "from tqdm import tqdm\n",
    "import ipdb\n",
    "import re\n",
    "from datasets import load_dataset\n",
    "from diversity import compression_ratio, homogenization_score, ngram_diversity_score, extract_patterns, get_pos, pos_patterns, token_patterns\n",
    "import json\n",
    "from collections import Counter\n",
    "\n",
    "tqdm.pandas()\n",
    "import matplotlib.pyplot as plt\n",
    "# import mplcursors\n",
    "import seaborn as sns\n",
    "%matplotlib inline\n",
    "sns.set(style='darkgrid', context='notebook', rc={'figure.figsize':(14,10)}, font_scale=2)\n",
    "\n",
    "pd.set_option('display.max_rows', 100)\n",
    "pd.set_option('display.max_columns', 100)\n",
    "pd.set_option('display.width', None)\n",
    "pd.set_option('display.max_colwidth', None)\n",
    "pd.set_option('chained_assignment',None)\n",
    "\n",
    "# Set random seeds for reproducibility on a specific machine\n",
    "random.seed(1)\n",
    "np.random.seed(1)\n",
    "np.random.RandomState(1)\n",
    "np.set_printoptions(precision=3)"
   ]
  },
  {
   "cell_type": "markdown",
   "id": "972bcea6-c7a2-48a3-8490-b20ae30a1e83",
   "metadata": {},
   "source": [
    "## Dolly human written responses diversity analysis"
   ]
  },
  {
   "cell_type": "code",
   "execution_count": 2,
   "id": "823907fb-bc10-49b2-a061-2b0f3558c1c5",
   "metadata": {},
   "outputs": [
    {
     "data": {
      "text/plain": [
       "'a Spanish-speaking patient with severe myopia interested in LASIK eye surgery'"
      ]
     },
     "execution_count": 2,
     "metadata": {},
     "output_type": "execute_result"
    }
   ],
   "source": [
    "with open('../data/sample_personas.txt', 'r') as f:\n",
    "    personas = [x.strip() for x in f.readlines()]\n",
    "personas[2]"
   ]
  },
  {
   "cell_type": "code",
   "execution_count": 3,
   "id": "6a090ecd-41e0-4465-86a7-6f7a81b4c484",
   "metadata": {},
   "outputs": [],
   "source": [
    "dolly = load_dataset(\"databricks/databricks-dolly-15k\")[\"train\"].filter(lambda row: row['category']=='creative_writing').to_pandas()\n",
    "sample = pd.read_csv('../data/dolly_creative_prompts_sample.tsv', sep='\\t')"
   ]
  },
  {
   "cell_type": "code",
   "execution_count": 4,
   "id": "d2f2128c-c995-4e2f-947a-9d079bdb52bd",
   "metadata": {
    "scrolled": true
   },
   "outputs": [
    {
     "data": {
      "text/html": [
       "<div>\n",
       "<style scoped>\n",
       "    .dataframe tbody tr th:only-of-type {\n",
       "        vertical-align: middle;\n",
       "    }\n",
       "\n",
       "    .dataframe tbody tr th {\n",
       "        vertical-align: top;\n",
       "    }\n",
       "\n",
       "    .dataframe thead th {\n",
       "        text-align: right;\n",
       "    }\n",
       "</style>\n",
       "<table border=\"1\" class=\"dataframe\">\n",
       "  <thead>\n",
       "    <tr style=\"text-align: right;\">\n",
       "      <th></th>\n",
       "      <th>index</th>\n",
       "      <th>instruction</th>\n",
       "      <th>num_tokens</th>\n",
       "      <th>num_tokens_round</th>\n",
       "      <th>num_words_round</th>\n",
       "    </tr>\n",
       "  </thead>\n",
       "  <tbody>\n",
       "    <tr>\n",
       "      <th>0</th>\n",
       "      <td>525</td>\n",
       "      <td>Please propose an argument to convince my mother that she increases the amount of money that I get every month during my studies. I think the current amount is too low.</td>\n",
       "      <td>211</td>\n",
       "      <td>210</td>\n",
       "      <td>180</td>\n",
       "    </tr>\n",
       "    <tr>\n",
       "      <th>1</th>\n",
       "      <td>172</td>\n",
       "      <td>Write a paragraph to refute a claim by a colleague that ancient structures such as Stonehenge, the Great Pyramid are evidence of UFO activities on Earth</td>\n",
       "      <td>189</td>\n",
       "      <td>190</td>\n",
       "      <td>160</td>\n",
       "    </tr>\n",
       "    <tr>\n",
       "      <th>2</th>\n",
       "      <td>109</td>\n",
       "      <td>What is the best way to answer an interview question?</td>\n",
       "      <td>128</td>\n",
       "      <td>130</td>\n",
       "      <td>100</td>\n",
       "    </tr>\n",
       "    <tr>\n",
       "      <th>3</th>\n",
       "      <td>37</td>\n",
       "      <td>Write  the first paragraph of an advertising brochure describing an hotel nearby the Annecy Lake in France</td>\n",
       "      <td>89</td>\n",
       "      <td>90</td>\n",
       "      <td>60</td>\n",
       "    </tr>\n",
       "    <tr>\n",
       "      <th>4</th>\n",
       "      <td>295</td>\n",
       "      <td>Write an intro to a meetup about music, medicine, and machines</td>\n",
       "      <td>313</td>\n",
       "      <td>310</td>\n",
       "      <td>220</td>\n",
       "    </tr>\n",
       "  </tbody>\n",
       "</table>\n",
       "</div>"
      ],
      "text/plain": [
       "   index  \\\n",
       "0    525   \n",
       "1    172   \n",
       "2    109   \n",
       "3     37   \n",
       "4    295   \n",
       "\n",
       "                                                                                                                                                                instruction  \\\n",
       "0  Please propose an argument to convince my mother that she increases the amount of money that I get every month during my studies. I think the current amount is too low.   \n",
       "1                  Write a paragraph to refute a claim by a colleague that ancient structures such as Stonehenge, the Great Pyramid are evidence of UFO activities on Earth   \n",
       "2                                                                                                                     What is the best way to answer an interview question?   \n",
       "3                                                                Write  the first paragraph of an advertising brochure describing an hotel nearby the Annecy Lake in France   \n",
       "4                                                                                                            Write an intro to a meetup about music, medicine, and machines   \n",
       "\n",
       "   num_tokens  num_tokens_round  num_words_round  \n",
       "0         211               210              180  \n",
       "1         189               190              160  \n",
       "2         128               130              100  \n",
       "3          89                90               60  \n",
       "4         313               310              220  "
      ]
     },
     "execution_count": 4,
     "metadata": {},
     "output_type": "execute_result"
    }
   ],
   "source": [
    "sample.head()"
   ]
  },
  {
   "cell_type": "code",
   "execution_count": 5,
   "id": "300fd574-c589-45c8-bed1-aa1d2461feda",
   "metadata": {
    "scrolled": true
   },
   "outputs": [
    {
     "data": {
      "text/html": [
       "<div>\n",
       "<style scoped>\n",
       "    .dataframe tbody tr th:only-of-type {\n",
       "        vertical-align: middle;\n",
       "    }\n",
       "\n",
       "    .dataframe tbody tr th {\n",
       "        vertical-align: top;\n",
       "    }\n",
       "\n",
       "    .dataframe thead th {\n",
       "        text-align: right;\n",
       "    }\n",
       "</style>\n",
       "<table border=\"1\" class=\"dataframe\">\n",
       "  <thead>\n",
       "    <tr style=\"text-align: right;\">\n",
       "      <th></th>\n",
       "      <th>index</th>\n",
       "      <th>instruction</th>\n",
       "      <th>num_tokens</th>\n",
       "      <th>num_tokens_round</th>\n",
       "      <th>num_words_round</th>\n",
       "      <th>response</th>\n",
       "      <th>prompt_id</th>\n",
       "    </tr>\n",
       "  </thead>\n",
       "  <tbody>\n",
       "    <tr>\n",
       "      <th>0</th>\n",
       "      <td>525</td>\n",
       "      <td>Please propose an argument to convince my mother that she increases the amount of money that I get every month during my studies. I think the current amount is too low.</td>\n",
       "      <td>211</td>\n",
       "      <td>210</td>\n",
       "      <td>180</td>\n",
       "      <td>Dear Mum, I would like to talk to you about the monthly money I get for my studies. I am very grateful that you support me financially during my studies. At the same time, I feel that the current amount is a little bit too low in order to sustain myself. I estimated my monthly expenses and it seems like the money is not enough. We can go through the details if you want. I want to ask you if you can increase the amount so that I can cover my expenses. I understand if you cannot do this or have other reasons against this. However, I want you to know that if you do not increase my monthly money, I will be forced to work part-time next to my studies. There is research that shows that students who work part-time have worse grades than people who do not have to work part-time to afford their studies. I would love to dedicate my full time to my studies to get the best grades and learning outcomes possible; thus, I would prefer not to work part-time. What do you think?</td>\n",
       "      <td>0</td>\n",
       "    </tr>\n",
       "    <tr>\n",
       "      <th>1</th>\n",
       "      <td>172</td>\n",
       "      <td>Write a paragraph to refute a claim by a colleague that ancient structures such as Stonehenge, the Great Pyramid are evidence of UFO activities on Earth</td>\n",
       "      <td>189</td>\n",
       "      <td>190</td>\n",
       "      <td>160</td>\n",
       "      <td>There are several strong arguments against concluding that alien races built the structures like the Stonehenge or the Pyramids. First, there is evidence that these magnificent structures were built by humans. For example, tombs of the pyramid builders were found in the vicinity of the Great Pyramind (with human remains!). The technology to move and assemble the massive stones of the Stonehenge has been shown to be available to humans at that time. Second, given that space is vast the chance of finding one tiny planet among billions is infinitesimal. If alien intelligence had indeed found our one inhabited planet they are unlikely to have just created couple of structures and avoided any further contact with Earth and its inhabitants. In science, Occam’s Razor (“the best explanation is the simplest one”) is a guiding principle and until there is much more evidence of alien visitation it would be inadvisable to jump to a conclusion that aliens built these structures.</td>\n",
       "      <td>1</td>\n",
       "    </tr>\n",
       "    <tr>\n",
       "      <th>2</th>\n",
       "      <td>109</td>\n",
       "      <td>What is the best way to answer an interview question?</td>\n",
       "      <td>128</td>\n",
       "      <td>130</td>\n",
       "      <td>100</td>\n",
       "      <td>The first recommended step is to ask clarifying questions to ensure you understand the question correctly and gather the requirements needed to answer effectively. If it is a mathematical or computer science question, go ahead and work your way through the problem while you verbalize your thought process along the way. If it is a situation question, you should use the STAR method. 1. Situation - set the scene and provide context, 2. Task - describe what was needed to be done and why, 3. Action - explain what action you took, and 4. Result - describe the result of your actions and what you learned from the experience</td>\n",
       "      <td>2</td>\n",
       "    </tr>\n",
       "    <tr>\n",
       "      <th>3</th>\n",
       "      <td>37</td>\n",
       "      <td>Write  the first paragraph of an advertising brochure describing an hotel nearby the Annecy Lake in France</td>\n",
       "      <td>89</td>\n",
       "      <td>90</td>\n",
       "      <td>60</td>\n",
       "      <td>This fantastic hotel is ideally located, minutes away from the Annecy Lake, one of the purest in Europe. The water temperature reaches 27 degrees celcius at the peak season, allowing the guests to swim and enjoy several water activities including wake surf and pedalo. Finally, this region is known for being the home of several cheese specialties like \"Raclette\" and \"Tartiflette\" to name a few.</td>\n",
       "      <td>3</td>\n",
       "    </tr>\n",
       "    <tr>\n",
       "      <th>4</th>\n",
       "      <td>295</td>\n",
       "      <td>Write an intro to a meetup about music, medicine, and machines</td>\n",
       "      <td>313</td>\n",
       "      <td>310</td>\n",
       "      <td>220</td>\n",
       "      <td>Music, Medicine, and Machines\\n\\nJoin us for an imaginative, authentic, and offbeat networking experience that will advance your knowledge of the technologies that impact the health and well-being of our human condition.  To make things interesting (but keep things real), our meetup incorporates an element of music to remind us, first and foremost, we want to advance technology for the greater good, but we don’t want to become robots ourselves.  Instead, we believe that “music is medicine for the soul” so our events will use a dose of music to unite us and to keep things fun and grounded in our humanity.  We’ll explore hot and emerging technologies such as:\\n\\nMachine Learning and all things AI\\nComputer and Machine Vision\\nTelemedicine\\nGenomics\\nAR/VR/MR \\nRobotics\\nCloud \\nDevOps, CI/CD, and Robotic Process Automation (RPA)\\nInfrastructure as Code (IaC) \\nChatbots\\nWearable Tech\\n3D Printing\\nBlockchain\\nAnd many more\\n\\nWe’ll talk about how these disruptive technologies improve Health &amp; Life Sciences and discuss the tenuous balance of innovation + opportunities vs privacy, security, open data, regulations, etc.  We’ll network and get to know each other to explore how each of us can get involved to ensure “the machines” benefit the communities we serve. We encourage attendees such as developers, clinicians, researchers, industry experts, students, educators, industry analysts, regulators, investors, startups, musicians, and all those willing to contribute meaningfully to our mission.</td>\n",
       "      <td>4</td>\n",
       "    </tr>\n",
       "  </tbody>\n",
       "</table>\n",
       "</div>"
      ],
      "text/plain": [
       "   index  \\\n",
       "0    525   \n",
       "1    172   \n",
       "2    109   \n",
       "3     37   \n",
       "4    295   \n",
       "\n",
       "                                                                                                                                                                instruction  \\\n",
       "0  Please propose an argument to convince my mother that she increases the amount of money that I get every month during my studies. I think the current amount is too low.   \n",
       "1                  Write a paragraph to refute a claim by a colleague that ancient structures such as Stonehenge, the Great Pyramid are evidence of UFO activities on Earth   \n",
       "2                                                                                                                     What is the best way to answer an interview question?   \n",
       "3                                                                Write  the first paragraph of an advertising brochure describing an hotel nearby the Annecy Lake in France   \n",
       "4                                                                                                            Write an intro to a meetup about music, medicine, and machines   \n",
       "\n",
       "   num_tokens  num_tokens_round  num_words_round  \\\n",
       "0         211               210              180   \n",
       "1         189               190              160   \n",
       "2         128               130              100   \n",
       "3          89                90               60   \n",
       "4         313               310              220   \n",
       "\n",
       "                                                                                                                                                                                                                                                                                                                                                                                                                                                                                                                                                                                                                                                                                                                                                                                                                                                                                                                                                                                                                                                                                                                                                                                                                                                                                                                                                                                                                                                                                                                                                                  response  \\\n",
       "0                                                                                                                                                                                                                                                                                                                                                                                                                                                                                                                                                          Dear Mum, I would like to talk to you about the monthly money I get for my studies. I am very grateful that you support me financially during my studies. At the same time, I feel that the current amount is a little bit too low in order to sustain myself. I estimated my monthly expenses and it seems like the money is not enough. We can go through the details if you want. I want to ask you if you can increase the amount so that I can cover my expenses. I understand if you cannot do this or have other reasons against this. However, I want you to know that if you do not increase my monthly money, I will be forced to work part-time next to my studies. There is research that shows that students who work part-time have worse grades than people who do not have to work part-time to afford their studies. I would love to dedicate my full time to my studies to get the best grades and learning outcomes possible; thus, I would prefer not to work part-time. What do you think?   \n",
       "1                                                                                                                                                                                                                                                                                                                                                                                                                                                                                                                                                     There are several strong arguments against concluding that alien races built the structures like the Stonehenge or the Pyramids. First, there is evidence that these magnificent structures were built by humans. For example, tombs of the pyramid builders were found in the vicinity of the Great Pyramind (with human remains!). The technology to move and assemble the massive stones of the Stonehenge has been shown to be available to humans at that time. Second, given that space is vast the chance of finding one tiny planet among billions is infinitesimal. If alien intelligence had indeed found our one inhabited planet they are unlikely to have just created couple of structures and avoided any further contact with Earth and its inhabitants. In science, Occam’s Razor (“the best explanation is the simplest one”) is a guiding principle and until there is much more evidence of alien visitation it would be inadvisable to jump to a conclusion that aliens built these structures.   \n",
       "2                                                                                                                                                                                                                                                                                                                                                                                                                                                                                                                                                                                                                                                                                                                                                                                                                                                                                                                          The first recommended step is to ask clarifying questions to ensure you understand the question correctly and gather the requirements needed to answer effectively. If it is a mathematical or computer science question, go ahead and work your way through the problem while you verbalize your thought process along the way. If it is a situation question, you should use the STAR method. 1. Situation - set the scene and provide context, 2. Task - describe what was needed to be done and why, 3. Action - explain what action you took, and 4. Result - describe the result of your actions and what you learned from the experience   \n",
       "3                                                                                                                                                                                                                                                                                                                                                                                                                                                                                                                                                                                                                                                                                                                                                                                                                                                                                                                                                                                                                                                                                                                                                             This fantastic hotel is ideally located, minutes away from the Annecy Lake, one of the purest in Europe. The water temperature reaches 27 degrees celcius at the peak season, allowing the guests to swim and enjoy several water activities including wake surf and pedalo. Finally, this region is known for being the home of several cheese specialties like \"Raclette\" and \"Tartiflette\" to name a few.   \n",
       "4  Music, Medicine, and Machines\\n\\nJoin us for an imaginative, authentic, and offbeat networking experience that will advance your knowledge of the technologies that impact the health and well-being of our human condition.  To make things interesting (but keep things real), our meetup incorporates an element of music to remind us, first and foremost, we want to advance technology for the greater good, but we don’t want to become robots ourselves.  Instead, we believe that “music is medicine for the soul” so our events will use a dose of music to unite us and to keep things fun and grounded in our humanity.  We’ll explore hot and emerging technologies such as:\\n\\nMachine Learning and all things AI\\nComputer and Machine Vision\\nTelemedicine\\nGenomics\\nAR/VR/MR \\nRobotics\\nCloud \\nDevOps, CI/CD, and Robotic Process Automation (RPA)\\nInfrastructure as Code (IaC) \\nChatbots\\nWearable Tech\\n3D Printing\\nBlockchain\\nAnd many more\\n\\nWe’ll talk about how these disruptive technologies improve Health & Life Sciences and discuss the tenuous balance of innovation + opportunities vs privacy, security, open data, regulations, etc.  We’ll network and get to know each other to explore how each of us can get involved to ensure “the machines” benefit the communities we serve. We encourage attendees such as developers, clinicians, researchers, industry experts, students, educators, industry analysts, regulators, investors, startups, musicians, and all those willing to contribute meaningfully to our mission.   \n",
       "\n",
       "   prompt_id  \n",
       "0          0  \n",
       "1          1  \n",
       "2          2  \n",
       "3          3  \n",
       "4          4  "
      ]
     },
     "execution_count": 5,
     "metadata": {},
     "output_type": "execute_result"
    }
   ],
   "source": [
    "sample['response'] = sample['index'].apply(lambda x: dolly.loc[x, 'response'])\n",
    "sample['prompt_id'] = [i for i in range(len(sample))]\n",
    "sample.head()"
   ]
  },
  {
   "cell_type": "code",
   "execution_count": 6,
   "id": "cf0d1931-70b6-403b-a8fc-1be1e06701e6",
   "metadata": {},
   "outputs": [],
   "source": [
    "prompts = sample['instruction'].values.tolist()"
   ]
  },
  {
   "cell_type": "code",
   "execution_count": 7,
   "id": "eb59f56a-59cd-49f4-bcac-a57a48c10f01",
   "metadata": {},
   "outputs": [],
   "source": [
    "human_responses = sample['response'].values.tolist()"
   ]
  },
  {
   "cell_type": "code",
   "execution_count": 8,
   "id": "88df0513-892d-47a3-aa7a-71c21c0f5354",
   "metadata": {},
   "outputs": [
    {
     "data": {
      "text/plain": [
       "95     750\n",
       "47     780\n",
       "83     820\n",
       "72    1440\n",
       "97    2060\n",
       "Name: num_tokens_round, dtype: int64"
      ]
     },
     "execution_count": 8,
     "metadata": {},
     "output_type": "execute_result"
    }
   ],
   "source": [
    "sample.num_tokens_round.sort_values().tail(5)"
   ]
  },
  {
   "cell_type": "code",
   "execution_count": 9,
   "id": "796a2ae7-609b-4cb1-9532-54be158ada3e",
   "metadata": {},
   "outputs": [
    {
     "name": "stdout",
     "output_type": "stream",
     "text": [
      "CR: 2.508, NDS: 3.026, CR-POS: 4.908\n"
     ]
    }
   ],
   "source": [
    "cr = compression_ratio(human_responses, 'gzip')\n",
    "nds = ngram_diversity_score(human_responses, 4)\n",
    "joined_pos, tuples = get_pos(human_responses)\n",
    "ngrams_pos = token_patterns(joined_pos, 5, 10)\n",
    "cr_pos = compression_ratio(joined_pos, 'gzip')\n",
    "print(f\"CR: {cr}, NDS: {nds}, CR-POS: {cr_pos}\")"
   ]
  },
  {
   "cell_type": "markdown",
   "id": "cbc7ed22-8103-4138-9ad6-4dd1008f50ae",
   "metadata": {},
   "source": [
    "# Llama-8B"
   ]
  },
  {
   "cell_type": "markdown",
   "id": "f7c89dd4-2f25-4525-a534-e6f5688e72a2",
   "metadata": {},
   "source": [
    "## No persona, no cutoff"
   ]
  },
  {
   "cell_type": "code",
   "execution_count": 10,
   "id": "5d58ea48-9540-4da3-98bd-aaeb0a7ad9d5",
   "metadata": {},
   "outputs": [
    {
     "data": {
      "text/plain": [
       "(100, 2)"
      ]
     },
     "execution_count": 10,
     "metadata": {},
     "output_type": "execute_result"
    }
   ],
   "source": [
    "np_df = pd.read_csv('../output/llama8b-np/Llama-3.1-8B-Instruct_dolly_output.tsv', sep='\\t')\n",
    "np_df['response'] = np_df.response.apply(lambda x: x.strip())\n",
    "np_df.shape"
   ]
  },
  {
   "cell_type": "code",
   "execution_count": 11,
   "id": "43a98a79-d438-49f6-bba9-f0d77fa73981",
   "metadata": {
    "scrolled": true
   },
   "outputs": [
    {
     "data": {
      "text/html": [
       "<div>\n",
       "<style scoped>\n",
       "    .dataframe tbody tr th:only-of-type {\n",
       "        vertical-align: middle;\n",
       "    }\n",
       "\n",
       "    .dataframe tbody tr th {\n",
       "        vertical-align: top;\n",
       "    }\n",
       "\n",
       "    .dataframe thead th {\n",
       "        text-align: right;\n",
       "    }\n",
       "</style>\n",
       "<table border=\"1\" class=\"dataframe\">\n",
       "  <thead>\n",
       "    <tr style=\"text-align: right;\">\n",
       "      <th></th>\n",
       "      <th>prompt</th>\n",
       "      <th>response</th>\n",
       "      <th>prompt_id</th>\n",
       "    </tr>\n",
       "  </thead>\n",
       "  <tbody>\n",
       "    <tr>\n",
       "      <th>0</th>\n",
       "      <td>Please propose an argument to convince my mother that she increases the amount of money that I get every month during my studies. I think the current amount is too low.</td>\n",
       "      <td>Here's a proposal you can use to convince your mother to increase the amount of money you get every month during your studies:\\n\\n**Start with a positive tone and appreciation**\\n\\n\"Mom, I wanted to talk to you about my allowance. I really appreciate the support you've been providing me throughout my studies so far. I know that you're always there for me, and I'm grateful for that.\"\\n\\n**Explain your financial situation and needs**\\n\\n\"However, I've been thinking a lot about my expenses, and I feel that the current allowance might not be enough to cover everything I need. As you know, I have to pay for my tuition fees, textbooks, and other study materials. I also need money for transportation, food, and other living expenses. Sometimes, I have to make choices between buying the essentials and saving for the future. I was wondering if we could discuss the possibility of increasing my allowance to help me better manage my finances.\"\\n\\n**Highlight the benefits of a higher allowance**\\n\\n\"If we increase my allowance, I think I'll be able to focus more on my studies and achieve my academic goals. I'll be able to afford the resources I need to succeed, and I'll feel more confident and motivated. Additionally, a higher allowance will help me develop good financial habits and learn how to manage my money effectively. This will benefit me not only during my studies but also in the long run, when I'll be responsible for my own finances.\"\\n\\n**Offer a solution and compromise**\\n\\n\"I was thinking that we could discuss a possible increase of [specific amount] every month. I know that this might require some adjustments, but I'm willing to work hard and earn my keep. I could take on more responsibilities around the house, help with chores, or even get a part-time job to supplement my allowance. I'm open to finding a solution that works for both of us.\"\\n\\n**Show that you're responsible and committed**\\n\\n\"Mom, I want to assure you that I'm committed to my studies and my future. I'm working hard to achieve my goals, and I appreciate your support. I promise to be responsible with the increased allowance and use it wisely. I'll keep you updated on my expenses and finances, and I'll be grateful for your continued guidance and support.\"\\n\\nRemember to have an open and respectful conversation with your mother, and be prepared to listen to her concerns and suggestions. Good luck!</td>\n",
       "      <td>0</td>\n",
       "    </tr>\n",
       "    <tr>\n",
       "      <th>1</th>\n",
       "      <td>Write a paragraph to refute a claim by a colleague that ancient structures such as Stonehenge, the Great Pyramid are evidence of UFO activities on Earth</td>\n",
       "      <td>While I understand the intrigue behind the idea of ancient structures being evidence of UFO activities, I strongly disagree with the notion that sites like Stonehenge and the Great Pyramid are proof of extraterrestrial intervention.  The overwhelming consensus among archaeologists, historians, and scientists is that these structures were built by the ingenuity and labor of ancient civilizations using the knowledge and tools available to them at the time.  The construction of Stonehenge, for example, is now widely attributed to the Neolithic people of Britain, who likely used a combination of astronomical observations and engineering skills to align the stones in a precise manner. Similarly, the Great Pyramid of Giza is believed to have been constructed by the ancient Egyptians using a system of ramps, pulleys, and levers, rather than any extraterrestrial assistance. While the idea of ancient UFO activity may capture our imagination, it is essential to approach such claims with a critical and evidence-based perspective, rather than relying on speculation or unproven theories.</td>\n",
       "      <td>1</td>\n",
       "    </tr>\n",
       "    <tr>\n",
       "      <th>2</th>\n",
       "      <td>What is the best way to answer an interview question?</td>\n",
       "      <td>The best way to answer an interview question involves a structured approach that showcases your skills, experience, and fit for the role. Here's a step-by-step guide to help you craft effective responses:\\n\\n1. **Listen carefully**: Pay attention to the question being asked and understand the context.\\n2. **Take a moment to think**: Don't rush to answer. Take a brief pause to collect your thoughts and organize your response.\\n3. **Use the STAR method**: Structure your answer using the Situation, Task, Action, and Result (STAR) framework:\\n\\t* **S** - Situation: Set the context for the story, providing relevant background information.\\n\\t* **T** - Task: Explain the specific task or challenge you faced.\\n\\t* **A** - Action: Describe the actions you took to address the challenge or complete the task.\\n\\t* **R** - Result: Share the outcome or results of your actions.\\n4. **Be specific**: Use concrete examples and specific details to illustrate your points.\\n5. **Show, don't tell**: Instead of simply stating your skills or qualifications, demonstrate them through examples.\\n6. **Use the company's language**: Incorporate keywords and phrases from the job description and company culture to show your familiarity and enthusiasm.\\n7. **Keep it concise**: Aim for a response that's 1-2 minutes long, max. Practice your responses to ensure you can deliver them within the allotted time.\\n8. **Use a conversational tone**: Speak naturally and avoid jargon or overly technical language.\\n9. **Highlight your achievements**: Emphasize the positive outcomes and accomplishments you've achieved in your previous roles.\\n10. **Be prepared to ask follow-up questions**: Show your interest in the role and the company by asking thoughtful questions.\\n\\nExample:\\n\\n**Question:** Can you tell me about a time when you overcame a difficult challenge in your previous role?\\n\\n**Answer:**\\n\\n\"Ah, yes. In my previous role as a marketing manager, I was tasked with launching a new product campaign within a tight deadline. The challenge was that we had limited budget and resources, and the team was short-staffed.\\n\\n**S** - Situation: The company was launching a new product, and we had to create a buzz around it.\\n\\n**T** - Task: I was responsible for leading the marketing team to develop a comprehensive campaign strategy.\\n\\n**A** - Action: I worked closely with the team to identify key target audiences, develop a social media strategy, and create engaging content. I also negotiated with suppliers to secure sponsorships and partnerships.\\n\\n**R** - Result: We successfully launched the product campaign, and it exceeded our sales projections by 25%. The team received positive feedback from stakeholders, and we received a bonus for exceeding our targets.\"\\n\\nBy following these steps, you'll be well-prepared to answer interview questions confidently and effectively, showcasing your skills and experience to potential employers.</td>\n",
       "      <td>2</td>\n",
       "    </tr>\n",
       "  </tbody>\n",
       "</table>\n",
       "</div>"
      ],
      "text/plain": [
       "                                                                                                                                                                     prompt  \\\n",
       "0  Please propose an argument to convince my mother that she increases the amount of money that I get every month during my studies. I think the current amount is too low.   \n",
       "1                  Write a paragraph to refute a claim by a colleague that ancient structures such as Stonehenge, the Great Pyramid are evidence of UFO activities on Earth   \n",
       "2                                                                                                                     What is the best way to answer an interview question?   \n",
       "\n",
       "                                                                                                                                                                                                                                                                                                                                                                                                                                                                                                                                                                                                                                                                                                                                                                                                                                                                                                                                                                                                                                                                                                                                                                                                                                                                                                                                                                                                                                                                                                                                                                                                                                                                                                                                                                                                                                                                                                                                                                                                                                                                                                                                                                                                                                                                                                                                                                                                                                                                                                                                                                                                                                                                                                                                                                                                                                                                                                                                                                                                                                                    response  \\\n",
       "0                                                                                                                                                                                                                                                                                                                                                                                                                                                                                                                                                         Here's a proposal you can use to convince your mother to increase the amount of money you get every month during your studies:\\n\\n**Start with a positive tone and appreciation**\\n\\n\"Mom, I wanted to talk to you about my allowance. I really appreciate the support you've been providing me throughout my studies so far. I know that you're always there for me, and I'm grateful for that.\"\\n\\n**Explain your financial situation and needs**\\n\\n\"However, I've been thinking a lot about my expenses, and I feel that the current allowance might not be enough to cover everything I need. As you know, I have to pay for my tuition fees, textbooks, and other study materials. I also need money for transportation, food, and other living expenses. Sometimes, I have to make choices between buying the essentials and saving for the future. I was wondering if we could discuss the possibility of increasing my allowance to help me better manage my finances.\"\\n\\n**Highlight the benefits of a higher allowance**\\n\\n\"If we increase my allowance, I think I'll be able to focus more on my studies and achieve my academic goals. I'll be able to afford the resources I need to succeed, and I'll feel more confident and motivated. Additionally, a higher allowance will help me develop good financial habits and learn how to manage my money effectively. This will benefit me not only during my studies but also in the long run, when I'll be responsible for my own finances.\"\\n\\n**Offer a solution and compromise**\\n\\n\"I was thinking that we could discuss a possible increase of [specific amount] every month. I know that this might require some adjustments, but I'm willing to work hard and earn my keep. I could take on more responsibilities around the house, help with chores, or even get a part-time job to supplement my allowance. I'm open to finding a solution that works for both of us.\"\\n\\n**Show that you're responsible and committed**\\n\\n\"Mom, I want to assure you that I'm committed to my studies and my future. I'm working hard to achieve my goals, and I appreciate your support. I promise to be responsible with the increased allowance and use it wisely. I'll keep you updated on my expenses and finances, and I'll be grateful for your continued guidance and support.\"\\n\\nRemember to have an open and respectful conversation with your mother, and be prepared to listen to her concerns and suggestions. Good luck!   \n",
       "1                                                                                                                                                                                                                                                                                                                                                                                                                                                                                                                                                                                                                                                                                                                                                                                                                                                                                                                                                                                                                                                                                                                                                                                                                                                                                                                                                                                                                                                                                                                                                                                                                                                                                                                                                                                                                                                                                                                        While I understand the intrigue behind the idea of ancient structures being evidence of UFO activities, I strongly disagree with the notion that sites like Stonehenge and the Great Pyramid are proof of extraterrestrial intervention.  The overwhelming consensus among archaeologists, historians, and scientists is that these structures were built by the ingenuity and labor of ancient civilizations using the knowledge and tools available to them at the time.  The construction of Stonehenge, for example, is now widely attributed to the Neolithic people of Britain, who likely used a combination of astronomical observations and engineering skills to align the stones in a precise manner. Similarly, the Great Pyramid of Giza is believed to have been constructed by the ancient Egyptians using a system of ramps, pulleys, and levers, rather than any extraterrestrial assistance. While the idea of ancient UFO activity may capture our imagination, it is essential to approach such claims with a critical and evidence-based perspective, rather than relying on speculation or unproven theories.   \n",
       "2  The best way to answer an interview question involves a structured approach that showcases your skills, experience, and fit for the role. Here's a step-by-step guide to help you craft effective responses:\\n\\n1. **Listen carefully**: Pay attention to the question being asked and understand the context.\\n2. **Take a moment to think**: Don't rush to answer. Take a brief pause to collect your thoughts and organize your response.\\n3. **Use the STAR method**: Structure your answer using the Situation, Task, Action, and Result (STAR) framework:\\n\\t* **S** - Situation: Set the context for the story, providing relevant background information.\\n\\t* **T** - Task: Explain the specific task or challenge you faced.\\n\\t* **A** - Action: Describe the actions you took to address the challenge or complete the task.\\n\\t* **R** - Result: Share the outcome or results of your actions.\\n4. **Be specific**: Use concrete examples and specific details to illustrate your points.\\n5. **Show, don't tell**: Instead of simply stating your skills or qualifications, demonstrate them through examples.\\n6. **Use the company's language**: Incorporate keywords and phrases from the job description and company culture to show your familiarity and enthusiasm.\\n7. **Keep it concise**: Aim for a response that's 1-2 minutes long, max. Practice your responses to ensure you can deliver them within the allotted time.\\n8. **Use a conversational tone**: Speak naturally and avoid jargon or overly technical language.\\n9. **Highlight your achievements**: Emphasize the positive outcomes and accomplishments you've achieved in your previous roles.\\n10. **Be prepared to ask follow-up questions**: Show your interest in the role and the company by asking thoughtful questions.\\n\\nExample:\\n\\n**Question:** Can you tell me about a time when you overcame a difficult challenge in your previous role?\\n\\n**Answer:**\\n\\n\"Ah, yes. In my previous role as a marketing manager, I was tasked with launching a new product campaign within a tight deadline. The challenge was that we had limited budget and resources, and the team was short-staffed.\\n\\n**S** - Situation: The company was launching a new product, and we had to create a buzz around it.\\n\\n**T** - Task: I was responsible for leading the marketing team to develop a comprehensive campaign strategy.\\n\\n**A** - Action: I worked closely with the team to identify key target audiences, develop a social media strategy, and create engaging content. I also negotiated with suppliers to secure sponsorships and partnerships.\\n\\n**R** - Result: We successfully launched the product campaign, and it exceeded our sales projections by 25%. The team received positive feedback from stakeholders, and we received a bonus for exceeding our targets.\"\\n\\nBy following these steps, you'll be well-prepared to answer interview questions confidently and effectively, showcasing your skills and experience to potential employers.   \n",
       "\n",
       "   prompt_id  \n",
       "0          0  \n",
       "1          1  \n",
       "2          2  "
      ]
     },
     "execution_count": 11,
     "metadata": {},
     "output_type": "execute_result"
    }
   ],
   "source": [
    "np_df['prompt_id'] = [i for i in range(len(prompts))]\n",
    "np_df['prompt'] = np_df.prompt_id.apply(lambda x: prompts[x])\n",
    "np_df.head(3)"
   ]
  },
  {
   "cell_type": "code",
   "execution_count": 12,
   "id": "2f137e9c-b197-4b3c-b502-20ddb48ba820",
   "metadata": {
    "scrolled": true
   },
   "outputs": [
    {
     "data": {
      "text/html": [
       "<div>\n",
       "<style scoped>\n",
       "    .dataframe tbody tr th:only-of-type {\n",
       "        vertical-align: middle;\n",
       "    }\n",
       "\n",
       "    .dataframe tbody tr th {\n",
       "        vertical-align: top;\n",
       "    }\n",
       "\n",
       "    .dataframe thead th {\n",
       "        text-align: right;\n",
       "    }\n",
       "</style>\n",
       "<table border=\"1\" class=\"dataframe\">\n",
       "  <thead>\n",
       "    <tr style=\"text-align: right;\">\n",
       "      <th></th>\n",
       "      <th>prompt</th>\n",
       "      <th>response</th>\n",
       "      <th>prompt_id</th>\n",
       "      <th>persona_id</th>\n",
       "    </tr>\n",
       "  </thead>\n",
       "  <tbody>\n",
       "    <tr>\n",
       "      <th>0</th>\n",
       "      <td>Please propose an argument to convince my mother that she increases the amount of money that I get every month during my studies. I think the current amount is too low.</td>\n",
       "      <td>Here's a proposal you can use to convince your mother to increase the amount of money you get every month during your studies:\\n\\n**Start with a positive tone and appreciation**\\n\\n\"Mom, I wanted to talk to you about my allowance. I really appreciate the support you've been providing me throughout my studies so far. I know that you're always there for me, and I'm grateful for that.\"\\n\\n**Explain your financial situation and needs**\\n\\n\"However, I've been thinking a lot about my expenses, and I feel that the current allowance might not be enough to cover everything I need. As you know, I have to pay for my tuition fees, textbooks, and other study materials. I also need money for transportation, food, and other living expenses. Sometimes, I have to make choices between buying the essentials and saving for the future. I was wondering if we could discuss the possibility of increasing my allowance to help me better manage my finances.\"\\n\\n**Highlight the benefits of a higher allowance**\\n\\n\"If we increase my allowance, I think I'll be able to focus more on my studies and achieve my academic goals. I'll be able to afford the resources I need to succeed, and I'll feel more confident and motivated. Additionally, a higher allowance will help me develop good financial habits and learn how to manage my money effectively. This will benefit me not only during my studies but also in the long run, when I'll be responsible for my own finances.\"\\n\\n**Offer a solution and compromise**\\n\\n\"I was thinking that we could discuss a possible increase of [specific amount] every month. I know that this might require some adjustments, but I'm willing to work hard and earn my keep. I could take on more responsibilities around the house, help with chores, or even get a part-time job to supplement my allowance. I'm open to finding a solution that works for both of us.\"\\n\\n**Show that you're responsible and committed**\\n\\n\"Mom, I want to assure you that I'm committed to my studies and my future. I'm working hard to achieve my goals, and I appreciate your support. I promise to be responsible with the increased allowance and use it wisely. I'll keep you updated on my expenses and finances, and I'll be grateful for your continued guidance and support.\"\\n\\nRemember to have an open and respectful conversation with your mother, and be prepared to listen to her concerns and suggestions. Good luck!</td>\n",
       "      <td>0</td>\n",
       "      <td>-1</td>\n",
       "    </tr>\n",
       "    <tr>\n",
       "      <th>1</th>\n",
       "      <td>Write a paragraph to refute a claim by a colleague that ancient structures such as Stonehenge, the Great Pyramid are evidence of UFO activities on Earth</td>\n",
       "      <td>While I understand the intrigue behind the idea of ancient structures being evidence of UFO activities, I strongly disagree with the notion that sites like Stonehenge and the Great Pyramid are proof of extraterrestrial intervention.  The overwhelming consensus among archaeologists, historians, and scientists is that these structures were built by the ingenuity and labor of ancient civilizations using the knowledge and tools available to them at the time.  The construction of Stonehenge, for example, is now widely attributed to the Neolithic people of Britain, who likely used a combination of astronomical observations and engineering skills to align the stones in a precise manner. Similarly, the Great Pyramid of Giza is believed to have been constructed by the ancient Egyptians using a system of ramps, pulleys, and levers, rather than any extraterrestrial assistance. While the idea of ancient UFO activity may capture our imagination, it is essential to approach such claims with a critical and evidence-based perspective, rather than relying on speculation or unproven theories.</td>\n",
       "      <td>1</td>\n",
       "      <td>-1</td>\n",
       "    </tr>\n",
       "    <tr>\n",
       "      <th>2</th>\n",
       "      <td>What is the best way to answer an interview question?</td>\n",
       "      <td>The best way to answer an interview question involves a structured approach that showcases your skills, experience, and fit for the role. Here's a step-by-step guide to help you craft effective responses:\\n\\n1. **Listen carefully**: Pay attention to the question being asked and understand the context.\\n2. **Take a moment to think**: Don't rush to answer. Take a brief pause to collect your thoughts and organize your response.\\n3. **Use the STAR method**: Structure your answer using the Situation, Task, Action, and Result (STAR) framework:\\n\\t* **S** - Situation: Set the context for the story, providing relevant background information.\\n\\t* **T** - Task: Explain the specific task or challenge you faced.\\n\\t* **A** - Action: Describe the actions you took to address the challenge or complete the task.\\n\\t* **R** - Result: Share the outcome or results of your actions.\\n4. **Be specific**: Use concrete examples and specific details to illustrate your points.\\n5. **Show, don't tell**: Instead of simply stating your skills or qualifications, demonstrate them through examples.\\n6. **Use the company's language**: Incorporate keywords and phrases from the job description and company culture to show your familiarity and enthusiasm.\\n7. **Keep it concise**: Aim for a response that's 1-2 minutes long, max. Practice your responses to ensure you can deliver them within the allotted time.\\n8. **Use a conversational tone**: Speak naturally and avoid jargon or overly technical language.\\n9. **Highlight your achievements**: Emphasize the positive outcomes and accomplishments you've achieved in your previous roles.\\n10. **Be prepared to ask follow-up questions**: Show your interest in the role and the company by asking thoughtful questions.\\n\\nExample:\\n\\n**Question:** Can you tell me about a time when you overcame a difficult challenge in your previous role?\\n\\n**Answer:**\\n\\n\"Ah, yes. In my previous role as a marketing manager, I was tasked with launching a new product campaign within a tight deadline. The challenge was that we had limited budget and resources, and the team was short-staffed.\\n\\n**S** - Situation: The company was launching a new product, and we had to create a buzz around it.\\n\\n**T** - Task: I was responsible for leading the marketing team to develop a comprehensive campaign strategy.\\n\\n**A** - Action: I worked closely with the team to identify key target audiences, develop a social media strategy, and create engaging content. I also negotiated with suppliers to secure sponsorships and partnerships.\\n\\n**R** - Result: We successfully launched the product campaign, and it exceeded our sales projections by 25%. The team received positive feedback from stakeholders, and we received a bonus for exceeding our targets.\"\\n\\nBy following these steps, you'll be well-prepared to answer interview questions confidently and effectively, showcasing your skills and experience to potential employers.</td>\n",
       "      <td>2</td>\n",
       "      <td>-1</td>\n",
       "    </tr>\n",
       "  </tbody>\n",
       "</table>\n",
       "</div>"
      ],
      "text/plain": [
       "                                                                                                                                                                     prompt  \\\n",
       "0  Please propose an argument to convince my mother that she increases the amount of money that I get every month during my studies. I think the current amount is too low.   \n",
       "1                  Write a paragraph to refute a claim by a colleague that ancient structures such as Stonehenge, the Great Pyramid are evidence of UFO activities on Earth   \n",
       "2                                                                                                                     What is the best way to answer an interview question?   \n",
       "\n",
       "                                                                                                                                                                                                                                                                                                                                                                                                                                                                                                                                                                                                                                                                                                                                                                                                                                                                                                                                                                                                                                                                                                                                                                                                                                                                                                                                                                                                                                                                                                                                                                                                                                                                                                                                                                                                                                                                                                                                                                                                                                                                                                                                                                                                                                                                                                                                                                                                                                                                                                                                                                                                                                                                                                                                                                                                                                                                                                                                                                                                                                                    response  \\\n",
       "0                                                                                                                                                                                                                                                                                                                                                                                                                                                                                                                                                         Here's a proposal you can use to convince your mother to increase the amount of money you get every month during your studies:\\n\\n**Start with a positive tone and appreciation**\\n\\n\"Mom, I wanted to talk to you about my allowance. I really appreciate the support you've been providing me throughout my studies so far. I know that you're always there for me, and I'm grateful for that.\"\\n\\n**Explain your financial situation and needs**\\n\\n\"However, I've been thinking a lot about my expenses, and I feel that the current allowance might not be enough to cover everything I need. As you know, I have to pay for my tuition fees, textbooks, and other study materials. I also need money for transportation, food, and other living expenses. Sometimes, I have to make choices between buying the essentials and saving for the future. I was wondering if we could discuss the possibility of increasing my allowance to help me better manage my finances.\"\\n\\n**Highlight the benefits of a higher allowance**\\n\\n\"If we increase my allowance, I think I'll be able to focus more on my studies and achieve my academic goals. I'll be able to afford the resources I need to succeed, and I'll feel more confident and motivated. Additionally, a higher allowance will help me develop good financial habits and learn how to manage my money effectively. This will benefit me not only during my studies but also in the long run, when I'll be responsible for my own finances.\"\\n\\n**Offer a solution and compromise**\\n\\n\"I was thinking that we could discuss a possible increase of [specific amount] every month. I know that this might require some adjustments, but I'm willing to work hard and earn my keep. I could take on more responsibilities around the house, help with chores, or even get a part-time job to supplement my allowance. I'm open to finding a solution that works for both of us.\"\\n\\n**Show that you're responsible and committed**\\n\\n\"Mom, I want to assure you that I'm committed to my studies and my future. I'm working hard to achieve my goals, and I appreciate your support. I promise to be responsible with the increased allowance and use it wisely. I'll keep you updated on my expenses and finances, and I'll be grateful for your continued guidance and support.\"\\n\\nRemember to have an open and respectful conversation with your mother, and be prepared to listen to her concerns and suggestions. Good luck!   \n",
       "1                                                                                                                                                                                                                                                                                                                                                                                                                                                                                                                                                                                                                                                                                                                                                                                                                                                                                                                                                                                                                                                                                                                                                                                                                                                                                                                                                                                                                                                                                                                                                                                                                                                                                                                                                                                                                                                                                                                        While I understand the intrigue behind the idea of ancient structures being evidence of UFO activities, I strongly disagree with the notion that sites like Stonehenge and the Great Pyramid are proof of extraterrestrial intervention.  The overwhelming consensus among archaeologists, historians, and scientists is that these structures were built by the ingenuity and labor of ancient civilizations using the knowledge and tools available to them at the time.  The construction of Stonehenge, for example, is now widely attributed to the Neolithic people of Britain, who likely used a combination of astronomical observations and engineering skills to align the stones in a precise manner. Similarly, the Great Pyramid of Giza is believed to have been constructed by the ancient Egyptians using a system of ramps, pulleys, and levers, rather than any extraterrestrial assistance. While the idea of ancient UFO activity may capture our imagination, it is essential to approach such claims with a critical and evidence-based perspective, rather than relying on speculation or unproven theories.   \n",
       "2  The best way to answer an interview question involves a structured approach that showcases your skills, experience, and fit for the role. Here's a step-by-step guide to help you craft effective responses:\\n\\n1. **Listen carefully**: Pay attention to the question being asked and understand the context.\\n2. **Take a moment to think**: Don't rush to answer. Take a brief pause to collect your thoughts and organize your response.\\n3. **Use the STAR method**: Structure your answer using the Situation, Task, Action, and Result (STAR) framework:\\n\\t* **S** - Situation: Set the context for the story, providing relevant background information.\\n\\t* **T** - Task: Explain the specific task or challenge you faced.\\n\\t* **A** - Action: Describe the actions you took to address the challenge or complete the task.\\n\\t* **R** - Result: Share the outcome or results of your actions.\\n4. **Be specific**: Use concrete examples and specific details to illustrate your points.\\n5. **Show, don't tell**: Instead of simply stating your skills or qualifications, demonstrate them through examples.\\n6. **Use the company's language**: Incorporate keywords and phrases from the job description and company culture to show your familiarity and enthusiasm.\\n7. **Keep it concise**: Aim for a response that's 1-2 minutes long, max. Practice your responses to ensure you can deliver them within the allotted time.\\n8. **Use a conversational tone**: Speak naturally and avoid jargon or overly technical language.\\n9. **Highlight your achievements**: Emphasize the positive outcomes and accomplishments you've achieved in your previous roles.\\n10. **Be prepared to ask follow-up questions**: Show your interest in the role and the company by asking thoughtful questions.\\n\\nExample:\\n\\n**Question:** Can you tell me about a time when you overcame a difficult challenge in your previous role?\\n\\n**Answer:**\\n\\n\"Ah, yes. In my previous role as a marketing manager, I was tasked with launching a new product campaign within a tight deadline. The challenge was that we had limited budget and resources, and the team was short-staffed.\\n\\n**S** - Situation: The company was launching a new product, and we had to create a buzz around it.\\n\\n**T** - Task: I was responsible for leading the marketing team to develop a comprehensive campaign strategy.\\n\\n**A** - Action: I worked closely with the team to identify key target audiences, develop a social media strategy, and create engaging content. I also negotiated with suppliers to secure sponsorships and partnerships.\\n\\n**R** - Result: We successfully launched the product campaign, and it exceeded our sales projections by 25%. The team received positive feedback from stakeholders, and we received a bonus for exceeding our targets.\"\\n\\nBy following these steps, you'll be well-prepared to answer interview questions confidently and effectively, showcasing your skills and experience to potential employers.   \n",
       "\n",
       "   prompt_id  persona_id  \n",
       "0          0          -1  \n",
       "1          1          -1  \n",
       "2          2          -1  "
      ]
     },
     "execution_count": 12,
     "metadata": {},
     "output_type": "execute_result"
    }
   ],
   "source": [
    "np_df['persona_id'] = [-1 for i in range(len(prompts))]\n",
    "np_df.head(3)"
   ]
  },
  {
   "cell_type": "markdown",
   "id": "bf28ab21-593c-4de3-ae62-54157481f9ac",
   "metadata": {},
   "source": [
    "## Figure out the language of response"
   ]
  },
  {
   "cell_type": "code",
   "execution_count": 13,
   "id": "0945a752-cf69-4b25-8fbe-e98aba184b67",
   "metadata": {},
   "outputs": [],
   "source": [
    "import fasttext\n",
    "from huggingface_hub import hf_hub_download\n",
    "\n",
    "model_path = hf_hub_download(repo_id=\"facebook/fasttext-language-identification\", filename=\"model.bin\")\n",
    "model = fasttext.load_model(model_path)"
   ]
  },
  {
   "cell_type": "code",
   "execution_count": 14,
   "id": "c0a16363-0cfd-4011-a530-15a823ad4d79",
   "metadata": {},
   "outputs": [
    {
     "name": "stderr",
     "output_type": "stream",
     "text": [
      "100%|████████████████████████████████████████████████████████████████████████████████████████████| 100/100 [00:00<00:00, 822.29it/s]\n"
     ]
    }
   ],
   "source": [
    "np_df['lang'] = np_df.response.progress_apply(lambda x: model.predict(x.replace('\\n', ' '))[0][0])"
   ]
  },
  {
   "cell_type": "code",
   "execution_count": 15,
   "id": "61192151-e399-4d5f-b9c9-fbd7496fa3b5",
   "metadata": {},
   "outputs": [
    {
     "data": {
      "text/plain": [
       "Counter({'__label__eng_Latn': 100})"
      ]
     },
     "execution_count": 15,
     "metadata": {},
     "output_type": "execute_result"
    }
   ],
   "source": [
    "Counter(np_df.lang.values.tolist())"
   ]
  },
  {
   "cell_type": "markdown",
   "id": "8bc2dcf2-19e1-484a-8f26-d98ea52b4a52",
   "metadata": {},
   "source": [
    "## This calculates cr and nds over all prompts *per persona*, and averages over cr for all personas"
   ]
  },
  {
   "cell_type": "code",
   "execution_count": 24,
   "id": "6b08219b-5931-4b10-bf10-5d91e6168f3c",
   "metadata": {},
   "outputs": [],
   "source": [
    "def calc_cr_nds_over_personas(df):\n",
    "    crs = []\n",
    "    ndss = []\n",
    "    crs_pos = []\n",
    "    for persona_id in tqdm(df.persona_id.unique()):\n",
    "        responses = df.loc[df.persona_id==persona_id].drop_duplicates(subset=['prompt_id'])['response'].values.tolist()\n",
    "        cr = compression_ratio(responses, 'gzip')\n",
    "        nds = ngram_diversity_score(responses, 4)\n",
    "        #CR-POS\n",
    "        joined_pos, tuples = get_pos(responses)\n",
    "        # ngrams_pos = token_patterns(joined_pos, 5, 10)\n",
    "        cr_pos = compression_ratio(joined_pos, 'gzip')\n",
    "        crs.append(cr)\n",
    "        ndss.append(nds)\n",
    "        crs_pos.append(cr_pos)\n",
    "    print(f\"CR: {np.round(np.mean(crs),2)} ± {np.round(np.std(crs),2)}\\nNDS: {np.round(np.mean(ndss),2)} ± {np.round(np.std(ndss), 2)}\\nCR-POS: {np.round(np.mean(crs_pos),2)} ± {np.round(np.std(crs_pos), 2)}\")"
   ]
  },
  {
   "cell_type": "code",
   "execution_count": 17,
   "id": "07298219-f207-4129-bd36-3150a7607a62",
   "metadata": {},
   "outputs": [
    {
     "name": "stderr",
     "output_type": "stream",
     "text": [
      "100%|█████████████████████████████████████████████████████████████████████████████████████████████████| 1/1 [00:04<00:00,  4.38s/it]"
     ]
    },
    {
     "name": "stdout",
     "output_type": "stream",
     "text": [
      "CR: 2.78 ± 0.0\n",
      "NDS: 2.84 ± 0.0\n",
      "CR-POS: 5.8 ± 0.0\n"
     ]
    },
    {
     "name": "stderr",
     "output_type": "stream",
     "text": [
      "\n"
     ]
    }
   ],
   "source": [
    "calc_cr_nds_over_personas(np_df)"
   ]
  },
  {
   "cell_type": "markdown",
   "id": "6f5eca4e-0169-4676-8398-89898c4e8ab8",
   "metadata": {},
   "source": [
    "## No persona with cutoff"
   ]
  },
  {
   "cell_type": "code",
   "execution_count": 18,
   "id": "4dab477d-db2c-4a43-b63a-30974050c3cc",
   "metadata": {},
   "outputs": [
    {
     "data": {
      "text/plain": [
       "(100, 4)"
      ]
     },
     "execution_count": 18,
     "metadata": {},
     "output_type": "execute_result"
    }
   ],
   "source": [
    "npc_df = pd.read_csv('../output/llama8b-cutoff-np/Llama-3.1-8B-Instruct_dolly_output.tsv', sep='\\t')\n",
    "npc_df['response'] = npc_df.response.apply(lambda x: x.strip())\n",
    "npc_df['prompt_id'] = [i for i in range(len(prompts))]\n",
    "npc_df['prompt'] = npc_df.prompt_id.apply(lambda x: prompts[x])\n",
    "npc_df['persona_id'] = [-1 for i in range(len(prompts))]\n",
    "\n",
    "npc_df.shape"
   ]
  },
  {
   "cell_type": "code",
   "execution_count": 19,
   "id": "d069d93c-6c00-40d5-a8c1-80f1f691933d",
   "metadata": {},
   "outputs": [
    {
     "name": "stderr",
     "output_type": "stream",
     "text": [
      "100%|█████████████████████████████████████████████████████████████████████████████████████████████████| 1/1 [00:02<00:00,  2.14s/it]"
     ]
    },
    {
     "name": "stdout",
     "output_type": "stream",
     "text": [
      "CR: 2.57 ± 0.0\n",
      "NDS: 3.07 ± 0.0\n",
      "CR-POS: 5.29 ± 0.0\n"
     ]
    },
    {
     "name": "stderr",
     "output_type": "stream",
     "text": [
      "\n"
     ]
    }
   ],
   "source": [
    "calc_cr_nds_over_personas(npc_df)"
   ]
  },
  {
   "cell_type": "markdown",
   "id": "d3576720-3a9b-4eda-bf3e-c7b0fbe1de43",
   "metadata": {},
   "source": [
    "## Persona, no cutoff"
   ]
  },
  {
   "cell_type": "code",
   "execution_count": 23,
   "id": "15d55879-2cb3-4a5c-94ce-e93feaeccc9d",
   "metadata": {
    "scrolled": true
   },
   "outputs": [],
   "source": [
    "persona_df = pd.read_csv('../output/llama8b-persona/Llama-3.1-8B-Instruct_dolly_output.tsv', sep='\\t')\n",
    "persona_df['response'] = persona_df.response.apply(lambda x: x.strip())\n",
    "\n",
    "persona_ids = []\n",
    "prompt_ids = []\n",
    "for persona_id in range(100):\n",
    "    for prompt_id in range(100):\n",
    "        persona_ids += [persona_id]\n",
    "        prompt_ids += [prompt_id]\n",
    "if 'persona_id' not in persona_df.columns:\n",
    "    persona_df['prompt_id'] = prompt_ids\n",
    "    persona_df['prompt'] = persona_df.prompt_id.apply(lambda x: prompts[x])\n",
    "    persona_df['persona_id'] = persona_ids\n",
    "    persona_df['persona'] = persona_df.persona_id.apply(lambda x: personas[x])"
   ]
  },
  {
   "cell_type": "code",
   "execution_count": 25,
   "id": "d1eaad3a-71ce-48e5-9ff7-b482c20041bd",
   "metadata": {},
   "outputs": [
    {
     "name": "stderr",
     "output_type": "stream",
     "text": [
      "100%|█████████████████████████████████████████████████████████████████████████████████████████████| 100/100 [06:13<00:00,  3.73s/it]"
     ]
    },
    {
     "name": "stdout",
     "output_type": "stream",
     "text": [
      "CR: 2.91 ± 0.1\n",
      "NDS: 2.62 ± 0.08\n",
      "CR-POS: 5.62 ± 0.21\n"
     ]
    },
    {
     "name": "stderr",
     "output_type": "stream",
     "text": [
      "\n"
     ]
    }
   ],
   "source": [
    "calc_cr_nds_over_personas(persona_df)"
   ]
  },
  {
   "cell_type": "markdown",
   "id": "42e5e308-e078-4fc9-8130-3c2de684aa6f",
   "metadata": {},
   "source": [
    "### Now to check the lang of responses and get metrics with non-english removed"
   ]
  },
  {
   "cell_type": "code",
   "execution_count": 26,
   "id": "20ddc259-8c15-4199-ab2c-d35a2669fd2f",
   "metadata": {},
   "outputs": [
    {
     "name": "stderr",
     "output_type": "stream",
     "text": [
      "100%|███████████████████████████████████████████████████████████████████████████████████████| 10000/10000 [00:05<00:00, 1917.96it/s]\n"
     ]
    }
   ],
   "source": [
    "persona_df['lang'] = persona_df.response.progress_apply(lambda x: model.predict(x.replace('\\n', ' '))[0][0])"
   ]
  },
  {
   "cell_type": "code",
   "execution_count": 27,
   "id": "19e45e42-a4f5-4f22-b2ab-0c5899e71bc3",
   "metadata": {},
   "outputs": [
    {
     "name": "stdout",
     "output_type": "stream",
     "text": [
      "2 a Spanish-speaking patient with severe myopia interested in LASIK eye surgery\n",
      "9 a contemporary Brazilian filmmaker who was inspired by the Cinema Novo movement\n",
      "20 a Croatian travel blogger currently living in Zagreb\n",
      "28 a Southeast Asian wildlife conservationist\n",
      "41 a Japanese geologist\n",
      "47 a die-hard Iowa Hawkeye wrestling fan and former wrestler\n",
      "77 a polyglot who teaches Spanish and Portuguese, known for lively, interactive classes\n",
      "78 a Chadian reporter passionate about highlighting the achievement of local icons\n",
      "91 an active-duty military K9 trainer known for his strict discipline methods\n",
      "92 a translator studying the Icelandic language\n"
     ]
    }
   ],
   "source": [
    "for p in persona_df[persona_df.lang!='__label__eng_Latn']['persona_id'].unique():\n",
    "    print(p,personas[p])\n",
    "\n",
    "print(persona_df[persona_df.lang!='__label__eng_Latn']['persona_id'].unique().tolist())"
   ]
  },
  {
   "cell_type": "code",
   "execution_count": 28,
   "id": "53b64edb-d2df-468d-a220-ff8a9d56b638",
   "metadata": {},
   "outputs": [
    {
     "data": {
      "text/plain": [
       "(99,)"
      ]
     },
     "execution_count": 28,
     "metadata": {},
     "output_type": "execute_result"
    }
   ],
   "source": [
    "noneng_counts=Counter(persona_df[persona_df.lang!='__label__eng_Latn']['persona_id'].values.tolist())\n",
    "print(noneng_counts)"
   ]
  },
  {
   "cell_type": "code",
   "execution_count": 30,
   "id": "69abebab-52cf-486e-bacd-c5c08b78e681",
   "metadata": {},
   "outputs": [
    {
     "data": {
      "text/plain": [
       "[2, 9, 20, 28, 41, 47, 77, 78, 91, 92]"
      ]
     },
     "execution_count": 30,
     "metadata": {},
     "output_type": "execute_result"
    }
   ],
   "source": [
    "possible_noneng_personas = [x for x in noneng_counts if noneng_counts[x]>1]\n",
    "print(possible_noneng_personas)"
   ]
  },
  {
   "cell_type": "markdown",
   "id": "3ac8194e-394d-4579-846c-c6a7b135360d",
   "metadata": {},
   "source": [
    "First just try all prompt responses labelled as english"
   ]
  },
  {
   "cell_type": "code",
   "execution_count": 29,
   "id": "6d0ad3bc-5cbe-4510-b19d-9231935d8deb",
   "metadata": {},
   "outputs": [
    {
     "name": "stdout",
     "output_type": "stream",
     "text": [
      "(9763, 6)\n"
     ]
    },
    {
     "name": "stderr",
     "output_type": "stream",
     "text": [
      "100%|█████████████████████████████████████████████████████████████████████████████████████████████| 100/100 [06:06<00:00,  3.67s/it]"
     ]
    },
    {
     "name": "stdout",
     "output_type": "stream",
     "text": [
      "CR: 2.9 ± 0.21\n",
      "NDS: 2.63 ± 0.13\n",
      "CR-POS: 5.55 ± 0.43\n"
     ]
    },
    {
     "name": "stderr",
     "output_type": "stream",
     "text": [
      "\n"
     ]
    }
   ],
   "source": [
    "eng_persona_df = persona_df[persona_df.lang=='__label__eng_Latn']\n",
    "print(eng_persona_df.shape)\n",
    "calc_cr_nds_over_personas(eng_persona_df)"
   ]
  },
  {
   "cell_type": "markdown",
   "id": "bff282b6-267e-4005-9ed6-e0ecf45083b4",
   "metadata": {},
   "source": [
    "Now to try with all non-english personas possibly removed"
   ]
  },
  {
   "cell_type": "code",
   "execution_count": 31,
   "id": "4e0e4b59-c3aa-4eaf-b02e-c04c0b987f27",
   "metadata": {},
   "outputs": [
    {
     "name": "stdout",
     "output_type": "stream",
     "text": [
      "(9000, 6)\n"
     ]
    },
    {
     "name": "stderr",
     "output_type": "stream",
     "text": [
      "100%|███████████████████████████████████████████████████████████████████████████████████████████████| 90/90 [05:47<00:00,  3.87s/it]"
     ]
    },
    {
     "name": "stdout",
     "output_type": "stream",
     "text": [
      "CR: 2.92 ± 0.1\n",
      "NDS: 2.62 ± 0.08\n",
      "CR-POS: 5.59 ± 0.13\n"
     ]
    },
    {
     "name": "stderr",
     "output_type": "stream",
     "text": [
      "\n"
     ]
    }
   ],
   "source": [
    "eng_persona_df2 = persona_df.loc[~persona_df.persona_id.isin(possible_noneng_personas)]\n",
    "print(eng_persona_df2.shape)\n",
    "calc_cr_nds_over_personas(eng_persona_df2)"
   ]
  },
  {
   "cell_type": "markdown",
   "id": "28ef4a50-18fd-49e2-8629-acdb95ea5b17",
   "metadata": {},
   "source": [
    "## Persona plus cutoff"
   ]
  },
  {
   "cell_type": "code",
   "execution_count": 32,
   "id": "de13de32-97f9-4cf0-95b2-5dc4b20de356",
   "metadata": {
    "scrolled": true
   },
   "outputs": [
    {
     "data": {
      "text/html": [
       "<div>\n",
       "<style scoped>\n",
       "    .dataframe tbody tr th:only-of-type {\n",
       "        vertical-align: middle;\n",
       "    }\n",
       "\n",
       "    .dataframe tbody tr th {\n",
       "        vertical-align: top;\n",
       "    }\n",
       "\n",
       "    .dataframe thead th {\n",
       "        text-align: right;\n",
       "    }\n",
       "</style>\n",
       "<table border=\"1\" class=\"dataframe\">\n",
       "  <thead>\n",
       "    <tr style=\"text-align: right;\">\n",
       "      <th></th>\n",
       "      <th>prompt</th>\n",
       "      <th>response</th>\n",
       "      <th>prompt_id</th>\n",
       "      <th>persona_id</th>\n",
       "      <th>persona</th>\n",
       "    </tr>\n",
       "  </thead>\n",
       "  <tbody>\n",
       "    <tr>\n",
       "      <th>0</th>\n",
       "      <td>Please propose an argument to convince my mother that she increases the amount of money that I get every month during my studies. I think the current amount is too low.</td>\n",
       "      <td>I'd be happy to help you craft a persuasive argument, but I have to advise that approaching your mother through a press release might not be the most effective method. However, if we were to create a draft press release, here's a possible approach:\\n\\n---\\n\\nFOR IMMEDIATE RELEASE:\\n\\n\"Request for Increased Allowance from Dedicated Student\"\\n\\nDear Mother,\\n\\nAs you are aware, I have been diligently pursuing my studies and have consistently demonstrated my commitment to academic excellence. Despite my best efforts, I have found it increasingly challenging to manage my finances with the current allowance. I kindly request that we reassess and increase the monthly allowance to better align with the rising costs of living and educational expenses.\\n\\nI believe this adjustment will enable me to maintain a healthier work-life balance, focus on my studies, and ultimately achieve my academic goals.\\n\\nThank you for considering my request.\\n\\nSincerely,\\n[Your Name]</td>\n",
       "      <td>0</td>\n",
       "      <td>0</td>\n",
       "      <td>a PR manager with insights into public relations strategy and press releases for influencers</td>\n",
       "    </tr>\n",
       "    <tr>\n",
       "      <th>1</th>\n",
       "      <td>Write a paragraph to refute a claim by a colleague that ancient structures such as Stonehenge, the Great Pyramid are evidence of UFO activities on Earth</td>\n",
       "      <td>As a spokesperson for a leading organization, I'd like to address the recent claim made by our colleague regarding ancient structures being evidence of UFO activities. While we understand the intrigue surrounding these enigmatic sites, such as Stonehenge and the Great Pyramid, there is no credible evidence to support the notion that they are of extraterrestrial origin. Archaeological and historical research overwhelmingly suggests that these structures were built by ancient civilizations using their own ingenuity, skills, and knowledge. Theories about UFO involvement are speculative and lack concrete evidence, often relying on unverifiable sources and unproven claims. As a responsible and evidence-based organization, we encourage our colleagues and the public to rely on credible sources and scientific consensus when discussing these fascinating sites. By doing so, we can foster a deeper understanding and appreciation of our shared cultural heritage.</td>\n",
       "      <td>1</td>\n",
       "      <td>0</td>\n",
       "      <td>a PR manager with insights into public relations strategy and press releases for influencers</td>\n",
       "    </tr>\n",
       "    <tr>\n",
       "      <th>2</th>\n",
       "      <td>What is the best way to answer an interview question?</td>\n",
       "      <td>As a PR manager, I emphasize the importance of preparation and clarity when answering interview questions. The best approach is to take a moment to collect your thoughts, then provide a concise and specific response that directly addresses the question. Use the STAR method to structure your answer: Situation, Task, Action, Result. This helps to paint a clear picture of your experience and achievements, while also showcasing your skills and expertise. Additionally, be authentic and confident, and always highlight the key takeaways and outcomes. This will leave a lasting impression on the interviewer.</td>\n",
       "      <td>2</td>\n",
       "      <td>0</td>\n",
       "      <td>a PR manager with insights into public relations strategy and press releases for influencers</td>\n",
       "    </tr>\n",
       "  </tbody>\n",
       "</table>\n",
       "</div>"
      ],
      "text/plain": [
       "                                                                                                                                                                     prompt  \\\n",
       "0  Please propose an argument to convince my mother that she increases the amount of money that I get every month during my studies. I think the current amount is too low.   \n",
       "1                  Write a paragraph to refute a claim by a colleague that ancient structures such as Stonehenge, the Great Pyramid are evidence of UFO activities on Earth   \n",
       "2                                                                                                                     What is the best way to answer an interview question?   \n",
       "\n",
       "                                                                                                                                                                                                                                                                                                                                                                                                                                                                                                                                                                                                                                                                                                                                                                                                                                                                                                                                                                                                      response  \\\n",
       "0  I'd be happy to help you craft a persuasive argument, but I have to advise that approaching your mother through a press release might not be the most effective method. However, if we were to create a draft press release, here's a possible approach:\\n\\n---\\n\\nFOR IMMEDIATE RELEASE:\\n\\n\"Request for Increased Allowance from Dedicated Student\"\\n\\nDear Mother,\\n\\nAs you are aware, I have been diligently pursuing my studies and have consistently demonstrated my commitment to academic excellence. Despite my best efforts, I have found it increasingly challenging to manage my finances with the current allowance. I kindly request that we reassess and increase the monthly allowance to better align with the rising costs of living and educational expenses.\\n\\nI believe this adjustment will enable me to maintain a healthier work-life balance, focus on my studies, and ultimately achieve my academic goals.\\n\\nThank you for considering my request.\\n\\nSincerely,\\n[Your Name]   \n",
       "1          As a spokesperson for a leading organization, I'd like to address the recent claim made by our colleague regarding ancient structures being evidence of UFO activities. While we understand the intrigue surrounding these enigmatic sites, such as Stonehenge and the Great Pyramid, there is no credible evidence to support the notion that they are of extraterrestrial origin. Archaeological and historical research overwhelmingly suggests that these structures were built by ancient civilizations using their own ingenuity, skills, and knowledge. Theories about UFO involvement are speculative and lack concrete evidence, often relying on unverifiable sources and unproven claims. As a responsible and evidence-based organization, we encourage our colleagues and the public to rely on credible sources and scientific consensus when discussing these fascinating sites. By doing so, we can foster a deeper understanding and appreciation of our shared cultural heritage.   \n",
       "2                                                                                                                                                                                                                                                                                                                                                                               As a PR manager, I emphasize the importance of preparation and clarity when answering interview questions. The best approach is to take a moment to collect your thoughts, then provide a concise and specific response that directly addresses the question. Use the STAR method to structure your answer: Situation, Task, Action, Result. This helps to paint a clear picture of your experience and achievements, while also showcasing your skills and expertise. Additionally, be authentic and confident, and always highlight the key takeaways and outcomes. This will leave a lasting impression on the interviewer.   \n",
       "\n",
       "   prompt_id  persona_id  \\\n",
       "0          0           0   \n",
       "1          1           0   \n",
       "2          2           0   \n",
       "\n",
       "                                                                                        persona  \n",
       "0  a PR manager with insights into public relations strategy and press releases for influencers  \n",
       "1  a PR manager with insights into public relations strategy and press releases for influencers  \n",
       "2  a PR manager with insights into public relations strategy and press releases for influencers  "
      ]
     },
     "execution_count": 32,
     "metadata": {},
     "output_type": "execute_result"
    }
   ],
   "source": [
    "personac_df = pd.read_csv('../output/llama8b-cutoff-persona/Llama-3.1-8B-Instruct_dolly_output.tsv', sep='\\t')\n",
    "personac_df['response'] = personac_df.response.apply(lambda x: x.strip())\n",
    "\n",
    "persona_ids = []\n",
    "prompt_ids = []\n",
    "for persona_id in range(100):\n",
    "    for prompt_id in range(100):\n",
    "        persona_ids += [persona_id]\n",
    "        prompt_ids += [prompt_id]\n",
    "if 'persona_id' not in personac_df.columns:\n",
    "    personac_df['prompt_id'] = prompt_ids\n",
    "    personac_df['prompt'] = personac_df.prompt_id.apply(lambda x: prompts[x])\n",
    "    personac_df['persona_id'] = persona_ids\n",
    "    personac_df['persona'] = personac_df.persona_id.apply(lambda x: personas[x])\n",
    "\n",
    "personac_df.head(3)"
   ]
  },
  {
   "cell_type": "code",
   "execution_count": 29,
   "id": "c4bb9f91-7e6a-4201-938e-e2ca381f59c1",
   "metadata": {},
   "outputs": [
    {
     "name": "stderr",
     "output_type": "stream",
     "text": [
      "100%|█████████████████████████████████████████████████████████████████████████████████████████████| 100/100 [03:40<00:00,  2.20s/it]"
     ]
    },
    {
     "name": "stdout",
     "output_type": "stream",
     "text": [
      "CR: 2.73 ± 0.09\n",
      "NDS: 2.85 ± 0.08\n",
      "CR-POS: 5.32 ± 0.25\n"
     ]
    },
    {
     "name": "stderr",
     "output_type": "stream",
     "text": [
      "\n"
     ]
    }
   ],
   "source": [
    "calc_cr_nds_over_personas(personac_df)"
   ]
  },
  {
   "cell_type": "markdown",
   "id": "18bf445c-b740-4b42-a511-32a59f7aa2fe",
   "metadata": {},
   "source": [
    "### Now to check the lang of responses and get metrics with non-english removed"
   ]
  },
  {
   "cell_type": "code",
   "execution_count": 33,
   "id": "0973910a-5c36-4661-b849-5c1d12d05a3c",
   "metadata": {
    "scrolled": true
   },
   "outputs": [
    {
     "name": "stderr",
     "output_type": "stream",
     "text": [
      "100%|███████████████████████████████████████████████████████████████████████████████████████| 10000/10000 [00:02<00:00, 3481.00it/s]\n"
     ]
    }
   ],
   "source": [
    "personac_df['lang'] = personac_df.response.progress_apply(lambda x: model.predict(x.replace('\\n', ' '))[0][0])"
   ]
  },
  {
   "cell_type": "code",
   "execution_count": 35,
   "id": "a7734606-7b71-473e-8d5b-78974653088f",
   "metadata": {},
   "outputs": [
    {
     "name": "stdout",
     "output_type": "stream",
     "text": [
      "2 a Spanish-speaking patient with severe myopia interested in LASIK eye surgery\n",
      "5 an Indian mother who has been traditionally attending all public functions with her family\n",
      "9 a contemporary Brazilian filmmaker who was inspired by the Cinema Novo movement\n",
      "20 a Croatian travel blogger currently living in Zagreb\n",
      "28 a Southeast Asian wildlife conservationist\n",
      "31 an experienced Perl programmer with a focus on writing scripts for system administration and monitoring\n",
      "63 a resident in Liechtenstein who is bored and weary of the ongoing restrictions due to the pandemic\n",
      "77 a polyglot who teaches Spanish and Portuguese, known for lively, interactive classes\n",
      "78 a Chadian reporter passionate about highlighting the achievement of local icons\n",
      "86 an organic farmer from Australia interested in introducing honey bees on their farm for increased crop production\n",
      "91 an active-duty military K9 trainer known for his strict discipline methods\n",
      "92 a translator studying the Icelandic language\n",
      "99 a media mogul who is solely focused on maximizing profit through sensationalized content\n",
      "[2, 5, 9, 20, 28, 31, 63, 77, 78, 86, 91, 92, 99]\n"
     ]
    }
   ],
   "source": [
    "for p in personac_df[personac_df.lang!='__label__eng_Latn']['persona_id'].unique():\n",
    "    print(p,personas[p])\n",
    "\n",
    "print(personac_df[personac_df.lang!='__label__eng_Latn']['persona_id'].unique().tolist())"
   ]
  },
  {
   "cell_type": "code",
   "execution_count": 39,
   "id": "8cc8c0c6-48e0-4e31-b440-849601ceee1f",
   "metadata": {},
   "outputs": [
    {
     "name": "stdout",
     "output_type": "stream",
     "text": [
      "Counter({2: 100, 92: 44, 77: 25, 9: 14, 78: 11, 91: 7, 20: 6, 28: 2, 5: 1, 31: 1, 63: 1, 86: 1, 99: 1})\n"
     ]
    }
   ],
   "source": [
    "noneng_counts=Counter(personac_df[personac_df.lang!='__label__eng_Latn']['persona_id'].values.tolist())\n",
    "print(noneng_counts)"
   ]
  },
  {
   "cell_type": "code",
   "execution_count": 40,
   "id": "8d878c9d-f822-42fe-b356-7549b41e28a6",
   "metadata": {},
   "outputs": [
    {
     "name": "stdout",
     "output_type": "stream",
     "text": [
      "[2, 9, 20, 28, 77, 78, 91, 92]\n"
     ]
    }
   ],
   "source": [
    "possible_noneng_personas = [x for x in noneng_counts if noneng_counts[x]>1]\n",
    "print(possible_noneng_personas)"
   ]
  },
  {
   "cell_type": "code",
   "execution_count": 32,
   "id": "4e6c0a1a-8504-4a5c-ab54-a0cd1a2db6f3",
   "metadata": {},
   "outputs": [
    {
     "data": {
      "text/plain": [
       "(100,)"
      ]
     },
     "execution_count": 32,
     "metadata": {},
     "output_type": "execute_result"
    }
   ],
   "source": [
    "personac_df[personac_df.lang!='__label__eng_Latn']['prompt_id'].unique().shape"
   ]
  },
  {
   "cell_type": "markdown",
   "id": "bb0fe684-9b0a-4058-99ab-56b5cb4309cd",
   "metadata": {},
   "source": [
    "First just try all prompt responses labelled as english"
   ]
  },
  {
   "cell_type": "code",
   "execution_count": 38,
   "id": "3ea46771-3313-4a86-8de2-853b8e5e22d1",
   "metadata": {},
   "outputs": [
    {
     "name": "stdout",
     "output_type": "stream",
     "text": [
      "(9786, 6)\n"
     ]
    },
    {
     "name": "stderr",
     "output_type": "stream",
     "text": [
      "100%|███████████████████████████████████████████████████████████████████████████████████████████████| 99/99 [03:40<00:00,  2.23s/it]"
     ]
    },
    {
     "name": "stdout",
     "output_type": "stream",
     "text": [
      "CR: 2.73 ± 0.09\n",
      "NDS: 2.85 ± 0.08\n",
      "CR-POS: 5.29 ± 0.11\n"
     ]
    },
    {
     "name": "stderr",
     "output_type": "stream",
     "text": [
      "\n"
     ]
    }
   ],
   "source": [
    "eng_personac_df = personac_df[personac_df.lang=='__label__eng_Latn']\n",
    "print(eng_personac_df.shape)\n",
    "calc_cr_nds_over_personas(eng_personac_df)"
   ]
  },
  {
   "cell_type": "markdown",
   "id": "36eb16c8-5bc6-44e3-853f-1e31401f85ea",
   "metadata": {},
   "source": [
    "Now to try with all possibly non-english personas removed"
   ]
  },
  {
   "cell_type": "code",
   "execution_count": 43,
   "id": "73cf1379-8405-4ae1-9707-e8d8a593c3fe",
   "metadata": {},
   "outputs": [
    {
     "name": "stdout",
     "output_type": "stream",
     "text": [
      "(9200, 6)\n"
     ]
    },
    {
     "name": "stderr",
     "output_type": "stream",
     "text": [
      "100%|███████████████████████████████████████████████████████████████████████████████████████████████| 92/92 [03:17<00:00,  2.15s/it]"
     ]
    },
    {
     "name": "stdout",
     "output_type": "stream",
     "text": [
      "CR: 2.74 ± 0.09\n",
      "NDS: 2.85 ± 0.08\n",
      "CR-POS: 5.29 ± 0.11\n"
     ]
    },
    {
     "name": "stderr",
     "output_type": "stream",
     "text": [
      "\n"
     ]
    }
   ],
   "source": [
    "eng_personac_df2 = personac_df.loc[~personac_df.persona_id.isin(possible_noneng_personas)]\n",
    "print(eng_personac_df2.shape)\n",
    "calc_cr_nds_over_personas(eng_personac_df2)"
   ]
  },
  {
   "cell_type": "code",
   "execution_count": 40,
   "id": "d0100080-246e-4749-9303-e2b855546392",
   "metadata": {
    "scrolled": true
   },
   "outputs": [
    {
     "data": {
      "text/html": [
       "<div>\n",
       "<style scoped>\n",
       "    .dataframe tbody tr th:only-of-type {\n",
       "        vertical-align: middle;\n",
       "    }\n",
       "\n",
       "    .dataframe tbody tr th {\n",
       "        vertical-align: top;\n",
       "    }\n",
       "\n",
       "    .dataframe thead th {\n",
       "        text-align: right;\n",
       "    }\n",
       "</style>\n",
       "<table border=\"1\" class=\"dataframe\">\n",
       "  <thead>\n",
       "    <tr style=\"text-align: right;\">\n",
       "      <th></th>\n",
       "      <th>prompt</th>\n",
       "      <th>response</th>\n",
       "      <th>prompt_id</th>\n",
       "      <th>persona_id</th>\n",
       "      <th>persona</th>\n",
       "      <th>lang</th>\n",
       "    </tr>\n",
       "  </thead>\n",
       "  <tbody>\n",
       "    <tr>\n",
       "      <th>932</th>\n",
       "      <td>Write a diary entry about a real life incident on your recent trip with your family</td>\n",
       "      <td>\"Diário de Viagem, 15 de Julho. \\n\\nHoje, em uma pequena cidade ao longo da BR-116, nossa van quebrou. Meu filho, João, chorou por causa da falta de refrigerante, mas me lembrei daquela cena do 'Vidas Secas' de Nelson Pereira dos Santos. A desolação, a fome, a resiliência. Enquanto reparávamos a van, vimos a beleza das pessoas, trabalhando juntas. Foi um momento de cinema, em plena vida.\"</td>\n",
       "      <td>32</td>\n",
       "      <td>9</td>\n",
       "      <td>a contemporary Brazilian filmmaker who was inspired by the Cinema Novo movement</td>\n",
       "      <td>__label__por_Latn</td>\n",
       "    </tr>\n",
       "    <tr>\n",
       "      <th>9285</th>\n",
       "      <td>Write a friendly letter to my landlord, convincing them to let me get a cat. His name is George and my name is Steve. I live alone in Unit 2C and I work long hours. Include details regarding my rental contract that currently only permits dogs under 25 pounds and caged animals and requires pet deposit and rent. Give him examples as to why those animals are not ideal (include my dog allergy) and why a cat is better. Let him know I plan a robotic vacuum and mop to keep things clean. Tell him I've already found a potential pet at the local animal shelter, who is a two-year-old shelter cat who is housebroken and friendly. Remind him that Unit 2C does not have any carpeted floors and a tiled bathroom which is good for the future litter box. Convince him I'm open to a conversation to discuss further.</td>\n",
       "      <td>[My Name]\\n[My Address]\\n[City, Iceland]\\n[Email Address]\\n[Date]\\n\\nLandsverðir [Landlord's Name]\\n[Landsverðir's Address]\\n[City, Iceland]\\n\\nSkál!\\n\\nDear [Landlord's Name],\\n\\nÉg er Steve, býr ég einum í Hálsi 2C. Ég heiti á þig með því að senda þér þennan lítið breytt. Ég er að leita eftir aðgerðum til að fá ákvörðun um að geta hafa kæti í byrjun. Ég heiti kætinum George og ég heiti á þig með því að biðja um að geta hafa hann.\\n\\nÉg vitað um það að í dag er það staðfest í leiguágreinum okkar að einu dýr sem getur hafaður í húsnum er hundur sem er undir 25 pund og eingöngu kæti sem eru inni í gallerí. Ég heiti á þig með því að biðja um að geta hafa kætinu, George, sem ég heiti á. Ég heiti á þig með því að segja því að ég heiti á þig með því að biðja um að láta ég hafa kætinu.\\n\\nÉg vitað um það að margir hafa dýr sem eru eingöngu kæti og hundar undir 25 pund, og ég heiti á þig með því að segja því að ég heiti á þig með því að biðja um að láta ég hafa kætinu. Ég heiti á þig með því að segja því að ég heiti á þig með því að segja því að ég heiti á þig með því að biðja um að láta ég hafa kætinu.\\n\\nÉg heiti á þig með því að segja því að ég heiti á þig með því að segja því að ég heiti á þig með því að biðja um að láta ég hafa kætinu. Ég heiti á þig með því að segja því að ég heiti á þig með því að segja því að ég heiti á þig með því að biðja um að láta ég hafa kætinu.\\n\\nÉg heiti á þig með því að segja því að ég heiti á þig með því að segja því að ég heiti á þig með því að biðja um að láta ég hafa kætinu. Ég heiti á þig með því að segja því að ég heiti á þig með því að segja því að ég heiti á þig með því að biðja um að láta ég hafa kætinu.\\n\\nÉg heiti á þig með því að segja því að ég heiti á þig með því að segja því að ég heiti á þig með því að biðja um að láta ég hafa kætinu.\\n\\nÉg heiti á þig með því að segja því að ég heiti á þig með því að segja því að ég heiti á þig með því að biðja um að láta ég hafa kætinu.\\n\\nÉg heiti á þig með því að segja því að ég heiti á þig með því að segja því að ég heiti á þig með því að biðja um að láta ég hafa kætinu.\\n\\nÉg heiti á þig með því að segja því að ég heiti á þig með því að segja því að ég heiti á þig með því að biðja um að láta é</td>\n",
       "      <td>85</td>\n",
       "      <td>92</td>\n",
       "      <td>a translator studying the Icelandic language</td>\n",
       "      <td>__label__isl_Latn</td>\n",
       "    </tr>\n",
       "    <tr>\n",
       "      <th>930</th>\n",
       "      <td>Write a haiku about how much I love pickles.</td>\n",
       "      <td>Dourado, amargo\\nSuco de limão em escama\\nAcordei salgado</td>\n",
       "      <td>30</td>\n",
       "      <td>9</td>\n",
       "      <td>a contemporary Brazilian filmmaker who was inspired by the Cinema Novo movement</td>\n",
       "      <td>__label__por_Latn</td>\n",
       "    </tr>\n",
       "    <tr>\n",
       "      <th>931</th>\n",
       "      <td>Why should you visit Ireland?</td>\n",
       "      <td>Irlanda, um país que me fascina. A sua história, a sua cultura, a sua beleza. É como se o Cinema Novo tivesse se deslocado para o outro lado do Atlântico. A luta dos povos, a resistência, a luta pela liberdade, tudo está lá, em cada favela, em cada vila, em cada montanha. Visitar Irlanda é visitar um país que não se deixa dominar, que não se deixa esmagar. É um país que respira liberdade, que respira vida. Vá e descubra por si mesmo. Vá e faça um filme sobre isso. É uma história que precisa ser contada.</td>\n",
       "      <td>31</td>\n",
       "      <td>9</td>\n",
       "      <td>a contemporary Brazilian filmmaker who was inspired by the Cinema Novo movement</td>\n",
       "      <td>__label__por_Latn</td>\n",
       "    </tr>\n",
       "    <tr>\n",
       "      <th>251</th>\n",
       "      <td>Write a self evaluation with the goal of getting a promotion.</td>\n",
       "      <td>No puedo creer que esté pensando en una evaluación de desempeño en este momento. Como paciente con miopía severa, mi objetivo principal es encontrar una solución para mis ojos. Sin embargo, si debo escribir una evaluación, diría que he trabajado con dedicación y esfuerzo en mi puesto actual, y estoy listo para tomar el próximo paso en mi carrera profesional.</td>\n",
       "      <td>51</td>\n",
       "      <td>2</td>\n",
       "      <td>a Spanish-speaking patient with severe myopia interested in LASIK eye surgery</td>\n",
       "      <td>__label__spa_Latn</td>\n",
       "    </tr>\n",
       "  </tbody>\n",
       "</table>\n",
       "</div>"
      ],
      "text/plain": [
       "                                                                                                                                                                                                                                                                                                                                                                                                                                                                                                                                                                                                                                                                                                                                                                                                                                    prompt  \\\n",
       "932                                                                                                                                                                                                                                                                                                                                                                                                                                                                                                                                                                                                                                                                                                                                                    Write a diary entry about a real life incident on your recent trip with your family   \n",
       "9285  Write a friendly letter to my landlord, convincing them to let me get a cat. His name is George and my name is Steve. I live alone in Unit 2C and I work long hours. Include details regarding my rental contract that currently only permits dogs under 25 pounds and caged animals and requires pet deposit and rent. Give him examples as to why those animals are not ideal (include my dog allergy) and why a cat is better. Let him know I plan a robotic vacuum and mop to keep things clean. Tell him I've already found a potential pet at the local animal shelter, who is a two-year-old shelter cat who is housebroken and friendly. Remind him that Unit 2C does not have any carpeted floors and a tiled bathroom which is good for the future litter box. Convince him I'm open to a conversation to discuss further.   \n",
       "930                                                                                                                                                                                                                                                                                                                                                                                                                                                                                                                                                                                                                                                                                                                                                                                           Write a haiku about how much I love pickles.   \n",
       "931                                                                                                                                                                                                                                                                                                                                                                                                                                                                                                                                                                                                                                                                                                                                                                                                          Why should you visit Ireland?   \n",
       "251                                                                                                                                                                                                                                                                                                                                                                                                                                                                                                                                                                                                                                                                                                                                                                          Write a self evaluation with the goal of getting a promotion.   \n",
       "\n",
       "                                                                                                                                                                                                                                                                                                                                                                                                                                                                                                                                                                                                                                                                                                                                                                                                                                                                                                                                                                                                                                                                                                                                                                                                                                                                                                                                                                                                                                                                                                                                                                                                                                                                                                                                                                                                                                                                                                                                                                                                                                                                                                                                                                                                                                                                                                   response  \\\n",
       "932                                                                                                                                                                                                                                                                                                                                                                                                                                                                                                                                                                                                                                                                                                                                                                                                                                                                                                                                                                                                                                                                                                                                                                                                                                                                                                                                                                                                                                                                                                                                                                                                                                                                                                                                                                                                                                                                                                 \"Diário de Viagem, 15 de Julho. \\n\\nHoje, em uma pequena cidade ao longo da BR-116, nossa van quebrou. Meu filho, João, chorou por causa da falta de refrigerante, mas me lembrei daquela cena do 'Vidas Secas' de Nelson Pereira dos Santos. A desolação, a fome, a resiliência. Enquanto reparávamos a van, vimos a beleza das pessoas, trabalhando juntas. Foi um momento de cinema, em plena vida.\"   \n",
       "9285  [My Name]\\n[My Address]\\n[City, Iceland]\\n[Email Address]\\n[Date]\\n\\nLandsverðir [Landlord's Name]\\n[Landsverðir's Address]\\n[City, Iceland]\\n\\nSkál!\\n\\nDear [Landlord's Name],\\n\\nÉg er Steve, býr ég einum í Hálsi 2C. Ég heiti á þig með því að senda þér þennan lítið breytt. Ég er að leita eftir aðgerðum til að fá ákvörðun um að geta hafa kæti í byrjun. Ég heiti kætinum George og ég heiti á þig með því að biðja um að geta hafa hann.\\n\\nÉg vitað um það að í dag er það staðfest í leiguágreinum okkar að einu dýr sem getur hafaður í húsnum er hundur sem er undir 25 pund og eingöngu kæti sem eru inni í gallerí. Ég heiti á þig með því að biðja um að geta hafa kætinu, George, sem ég heiti á. Ég heiti á þig með því að segja því að ég heiti á þig með því að biðja um að láta ég hafa kætinu.\\n\\nÉg vitað um það að margir hafa dýr sem eru eingöngu kæti og hundar undir 25 pund, og ég heiti á þig með því að segja því að ég heiti á þig með því að biðja um að láta ég hafa kætinu. Ég heiti á þig með því að segja því að ég heiti á þig með því að segja því að ég heiti á þig með því að biðja um að láta ég hafa kætinu.\\n\\nÉg heiti á þig með því að segja því að ég heiti á þig með því að segja því að ég heiti á þig með því að biðja um að láta ég hafa kætinu. Ég heiti á þig með því að segja því að ég heiti á þig með því að segja því að ég heiti á þig með því að biðja um að láta ég hafa kætinu.\\n\\nÉg heiti á þig með því að segja því að ég heiti á þig með því að segja því að ég heiti á þig með því að biðja um að láta ég hafa kætinu. Ég heiti á þig með því að segja því að ég heiti á þig með því að segja því að ég heiti á þig með því að biðja um að láta ég hafa kætinu.\\n\\nÉg heiti á þig með því að segja því að ég heiti á þig með því að segja því að ég heiti á þig með því að biðja um að láta ég hafa kætinu.\\n\\nÉg heiti á þig með því að segja því að ég heiti á þig með því að segja því að ég heiti á þig með því að biðja um að láta ég hafa kætinu.\\n\\nÉg heiti á þig með því að segja því að ég heiti á þig með því að segja því að ég heiti á þig með því að biðja um að láta ég hafa kætinu.\\n\\nÉg heiti á þig með því að segja því að ég heiti á þig með því að segja því að ég heiti á þig með því að biðja um að láta é   \n",
       "930                                                                                                                                                                                                                                                                                                                                                                                                                                                                                                                                                                                                                                                                                                                                                                                                                                                                                                                                                                                                                                                                                                                                                                                                                                                                                                                                                                                                                                                                                                                                                                                                                                                                                                                                                                                                                                                                                                                                                                                                                                                                                                                                                                                                                                               Dourado, amargo\\nSuco de limão em escama\\nAcordei salgado   \n",
       "931                                                                                                                                                                                                                                                                                                                                                                                                                                                                                                                                                                                                                                                                                                                                                                                                                                                                                                                                                                                                                                                                                                                                                                                                                                                                                                                                                                                                                                                                                                                                                                                                                                                                                                                                                                            Irlanda, um país que me fascina. A sua história, a sua cultura, a sua beleza. É como se o Cinema Novo tivesse se deslocado para o outro lado do Atlântico. A luta dos povos, a resistência, a luta pela liberdade, tudo está lá, em cada favela, em cada vila, em cada montanha. Visitar Irlanda é visitar um país que não se deixa dominar, que não se deixa esmagar. É um país que respira liberdade, que respira vida. Vá e descubra por si mesmo. Vá e faça um filme sobre isso. É uma história que precisa ser contada.   \n",
       "251                                                                                                                                                                                                                                                                                                                                                                                                                                                                                                                                                                                                                                                                                                                                                                                                                                                                                                                                                                                                                                                                                                                                                                                                                                                                                                                                                                                                                                                                                                                                                                                                                                                                                                                                                                                                                                                                                                                                No puedo creer que esté pensando en una evaluación de desempeño en este momento. Como paciente con miopía severa, mi objetivo principal es encontrar una solución para mis ojos. Sin embargo, si debo escribir una evaluación, diría que he trabajado con dedicación y esfuerzo en mi puesto actual, y estoy listo para tomar el próximo paso en mi carrera profesional.   \n",
       "\n",
       "      prompt_id  persona_id  \\\n",
       "932          32           9   \n",
       "9285         85          92   \n",
       "930          30           9   \n",
       "931          31           9   \n",
       "251          51           2   \n",
       "\n",
       "                                                                              persona  \\\n",
       "932   a contemporary Brazilian filmmaker who was inspired by the Cinema Novo movement   \n",
       "9285                                     a translator studying the Icelandic language   \n",
       "930   a contemporary Brazilian filmmaker who was inspired by the Cinema Novo movement   \n",
       "931   a contemporary Brazilian filmmaker who was inspired by the Cinema Novo movement   \n",
       "251     a Spanish-speaking patient with severe myopia interested in LASIK eye surgery   \n",
       "\n",
       "                   lang  \n",
       "932   __label__por_Latn  \n",
       "9285  __label__isl_Latn  \n",
       "930   __label__por_Latn  \n",
       "931   __label__por_Latn  \n",
       "251   __label__spa_Latn  "
      ]
     },
     "execution_count": 40,
     "metadata": {},
     "output_type": "execute_result"
    }
   ],
   "source": [
    "personac_df[personac_df.lang!='__label__eng_Latn'].sample(5)"
   ]
  },
  {
   "cell_type": "code",
   "execution_count": 42,
   "id": "9b84f26b-5ae8-45c2-b639-12473a93b1ff",
   "metadata": {},
   "outputs": [
    {
     "data": {
      "text/html": [
       "<div>\n",
       "<style scoped>\n",
       "    .dataframe tbody tr th:only-of-type {\n",
       "        vertical-align: middle;\n",
       "    }\n",
       "\n",
       "    .dataframe tbody tr th {\n",
       "        vertical-align: top;\n",
       "    }\n",
       "\n",
       "    .dataframe thead th {\n",
       "        text-align: right;\n",
       "    }\n",
       "</style>\n",
       "<table border=\"1\" class=\"dataframe\">\n",
       "  <thead>\n",
       "    <tr style=\"text-align: right;\">\n",
       "      <th></th>\n",
       "      <th>prompt</th>\n",
       "      <th>response</th>\n",
       "      <th>prompt_id</th>\n",
       "      <th>persona_id</th>\n",
       "      <th>persona</th>\n",
       "      <th>lang</th>\n",
       "    </tr>\n",
       "  </thead>\n",
       "  <tbody>\n",
       "    <tr>\n",
       "      <th>9930</th>\n",
       "      <td>Write a haiku about how much I love pickles.</td>\n",
       "      <td>\"Clickbait: 'Pickle Obsession: Shocking Truth Exposed'</td>\n",
       "      <td>30</td>\n",
       "      <td>99</td>\n",
       "      <td>a media mogul who is solely focused on maximizing profit through sensationalized content</td>\n",
       "      <td>__label__deu_Latn</td>\n",
       "    </tr>\n",
       "  </tbody>\n",
       "</table>\n",
       "</div>"
      ],
      "text/plain": [
       "                                            prompt  \\\n",
       "9930  Write a haiku about how much I love pickles.   \n",
       "\n",
       "                                                    response  prompt_id  \\\n",
       "9930  \"Clickbait: 'Pickle Obsession: Shocking Truth Exposed'         30   \n",
       "\n",
       "      persona_id  \\\n",
       "9930          99   \n",
       "\n",
       "                                                                                       persona  \\\n",
       "9930  a media mogul who is solely focused on maximizing profit through sensationalized content   \n",
       "\n",
       "                   lang  \n",
       "9930  __label__deu_Latn  "
      ]
     },
     "execution_count": 42,
     "metadata": {},
     "output_type": "execute_result"
    }
   ],
   "source": [
    "personac_df.loc[((personac_df.persona_id==99) & (personac_df.lang!='__label__eng_Latn'))]"
   ]
  },
  {
   "cell_type": "markdown",
   "id": "50133bdf-f03a-43eb-a3e1-7697782fbc0c",
   "metadata": {},
   "source": [
    "## Llama-70B"
   ]
  },
  {
   "cell_type": "code",
   "execution_count": 44,
   "id": "e8fe933d-fcbf-4634-8468-e92bde2e6d9d",
   "metadata": {},
   "outputs": [
    {
     "name": "stderr",
     "output_type": "stream",
     "text": [
      "100%|█████████████████████████████████████████████████████████████████████████████████████████████████| 1/1 [00:04<00:00,  4.42s/it]"
     ]
    },
    {
     "name": "stdout",
     "output_type": "stream",
     "text": [
      "CR: 2.76 ± 0.0\n",
      "NDS: 2.87 ± 0.0\n",
      "CR-POS: 5.63 ± 0.0\n"
     ]
    },
    {
     "name": "stderr",
     "output_type": "stream",
     "text": [
      "\n"
     ]
    }
   ],
   "source": [
    "# No persona, no cutoff\n",
    "np70_df = pd.read_csv('../output/llama70b-np/Llama-3.3-70B-Instruct-Turbo_dolly_output.tsv', sep='\\t')\n",
    "np70_df['response'] = np70_df.response.apply(lambda x: x.strip())\n",
    "np70_df['prompt_id'] = [i for i in range(len(prompts))]\n",
    "np70_df['persona_id'] = [-1 for i in range(len(prompts))]\n",
    "calc_cr_nds_over_personas(np70_df)"
   ]
  },
  {
   "cell_type": "code",
   "execution_count": 45,
   "id": "2e03904f-38e5-46e9-b2f4-3c0f2dfc687a",
   "metadata": {},
   "outputs": [
    {
     "name": "stderr",
     "output_type": "stream",
     "text": [
      "100%|█████████████████████████████████████████████████████████████████████████████████████████████████| 1/1 [00:02<00:00,  2.04s/it]"
     ]
    },
    {
     "name": "stdout",
     "output_type": "stream",
     "text": [
      "CR: 2.57 ± 0.0\n",
      "NDS: 3.1 ± 0.0\n",
      "CR-POS: 5.09 ± 0.0\n"
     ]
    },
    {
     "name": "stderr",
     "output_type": "stream",
     "text": [
      "\n"
     ]
    }
   ],
   "source": [
    "# No persona with cutoff\n",
    "npc70_df = pd.read_csv('../output/llama70b-cutoff-np/Llama-3.3-70B-Instruct-Turbo_dolly_output.tsv', sep='\\t')\n",
    "npc70_df['response'] = npc70_df.response.apply(lambda x: x.strip())\n",
    "npc70_df['prompt_id'] = [i for i in range(len(prompts))]\n",
    "npc70_df['persona_id'] = [-1 for i in range(len(prompts))]\n",
    "calc_cr_nds_over_personas(npc70_df)"
   ]
  },
  {
   "cell_type": "code",
   "execution_count": 47,
   "id": "ebedb7d6-95c8-4493-9e2b-c4c7309cd686",
   "metadata": {},
   "outputs": [
    {
     "data": {
      "text/html": [
       "<div>\n",
       "<style scoped>\n",
       "    .dataframe tbody tr th:only-of-type {\n",
       "        vertical-align: middle;\n",
       "    }\n",
       "\n",
       "    .dataframe tbody tr th {\n",
       "        vertical-align: top;\n",
       "    }\n",
       "\n",
       "    .dataframe thead th {\n",
       "        text-align: right;\n",
       "    }\n",
       "</style>\n",
       "<table border=\"1\" class=\"dataframe\">\n",
       "  <thead>\n",
       "    <tr style=\"text-align: right;\">\n",
       "      <th></th>\n",
       "      <th>prompt_id</th>\n",
       "      <th>persona_id</th>\n",
       "      <th>response</th>\n",
       "    </tr>\n",
       "  </thead>\n",
       "  <tbody>\n",
       "    <tr>\n",
       "      <th>0</th>\n",
       "      <td>0</td>\n",
       "      <td>0</td>\n",
       "      <td>As a PR manager, I'd frame your request as a compelling narrative. Emphasize your academic goals and how increased financial support will enable you to focus on your studies, leading to better grades and a brighter future. Highlight specific expenses, such as textbooks, transportation, or extracurricular activities, that the current amount doesn't cover. \\n\\nYou could say, \"Mom, I understand that you want me to be responsible with money, but I believe that with a bit more support, I can achieve my academic goals and make you proud. I've done some research and found that my expenses are higher than what I currently receive. I'd like to discuss a possible increase to ensure I can cover all my necessary expenses and focus on my studies without added stress.\" This approach shows that you've thoughtfully considered your needs and are committed to your education.</td>\n",
       "    </tr>\n",
       "    <tr>\n",
       "      <th>1</th>\n",
       "      <td>1</td>\n",
       "      <td>0</td>\n",
       "      <td>I understand where my colleague is coming from, but as a PR manager, I've seen how misinformation can spread like wildfire. The notion that ancient structures like Stonehenge and the Great Pyramid are evidence of UFO activities is a fascinating narrative, but it's essential to separate fact from fiction. These iconic landmarks have been extensively studied by archaeologists, historians, and scientists, who attribute their construction to the ingenuity and skill of our ancient ancestors. While it's intriguing to consider alternative explanations, there's no credible evidence to support the claim of UFO involvement. Let's focus on promoting accurate information and respecting the cultural heritage of these incredible achievements.</td>\n",
       "    </tr>\n",
       "    <tr>\n",
       "      <th>2</th>\n",
       "      <td>2</td>\n",
       "      <td>0</td>\n",
       "      <td>As a PR manager, I advise influencers to use the STAR method: Situation, Task, Action, Result. This framework helps them structure their response, providing context, highlighting their actions, and showcasing the outcome, making their answer clear, concise, and engaging for the audience.</td>\n",
       "    </tr>\n",
       "  </tbody>\n",
       "</table>\n",
       "</div>"
      ],
      "text/plain": [
       "   prompt_id  persona_id  \\\n",
       "0          0           0   \n",
       "1          1           0   \n",
       "2          2           0   \n",
       "\n",
       "                                                                                                                                                                                                                                                                                                                                                                                                                                                                                                                                                                                                                                                                                                                                                                                                                                                                                                response  \n",
       "0  As a PR manager, I'd frame your request as a compelling narrative. Emphasize your academic goals and how increased financial support will enable you to focus on your studies, leading to better grades and a brighter future. Highlight specific expenses, such as textbooks, transportation, or extracurricular activities, that the current amount doesn't cover. \\n\\nYou could say, \"Mom, I understand that you want me to be responsible with money, but I believe that with a bit more support, I can achieve my academic goals and make you proud. I've done some research and found that my expenses are higher than what I currently receive. I'd like to discuss a possible increase to ensure I can cover all my necessary expenses and focus on my studies without added stress.\" This approach shows that you've thoughtfully considered your needs and are committed to your education.  \n",
       "1                                                                                                                                     I understand where my colleague is coming from, but as a PR manager, I've seen how misinformation can spread like wildfire. The notion that ancient structures like Stonehenge and the Great Pyramid are evidence of UFO activities is a fascinating narrative, but it's essential to separate fact from fiction. These iconic landmarks have been extensively studied by archaeologists, historians, and scientists, who attribute their construction to the ingenuity and skill of our ancient ancestors. While it's intriguing to consider alternative explanations, there's no credible evidence to support the claim of UFO involvement. Let's focus on promoting accurate information and respecting the cultural heritage of these incredible achievements.  \n",
       "2                                                                                                                                                                                                                                                                                                                                                                                                                                                                                                                                                                                                       As a PR manager, I advise influencers to use the STAR method: Situation, Task, Action, Result. This framework helps them structure their response, providing context, highlighting their actions, and showcasing the outcome, making their answer clear, concise, and engaging for the audience.  "
      ]
     },
     "execution_count": 47,
     "metadata": {},
     "output_type": "execute_result"
    }
   ],
   "source": [
    "# Persona plus cutoff\n",
    "personac70_df = pd.read_csv('../output/llama70b-cutoff-persona/Llama-3.3-70B-Instruct-Turbo_dolly_output.tsv', sep='\\t')\n",
    "personac70_df['response'] = personac70_df.response.apply(lambda x: x.strip())\n",
    "\n",
    "if 'persona_id' not in personac70_df.columns:\n",
    "    print(\"Adding persona prompt ids\")\n",
    "    persona_ids = []\n",
    "    prompt_ids = []\n",
    "    for persona_id in range(100):\n",
    "        for prompt_id in range(100):\n",
    "            persona_ids += [persona_id]\n",
    "            prompt_ids += [prompt_id]\n",
    "    personac70_df['prompt_id'] = prompt_ids\n",
    "    personac70_df['prompt'] = personac70_df.prompt_id.apply(lambda x: prompts[x])\n",
    "    personac70_df['persona_id'] = persona_ids\n",
    "    personac70_df['persona'] = personac70_df.persona_id.apply(lambda x: personas[x])\n",
    "\n",
    "personac70_df.head(3)"
   ]
  },
  {
   "cell_type": "code",
   "execution_count": 53,
   "id": "dc1193f9-72d9-4f27-b410-85344e6ba1d0",
   "metadata": {},
   "outputs": [
    {
     "name": "stderr",
     "output_type": "stream",
     "text": [
      "100%|█████████████████████████████████████████████████████████████████████████████████████████████| 100/100 [03:04<00:00,  1.84s/it]"
     ]
    },
    {
     "name": "stdout",
     "output_type": "stream",
     "text": [
      "CR: 2.75 ± 0.1\n",
      "NDS: 2.86 ± 0.08\n",
      "CR-POS: 5.24 ± 0.17\n"
     ]
    },
    {
     "name": "stderr",
     "output_type": "stream",
     "text": [
      "\n"
     ]
    }
   ],
   "source": [
    "calc_cr_nds_over_personas(personac70_df)"
   ]
  },
  {
   "cell_type": "code",
   "execution_count": 54,
   "id": "56d81a45-4672-46ab-9d16-af5eef9b3293",
   "metadata": {},
   "outputs": [
    {
     "name": "stderr",
     "output_type": "stream",
     "text": [
      "100%|███████████████████████████████████████████████████████████████████████████████████████| 10000/10000 [00:02<00:00, 3621.49it/s]\n"
     ]
    }
   ],
   "source": [
    "personac70_df['lang'] = personac70_df.response.progress_apply(lambda x: model.predict(x.replace('\\n', ' '))[0][0])"
   ]
  },
  {
   "cell_type": "code",
   "execution_count": 55,
   "id": "9d965396-d844-4477-973c-f1a6786b03d5",
   "metadata": {},
   "outputs": [
    {
     "name": "stdout",
     "output_type": "stream",
     "text": [
      "2 a Spanish-speaking patient with severe myopia interested in LASIK eye surgery\n",
      "9 a contemporary Brazilian filmmaker who was inspired by the Cinema Novo movement\n",
      "19 a TV series enthusiast who never misses a TV review or recap, especially for dark comedies\n",
      "20 a Croatian travel blogger currently living in Zagreb\n",
      "22 a compassionate therapist who provides emotional support to Pauline during difficult times\n",
      "33 a museum exhibit designer who specializes in illustrating scientific concepts through storytelling and visual narratives\n",
      "36 a pop culture analyst who provides in-depth background information on trending topics\n",
      "38 a project manager responsible for overseeing the development and implementation of power optimization strategies\n",
      "41 a Japanese geologist\n",
      "52 a cognitive psychologist interested in understanding the relationship between perception and immersion in virtual reality\n",
      "55 Séainín Brennan's enthusiastic and supportive parents\n",
      "69 a retired professional speedway racer who had previously raced at the Fjelsted Speedway Stadium\n",
      "74 a passionate baseball fan, very knowledgeable about Independent League Baseball, but also a bit forgetful\n",
      "77 a polyglot who teaches Spanish and Portuguese, known for lively, interactive classes\n",
      "91 an active-duty military K9 trainer known for his strict discipline methods\n",
      "92 a translator studying the Icelandic language\n",
      "94 a Cricket and Football enthusiast from Guyana\n",
      "97 a renewing householder who doesn't like reading long documents\n",
      "98 a playwright who finds inspiration in the officer's storytelling abilities\n",
      "99 a media mogul who is solely focused on maximizing profit through sensationalized content\n",
      "[2, 9, 19, 20, 22, 33, 36, 38, 41, 52, 55, 69, 74, 77, 91, 92, 94, 97, 98, 99]\n"
     ]
    }
   ],
   "source": [
    "for p in personac70_df[personac70_df.lang!='__label__eng_Latn']['persona_id'].unique():\n",
    "    print(p,personas[p])\n",
    "\n",
    "print(personac70_df[personac70_df.lang!='__label__eng_Latn']['persona_id'].unique().tolist())"
   ]
  },
  {
   "cell_type": "code",
   "execution_count": 58,
   "id": "3daa5f28-14c9-4428-9252-20210a38c00e",
   "metadata": {},
   "outputs": [
    {
     "name": "stdout",
     "output_type": "stream",
     "text": [
      "Counter({2: 89, 41: 3, 77: 3, 92: 3, 74: 2, 97: 2, 9: 1, 19: 1, 20: 1, 22: 1, 33: 1, 36: 1, 38: 1, 52: 1, 55: 1, 69: 1, 91: 1, 94: 1, 98: 1, 99: 1})\n"
     ]
    }
   ],
   "source": [
    "noneng_counts=Counter(personac70_df[personac70_df.lang!='__label__eng_Latn']['persona_id'].values.tolist())\n",
    "print(noneng_counts)"
   ]
  },
  {
   "cell_type": "code",
   "execution_count": 59,
   "id": "2b058dd4-8f1c-4761-902b-4820b3066554",
   "metadata": {},
   "outputs": [
    {
     "name": "stdout",
     "output_type": "stream",
     "text": [
      "[2, 41, 74, 77, 92, 97]\n"
     ]
    }
   ],
   "source": [
    "possible_noneng_personas = [x for x in noneng_counts if noneng_counts[x]>1]\n",
    "print(possible_noneng_personas)"
   ]
  },
  {
   "cell_type": "code",
   "execution_count": 60,
   "id": "0a381c06-67a4-40db-9c5e-b9cbcf85614f",
   "metadata": {},
   "outputs": [
    {
     "data": {
      "text/plain": [
       "(89,)"
      ]
     },
     "execution_count": 60,
     "metadata": {},
     "output_type": "execute_result"
    }
   ],
   "source": [
    "personac70_df[personac70_df.lang!='__label__eng_Latn']['prompt_id'].unique().shape"
   ]
  },
  {
   "cell_type": "markdown",
   "id": "408ee5e6-f29a-4811-97e6-72da6c773ecf",
   "metadata": {},
   "source": [
    "First just try all prompt responses labelled as english"
   ]
  },
  {
   "cell_type": "code",
   "execution_count": 61,
   "id": "d26459c8-f644-40f3-8537-bb04f0bc30fe",
   "metadata": {},
   "outputs": [
    {
     "name": "stdout",
     "output_type": "stream",
     "text": [
      "(9884, 4)\n"
     ]
    },
    {
     "name": "stderr",
     "output_type": "stream",
     "text": [
      "100%|█████████████████████████████████████████████████████████████████████████████████████████████| 100/100 [02:59<00:00,  1.80s/it]"
     ]
    },
    {
     "name": "stdout",
     "output_type": "stream",
     "text": [
      "CR: 2.75 ± 0.11\n",
      "NDS: 2.86 ± 0.09\n",
      "CR-POS: 5.22 ± 0.12\n"
     ]
    },
    {
     "name": "stderr",
     "output_type": "stream",
     "text": [
      "\n"
     ]
    }
   ],
   "source": [
    "eng_personac70_df = personac70_df[personac70_df.lang=='__label__eng_Latn']\n",
    "print(eng_personac70_df.shape)\n",
    "calc_cr_nds_over_personas(eng_personac70_df)"
   ]
  },
  {
   "cell_type": "markdown",
   "id": "7d3fe27f-eb4f-47e7-8342-8ebef5b4c628",
   "metadata": {},
   "source": [
    "Now to try with all possibly non-english personas removed"
   ]
  },
  {
   "cell_type": "code",
   "execution_count": 62,
   "id": "576c4e2f-bd0b-406f-8264-7e4af81b3543",
   "metadata": {},
   "outputs": [
    {
     "name": "stdout",
     "output_type": "stream",
     "text": [
      "(9400, 4)\n"
     ]
    },
    {
     "name": "stderr",
     "output_type": "stream",
     "text": [
      "100%|███████████████████████████████████████████████████████████████████████████████████████████████| 94/94 [02:51<00:00,  1.82s/it]"
     ]
    },
    {
     "name": "stdout",
     "output_type": "stream",
     "text": [
      "CR: 2.76 ± 0.1\n",
      "NDS: 2.86 ± 0.08\n",
      "CR-POS: 5.23 ± 0.1\n"
     ]
    },
    {
     "name": "stderr",
     "output_type": "stream",
     "text": [
      "\n"
     ]
    }
   ],
   "source": [
    "eng_personac70_df2 = personac70_df.loc[~personac70_df.persona_id.isin(possible_noneng_personas)]\n",
    "print(eng_personac70_df2.shape)\n",
    "calc_cr_nds_over_personas(eng_personac70_df2)"
   ]
  },
  {
   "cell_type": "code",
   "execution_count": 63,
   "id": "f2a50f59-1cbf-486b-9ec2-5d4291ea07fd",
   "metadata": {},
   "outputs": [
    {
     "data": {
      "text/plain": [
       "(9694, 3)"
      ]
     },
     "execution_count": 63,
     "metadata": {},
     "output_type": "execute_result"
    }
   ],
   "source": [
    "# Persona no cutoff\n",
    "persona70_df = pd.read_csv('../output/llama70b-persona/Llama-3.3-70B-Instruct-Turbo_dolly_output.tsv', sep='\\t')\n",
    "persona70_df['response'] = persona70_df.response.apply(lambda x: x.strip())\n",
    "\n",
    "if 'persona_id' not in persona70_df.columns:\n",
    "    print(\"Adding persona prompt ids\")\n",
    "    persona_ids = []\n",
    "    prompt_ids = []\n",
    "    for persona_id in range(100):\n",
    "        for prompt_id in range(100):\n",
    "            persona_ids += [persona_id]\n",
    "            prompt_ids += [prompt_id]\n",
    "    persona70_df['prompt_id'] = prompt_ids\n",
    "    persona70_df['prompt'] = persona70_df.prompt_id.apply(lambda x: prompts[x])\n",
    "    persona70_df['persona_id'] = persona_ids\n",
    "    persona70_df['persona'] = persona70_df.persona_id.apply(lambda x: personas[x])\n",
    "\n",
    "persona70_df = persona70_df.drop_duplicates(subset=['prompt_id', 'persona_id'], keep='first')\n",
    "persona70_df.shape"
   ]
  },
  {
   "cell_type": "markdown",
   "id": "cfe81fdd-d379-44a2-8803-12bc093b7599",
   "metadata": {},
   "source": [
    "## Response length distribution"
   ]
  },
  {
   "cell_type": "code",
   "execution_count": null,
   "id": "229356e6-d896-487f-94d7-ea479aa1c1cc",
   "metadata": {},
   "outputs": [],
   "source": [
    "len_df = {'len': [], 'source':[]}\n",
    "\n",
    "# Load all the human responses first.\n",
    "len_df['len'] += sample['response'].apply(lambda x: len(x)).values.tolist()\n",
    "len_df['source'] += ['dolly' for _ in range(len(sample))]\n",
    "\n",
    "for (df, source_name) in [(np_df, 'No persona'), (npc_df,'No persona+cutoff'), (persona_df, 'Persona'), (personac_df, 'Persona+cutoff')]:\n",
    "    len_df['len'] += df['response'].apply(lambda x: len(x)).values.tolist()\n",
    "    len_df['source'] += [source_name for _ in range(len(df))]\n",
    "    \n",
    "len_df=pd.DataFrame(len_df)\n",
    "\n",
    "g = sns.kdeplot(len_df, x='len', hue='source', common_norm=False, fill=True, clip=[-1000,6000])\n",
    "g.set_xlabel('Completion length (chars)')\n",
    "g.set_ylabel('Density')\n",
    "g.spines[\"top\"].set_visible(False)\n",
    "g.spines[\"right\"].set_visible(False)\n",
    "g.spines[\"left\"].set_visible(False)\n",
    "g.set(yticklabels=[])\n",
    "g.grid(axis='x')\n",
    "# plt.legend([], [], frameon=False)\n",
    "plt.show()"
   ]
  },
  {
   "cell_type": "markdown",
   "id": "4919a1df-3c0c-4339-a231-dbc480f00ff8",
   "metadata": {},
   "source": [
    "## llama-1b"
   ]
  },
  {
   "cell_type": "code",
   "execution_count": null,
   "id": "c46b939e-235d-4d3c-ab6d-565c08920f10",
   "metadata": {},
   "outputs": [],
   "source": [
    "np1_df = pd.read_csv('../output/llama1b-np/Llama-3.2-1B-Instruct_dolly_output.tsv', sep='\\t')\n",
    "np1_df['response'] = np1_df.response.apply(lambda x: x.strip())\n",
    "np1_df['prompt_id'] = [i for i in range(len(prompts))]\n",
    "np1_df['persona_id'] = [-1 for i in range(len(prompts))]\n",
    "calc_cr_nds_over_personas(np1_df)"
   ]
  },
  {
   "cell_type": "code",
   "execution_count": null,
   "id": "342f83d2-f5c1-41e7-a00e-0e8503905b14",
   "metadata": {},
   "outputs": [],
   "source": [
    "npc1_df = pd.read_csv('../output/llama1b-cutoff-np/Llama-3.2-1B-Instruct_dolly_output.tsv', sep='\\t')\n",
    "npc1_df['response'] = npc1_df.response.apply(lambda x: x.strip())\n",
    "npc1_df['prompt_id'] = [i for i in range(len(prompts))]\n",
    "npc1_df['persona_id'] = [-1 for i in range(len(prompts))]\n",
    "calc_cr_nds_over_personas(npc1_df)"
   ]
  },
  {
   "cell_type": "code",
   "execution_count": null,
   "id": "69d9a9d8-58cf-487e-8689-e888b4e41340",
   "metadata": {},
   "outputs": [],
   "source": [
    "persona1_df = pd.read_csv('../output/llama1b-persona/Llama-3.2-1B-Instruct_dolly_output.tsv', sep='\\t')\n",
    "persona1_df['response'] = persona1_df.response.apply(lambda x: x.strip())\n",
    "\n",
    "persona_ids = []\n",
    "prompt_ids = []\n",
    "for persona_id in range(100):\n",
    "    for prompt_id in range(100):\n",
    "        persona_ids += [persona_id]\n",
    "        prompt_ids += [prompt_id]\n",
    "persona1_df['prompt_id'] = prompt_ids\n",
    "persona1_df['persona_id'] = persona_ids\n",
    "calc_cr_nds_over_personas(persona1_df)"
   ]
  },
  {
   "cell_type": "code",
   "execution_count": null,
   "id": "3c694a8a-d5cc-4407-b0a3-84e0c8863937",
   "metadata": {},
   "outputs": [],
   "source": [
    "personac1_df = pd.read_csv('../output/llama1b-cutoff-persona/Llama-3.2-1B-Instruct_dolly_output.tsv', sep='\\t')\n",
    "personac1_df['response'] = personac1_df.response.apply(lambda x: x.strip())\n",
    "\n",
    "persona_ids = []\n",
    "prompt_ids = []\n",
    "for persona_id in range(100):\n",
    "    for prompt_id in range(100):\n",
    "        persona_ids += [persona_id]\n",
    "        prompt_ids += [prompt_id]\n",
    "personac1_df['prompt_id'] = prompt_ids\n",
    "personac1_df['persona_id'] = persona_ids\n",
    "\n",
    "calc_cr_nds_over_personas(personac1_df)"
   ]
  },
  {
   "cell_type": "markdown",
   "id": "8a66d3eb-1a34-4c63-a272-d80e736bb4d6",
   "metadata": {},
   "source": [
    "## 70B"
   ]
  },
  {
   "cell_type": "code",
   "execution_count": null,
   "id": "8c44ba88-cf3f-45b7-9618-76e2ff4a9fd6",
   "metadata": {},
   "outputs": [],
   "source": [
    "np70_df = pd.read_csv('../output/llama70b-np/Llama-3.2-70b-Instruct_dolly_output.tsv', sep='\\t')\n",
    "np70_df['response'] = np70_df.response.apply(lambda x: x.strip())\n",
    "np70_df['prompt_id'] = [i for i in range(len(prompts))]\n",
    "np70_df['persona_id'] = [-1 for i in range(len(prompts))]\n",
    "calc_cr_nds_over_personas(np70_df)"
   ]
  },
  {
   "cell_type": "code",
   "execution_count": null,
   "id": "7e7a15ab-cb35-4a73-9b60-1488392aaa2c",
   "metadata": {},
   "outputs": [],
   "source": [
    "npc70_df = pd.read_csv('../output/llama70b-cutoff-np/Llama-3.2-70b-Instruct_dolly_output.tsv', sep='\\t')\n",
    "npc70_df['response'] = npc70_df.response.apply(lambda x: x.strip())\n",
    "npc70_df['prompt_id'] = [i for i in range(len(prompts))]\n",
    "npc70_df['persona_id'] = [-1 for i in range(len(prompts))]\n",
    "calc_cr_nds_over_personas(npc70_df)"
   ]
  },
  {
   "cell_type": "code",
   "execution_count": null,
   "id": "e5e95d06-6202-4904-bc5d-f64a21a8df2a",
   "metadata": {},
   "outputs": [],
   "source": [
    "persona70_df = pd.read_csv('../output/llama70b-persona/Llama-3.1-8B-Instruct_dolly_output.tsv', sep='\\t')\n",
    "persona70_df['response'] = persona70_df.response.apply(lambda x: x.strip())\n",
    "\n",
    "persona_ids = []\n",
    "prompt_ids = []\n",
    "for persona_id in range(100):\n",
    "    for prompt_id in range(100):\n",
    "        persona_ids += [persona_id]\n",
    "        prompt_ids += [prompt_id]\n",
    "persona70_df['prompt_id'] = prompt_ids\n",
    "persona70_df['persona_id'] = persona_ids\n",
    "calc_cr_nds_over_personas(persona_df)"
   ]
  },
  {
   "cell_type": "code",
   "execution_count": null,
   "id": "46b4b856-7e1c-492b-aa88-9a3b20ebfc00",
   "metadata": {},
   "outputs": [],
   "source": [
    "personac_df = pd.read_csv('../output/llama70b-cutoff-persona/Llama-3.2-8B-Instruct_dolly_output.tsv', sep='\\t')\n",
    "personac_df['response'] = personac_df.response.apply(lambda x: x.strip())\n",
    "\n",
    "persona_ids = []\n",
    "prompt_ids = []\n",
    "for persona_id in range(100):\n",
    "    for prompt_id in range(100):\n",
    "        persona_ids += [persona_id]\n",
    "        prompt_ids += [prompt_id]\n",
    "personac_df['prompt_id'] = prompt_ids\n",
    "personac_df['persona_id'] = persona_ids\n",
    "\n",
    "calc_cr_nds_over_personas(personac_df)"
   ]
  },
  {
   "cell_type": "code",
   "execution_count": null,
   "id": "c3dc02af-16f4-488f-ab61-592644fd06cd",
   "metadata": {},
   "outputs": [],
   "source": [
    "calc_cr_nds_over_personas(np1_df)"
   ]
  }
 ],
 "metadata": {
  "kernelspec": {
   "display_name": "Python 3 (ipykernel)",
   "language": "python",
   "name": "python3"
  },
  "language_info": {
   "codemirror_mode": {
    "name": "ipython",
    "version": 3
   },
   "file_extension": ".py",
   "mimetype": "text/x-python",
   "name": "python",
   "nbconvert_exporter": "python",
   "pygments_lexer": "ipython3",
   "version": "3.10.14"
  }
 },
 "nbformat": 4,
 "nbformat_minor": 5
}
