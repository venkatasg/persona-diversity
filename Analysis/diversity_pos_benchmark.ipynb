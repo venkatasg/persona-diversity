{
 "cells": [
  {
   "cell_type": "markdown",
   "id": "86501a09-fa3b-4c63-86af-fbd1e0078b3e",
   "metadata": {},
   "source": [
    "# Benchmarking spacy with optimizations"
   ]
  },
  {
   "cell_type": "code",
   "execution_count": 1,
   "id": "fb7a4e42-1f17-4b16-af86-72ad15f071b9",
   "metadata": {},
   "outputs": [],
   "source": [
    "import spacy\n",
    "from tqdm import tqdm"
   ]
  },
  {
   "cell_type": "code",
   "execution_count": 2,
   "id": "ba17f787-d5e3-4cb7-a7c4-ed4ea7d9161e",
   "metadata": {},
   "outputs": [],
   "source": [
    "nlp = spacy.load('en_core_web_sm')"
   ]
  },
  {
   "cell_type": "code",
   "execution_count": 3,
   "id": "f78ba1bf-10e9-4461-b936-ab4ea5fb6973",
   "metadata": {},
   "outputs": [
    {
     "data": {
      "text/plain": [
       "15011"
      ]
     },
     "execution_count": 3,
     "metadata": {},
     "output_type": "execute_result"
    }
   ],
   "source": [
    "from datasets import load_dataset\n",
    "dolly = load_dataset(\"databricks/databricks-dolly-15k\")[\"train\"].to_pandas()\n",
    "sents = dolly.instruction.values.tolist()\n",
    "len(sents)"
   ]
  },
  {
   "cell_type": "code",
   "execution_count": 4,
   "id": "d7f0ebfa-3b46-48df-b96b-542122ddb555",
   "metadata": {},
   "outputs": [
    {
     "name": "stdout",
     "output_type": "stream",
     "text": [
      "CPU times: user 58.5 s, sys: 347 ms, total: 58.9 s\n",
      "Wall time: 58.9 s\n"
     ]
    }
   ],
   "source": [
    "%%time\n",
    "joined_pos = []\n",
    "for sent in sents:\n",
    "    doc = nlp(sent)\n",
    "    joined_pos.append(' '.join([token.tag_ for token in doc]))"
   ]
  },
  {
   "cell_type": "code",
   "execution_count": 5,
   "id": "9f2dd52b-8154-4128-8a78-3d75fdd036e1",
   "metadata": {},
   "outputs": [],
   "source": [
    "nlp2 = spacy.load('en_core_web_sm', enable=[\"tok2vec\", \"tagger\"])"
   ]
  },
  {
   "cell_type": "code",
   "execution_count": 6,
   "id": "2c489717-ba2e-40fb-87e3-03e261eef059",
   "metadata": {},
   "outputs": [
    {
     "name": "stdout",
     "output_type": "stream",
     "text": [
      "CPU times: user 22.6 s, sys: 88.8 ms, total: 22.7 s\n",
      "Wall time: 22.7 s\n"
     ]
    }
   ],
   "source": [
    "%%time\n",
    "joined_pos = []\n",
    "for sent in sents:\n",
    "    doc = nlp2(sent)\n",
    "    joined_pos.append(' '.join([token.tag_ for token in doc]))"
   ]
  },
  {
   "cell_type": "code",
   "execution_count": 7,
   "id": "3393e1e8-406e-41bb-b587-0bb510fc06d5",
   "metadata": {},
   "outputs": [
    {
     "name": "stdout",
     "output_type": "stream",
     "text": [
      "CPU times: user 5.04 s, sys: 321 ms, total: 5.36 s\n",
      "Wall time: 11.4 s\n"
     ]
    }
   ],
   "source": [
    "%%time\n",
    "docs = nlp2.pipe(sents, n_process=4, batch_size=1000)\n",
    "joined_pos = []\n",
    "for doc in docs:\n",
    "    joined_pos.append(' '.join([token.tag_ for token in doc]))"
   ]
  },
  {
   "cell_type": "code",
   "execution_count": null,
   "id": "4535c90f-72de-4f5c-8306-c6abd8162cc8",
   "metadata": {},
   "outputs": [],
   "source": []
  }
 ],
 "metadata": {
  "kernelspec": {
   "display_name": "Python 3 (ipykernel)",
   "language": "python",
   "name": "python3"
  },
  "language_info": {
   "codemirror_mode": {
    "name": "ipython",
    "version": 3
   },
   "file_extension": ".py",
   "mimetype": "text/x-python",
   "name": "python",
   "nbconvert_exporter": "python",
   "pygments_lexer": "ipython3",
   "version": "3.12.0"
  }
 },
 "nbformat": 4,
 "nbformat_minor": 5
}
