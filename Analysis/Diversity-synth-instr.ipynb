{
 "cells": [
  {
   "cell_type": "markdown",
   "id": "7f35668f-0ad9-4003-b4fd-6e65bbebd0be",
   "metadata": {},
   "source": [
    "Persona hub generates sample personas using documents from RedPajamav2 dataset: They prompt GPT4o with a document from the dataset and prompt it thus:\n",
    "\n",
    "*Who is likely to read/like/dislike the following text? Be very detailed in your description of this persona*\n",
    "\n",
    "They then use those personas to generate 'diverse' instructions. **But are the synthesized instructions actually that diverse?** Analyzing that in this notebook"
   ]
  },
  {
   "cell_type": "code",
   "execution_count": null,
   "id": "059fbace-81fd-462e-90db-f3a6f3ad261c",
   "metadata": {},
   "outputs": [],
   "source": []
  }
 ],
 "metadata": {
  "kernelspec": {
   "display_name": "Python 3 (ipykernel)",
   "language": "python",
   "name": "python3"
  },
  "language_info": {
   "codemirror_mode": {
    "name": "ipython",
    "version": 3
   },
   "file_extension": ".py",
   "mimetype": "text/x-python",
   "name": "python",
   "nbconvert_exporter": "python",
   "pygments_lexer": "ipython3",
   "version": "3.10.14"
  }
 },
 "nbformat": 4,
 "nbformat_minor": 5
}
