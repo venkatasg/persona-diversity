{
 "cells": [
  {
   "cell_type": "markdown",
   "id": "7f35668f-0ad9-4003-b4fd-6e65bbebd0be",
   "metadata": {},
   "source": [
    "Persona hub generates sample personas using documents from RedPajamav2 dataset: They prompt GPT4o with a document from the dataset and prompt it thus:\n",
    "\n",
    "*Who is likely to read/like/dislike the following text? Be very detailed in your description of this persona*\n",
    "\n",
    "They then use those personas to generate 'diverse' instructions. **But are the synthesized instructions actually that diverse?** Analyzing that in this notebook"
   ]
  },
  {
   "cell_type": "code",
   "execution_count": 31,
   "id": "059fbace-81fd-462e-90db-f3a6f3ad261c",
   "metadata": {},
   "outputs": [
    {
     "data": {
      "text/plain": [
       "RandomState(MT19937) at 0x109CB7140"
      ]
     },
     "execution_count": 31,
     "metadata": {},
     "output_type": "execute_result"
    }
   ],
   "source": [
    "import pandas as pd\n",
    "import random\n",
    "import numpy as np\n",
    "from tqdm import tqdm\n",
    "import ipdb\n",
    "import re\n",
    "from datasets import load_dataset\n",
    "from diversity import compression_ratio, homogenization_score, ngram_diversity_score, extract_patterns, get_pos, pos_patterns, token_patterns\n",
    "import json\n",
    "\n",
    "import matplotlib.pyplot as plt\n",
    "# import mplcursors\n",
    "import seaborn as sns\n",
    "%matplotlib inline\n",
    "sns.set(style='darkgrid', context='notebook', rc={'figure.figsize':(14,10)}, font_scale=2)\n",
    "\n",
    "pd.set_option('display.max_rows', 100)\n",
    "pd.set_option('display.max_columns', 100)\n",
    "pd.set_option('display.width', None)\n",
    "pd.set_option('display.max_colwidth', None)\n",
    "pd.set_option('chained_assignment',None)\n",
    "\n",
    "# Set random seeds for reproducibility on a specific machine\n",
    "random.seed(1)\n",
    "np.random.seed(1)\n",
    "np.random.RandomState(1)\n",
    "np.set_printoptions(precision=3)"
   ]
  },
  {
   "cell_type": "code",
   "execution_count": 2,
   "id": "b2a196cc-2e23-4492-aeb2-d1f63e79f672",
   "metadata": {},
   "outputs": [],
   "source": [
    "df = pd.read_json(\"hf://datasets/proj-persona/PersonaHub/knowledge.jsonl\", lines=True)"
   ]
  },
  {
   "cell_type": "code",
   "execution_count": 3,
   "id": "21ed686e-1029-4b20-885f-d12d3e8eb06f",
   "metadata": {},
   "outputs": [
    {
     "data": {
      "text/plain": [
       "(10000, 3)"
      ]
     },
     "execution_count": 3,
     "metadata": {},
     "output_type": "execute_result"
    }
   ],
   "source": [
    "df.shape"
   ]
  },
  {
   "cell_type": "code",
   "execution_count": 11,
   "id": "14d34f2b-0e07-4595-bb05-72c826f62a9c",
   "metadata": {
    "scrolled": true
   },
   "outputs": [
    {
     "data": {
      "text/html": [
       "<div>\n",
       "<style scoped>\n",
       "    .dataframe tbody tr th:only-of-type {\n",
       "        vertical-align: middle;\n",
       "    }\n",
       "\n",
       "    .dataframe tbody tr th {\n",
       "        vertical-align: top;\n",
       "    }\n",
       "\n",
       "    .dataframe thead th {\n",
       "        text-align: right;\n",
       "    }\n",
       "</style>\n",
       "<table border=\"1\" class=\"dataframe\">\n",
       "  <thead>\n",
       "    <tr style=\"text-align: right;\">\n",
       "      <th></th>\n",
       "      <th>input persona</th>\n",
       "      <th>synthesized text</th>\n",
       "      <th>description</th>\n",
       "      <th>title</th>\n",
       "    </tr>\n",
       "  </thead>\n",
       "  <tbody>\n",
       "    <tr>\n",
       "      <th>0</th>\n",
       "      <td>A high school teacher of social studies preparing lessons on the development of political parties in the United States.</td>\n",
       "      <td>Title: Unpacking the Evolution of Political Parties in the United States: A Guide for High School Students and Teachers\\n\\nAs a high school social studies teacher, I've often found that teaching the development of political parties in the United States can be a daunting task. The complex web of ideologies, factions, and historical events can be overwhelming for students to grasp. However, understanding the evolution of political parties is crucial for students to appreciate the intricacies of American politics and civic engagement. In this article, I'll provide a comprehensive guide to help teachers and students navigate the development of political parties in the United States.\\n\\n**The Founding Era: The Emergence of Factions (1780s-1820s)**\\n\\nThe United States' first political parties emerged during the Founding Era, with the Federalists and Anti-Federalists taking center stage. The Federalists, led by Alexander Hamilton, advocated for a strong central government, while the Anti-Federalists, led by Thomas Jefferson, preferred a more limited federal authority. This initial factionalism laid the groundwork for the development of modern political parties.\\n\\n**The First Party System: Federalists and Democratic-Republicans (1790s-1820s)**\\n\\nThe First Party System saw the rise of the Federalist Party and the Democratic-Republican Party. The Federalists, who dominated the early years of the republic, supported a strong central bank, tariffs, and a loose interpretation of the Constitution. In contrast, the Democratic-Republicans, who eventually became the dominant party, advocated for states' rights, limited government, and agrarian interests.\\n\\n**The Second Party System: Whigs and Democrats (1830s-1850s)**\\n\\nThe Second Party System witnessed the emergence of the Whig Party and the continued dominance of the Democratic Party. The Whigs, led by Henry Clay, supported economic development, internal improvements, and a strong federal government. The Democrats, led by Andrew Jackson, championed states' rights, limited government, and the interests of the common man.\\n\\n**The Civil War and the Rise of the Republican Party (1850s-1860s)**\\n\\nThe Kansas-Nebraska Act (1854) and the Dred Scott decision (1857) polarized the nation, leading to the formation of the Republican Party. The Republicans, who opposed the expansion of slavery, eventually became the dominant party in the North. The Democratic Party, which had previously been the dominant party, began to fracture along sectional lines.\\n\\n**The Third Party System: Republicans and Democrats (1870s-1890s)**\\n\\nThe Third Party System saw the Republicans and Democrats solidify their positions as the two major parties in the United States. The Republicans, who dominated the North, supported business interests, tariffs, and civil rights. The Democrats, who dominated the South, advocated for states' rights, limited government, and agrarian interests.\\n\\n**The Fourth Party System: The Progressive Era and the Rise of Interest Groups (1890s-1930s)**\\n\\nThe Fourth Party System witnessed the rise of progressive reform and the emergence of interest groups. The Republicans, who dominated the era, supported business regulation, social reform, and internationalism. The Democrats, who began to rebrand themselves as the party of the common man, advocated for labor rights, agricultural interests, and limited government.\\n\\n**The Fifth Party System: The New Deal and the Rise of Ideological Parties (1930s-1980s)**\\n\\nThe Fifth Party System saw the Democrats, under Franklin D. Roosevelt, implement a series of reforms known as the New Deal. The Republicans, who opposed the New Deal, began to coalesce around a more conservative ideology. This era marked the beginning of the modern ideological divide between the two parties.\\n\\n**The Sixth Party System: The Era of Polarization (1990s-Present)**\\n\\nThe Sixth Party System has been characterized by increasing polarization and ideological entrenchment. The Democrats have become more liberal, while the Republicans have become more conservative. This era has seen the rise of partisan gridlock, gerrymandering, and the erosion of civil discourse.\\n\\n**Teaching Strategies and Resources**\\n\\nTo help students grasp the development of political parties in the United States, I recommend the following strategies and resources:\\n\\n1. **Timelines**: Create a timeline with students to visualize the evolution of political parties and their key events.\\n2. **Primary Sources**: Use primary sources, such as party platforms, speeches, and newspapers, to provide students with a firsthand account of historical events.\\n3. **Debates**: Host debates or mock conventions to engage students in the ideologies and issues of each party system.\\n4. **Interactive Maps**: Utilize interactive maps to illustrate the geographic distribution of political parties and their electoral successes.\\n5. **Graphic Organizers**: Use graphic organizers to help students organize and compare the key features of each party system.\\n\\nBy following this guide, teachers and students can gain a deeper understanding of the complex and fascinating development of political parties in the United States. As we navigate the complexities of modern American politics, it is essential that we appreciate the historical context that has shaped our political landscape.</td>\n",
       "      <td>knowledge-rich text synthesis</td>\n",
       "      <td>Unpacking the Evolution of Political Parties in the United States: A Guide for High School Students and Teachers</td>\n",
       "    </tr>\n",
       "    <tr>\n",
       "      <th>1</th>\n",
       "      <td>A geologist studying sunken volcanoes and the geological history of Pacific islands.</td>\n",
       "      <td>Title: Unveiling the Secrets of Sunken Volcanoes: A Window into the Geological History of Pacific Islands\\n\\nAs a geologist specializing in sunken volcanoes and the geological history of Pacific islands, I'm thrilled to share my insights on this fascinating topic. The Pacific Ocean is home to numerous sunken volcanoes, many of which remain unexplored and shrouded in mystery. In this article, I'll delve into the world of sunken volcanoes, exploring their formation, characteristics, and the valuable information they provide about the geological history of Pacific islands.\\n\\n**What are Sunken Volcanoes?**\\n\\nSunken volcanoes, also known as seamounts, are underwater volcanoes that have formed on the ocean floor. They can be found in various parts of the world, but the Pacific Ocean is particularly renowned for its high concentration of these geological wonders. Sunken volcanoes can be hundreds or even thousands of meters tall, with some rising above the ocean surface to form islands.\\n\\n**Formation of Sunken Volcanoes**\\n\\nThe formation of sunken volcanoes is closely tied to plate tectonics and the movement of the Earth's crust. As tectonic plates move, they interact with each other, resulting in the creation of volcanic hotspots. At these hotspots, magma from the Earth's mantle rises to the surface, producing volcanic eruptions. Over time, the eruptions build up a volcanic cone, which can eventually become a sunken volcano.\\n\\n**Characteristics of Sunken Volcanoes**\\n\\nSunken volcanoes exhibit unique characteristics that distinguish them from their terrestrial counterparts. Some of the key features include:\\n\\n1. **Shape**: Sunken volcanoes often have a gently sloping shape, which is influenced by the weight of the overlying water and the rate of sedimentation.\\n2. **Size**: Sunken volcanoes can be enormous, with some exceeding 1,000 km² in area.\\n3. **Composition**: The rocks that make up sunken volcanoes are typically basaltic in composition, which is indicative of their origin from the Earth's mantle.\\n4. **Hydrothermal Activity**: Sunken volcanoes are often characterized by hydrothermal activity, which involves the interaction of seawater with hot rocks, producing mineral-rich fluids and unique ecosystems.\\n\\n**What Do Sunken Volcanoes Reveal About Pacific Island Geology?**\\n\\nSunken volcanoes provide a unique window into the geological history of Pacific islands. By studying these underwater volcanoes, scientists can gain insights into:\\n\\n1. **Island Formation**: Sunken volcanoes help us understand the processes that formed Pacific islands, including the role of volcanic activity and tectonic plate movement.\\n2. **Magma Evolution**: The rocks from sunken volcanoes offer clues about the evolution of magma chambers and the geochemical processes that shape the Earth's crust.\\n3. **Climate Change**: Sunken volcanoes can provide valuable information about past climate conditions, including changes in sea level and ocean chemistry.\\n4. **Biodiversity**: The unique ecosystems surrounding sunken volcanoes support a diverse range of marine life, which can inform our understanding of the evolution of life on Earth.\\n\\n**Conclusion**\\n\\nSunken volcanoes are fascinating geological features that offer a glimpse into the dynamic and complex processes that shape our planet. By exploring these underwater wonders, we can gain a deeper understanding of the geological history of Pacific islands and the Earth's crust as a whole. As a geologist, I'm excited to continue uncovering the secrets of sunken volcanoes and sharing my findings with the scientific community and the public alike.</td>\n",
       "      <td>knowledge-rich text synthesis</td>\n",
       "      <td>Unveiling the Secrets of Sunken Volcanoes: A Window into the Geological History of Pacific Islands</td>\n",
       "    </tr>\n",
       "    <tr>\n",
       "      <th>2</th>\n",
       "      <td>A manuscript studies scholar or paleographer with expertise in early medieval European texts and handwriting. This expert would be intrigued by the ninth-century manuscript that contains copies of Theuthild's letters.</td>\n",
       "      <td>Title: Unraveling the Secrets of the Ninth-Century Manuscript: A Paleographer's Insights into Theuthild's Letters\\n\\nAs a paleographer specializing in early medieval European texts and handwriting, I am thrilled to share my expertise on a fascinating ninth-century manuscript that contains copies of Theuthild's letters. This rare and valuable artifact offers a unique window into the literary and cultural landscape of the early Middle Ages. In this article, I will delve into the significance of this manuscript, its historical context, and the paleographic features that make it a treasure trove for scholars.\\n\\n**The Historical Context of Theuthild's Letters**\\n\\nTheuthild, a Frankish abbess, lived during the Carolingian Renaissance (8th-9th centuries), a period marked by a resurgence of interest in classical learning and a flourishing of literary and artistic production. Her letters, likely written in the late 8th or early 9th century, provide valuable insights into the intellectual and spiritual currents of the time. Theuthild's correspondence with prominent figures, including bishops and monks, offers a glimpse into the networks of scholars, clergy, and nobility that shaped the cultural and political landscape of early medieval Europe.\\n\\n**The Manuscript: A Paleographic Analysis**\\n\\nThe ninth-century manuscript containing Theuthild's letters is a remarkable example of Carolingian book production. Written in a clear and elegant script, the manuscript showcases the characteristic features of Carolingian minuscule, a style that emerged during the reign of Charlemagne. The script is notable for its:\\n\\n1. **Rounded letterforms**: The letters are written with a rounded, cursive quality, reflecting the influence of ancient Roman scripts.\\n2. **Consistent spacing**: The text is arranged in a consistent, well-spaced layout, making it easier to read and understand.\\n3. **Decorative initials**: The manuscript features ornate, zoomorphic initials, typical of Carolingian illumination, which add to the overall aesthetic appeal of the text.\\n\\n**Paleographic Clues to the Manuscript's Provenance**\\n\\nA closer examination of the manuscript reveals several paleographic clues that shed light on its origins and transmission. For instance:\\n\\n1. **Scriptorial habits**: The scribe's handwriting, particularly the way they form certain letters, suggests a connection to the scriptorium of a specific monastery or abbey.\\n2. **Correcting hands**: The presence of correcting hands, evident in the manuscript's marginalia and interlinear corrections, indicates that the text was carefully reviewed and edited over time.\\n3. **Ink and parchment quality**: The quality of the ink and parchment used in the manuscript provides insight into the resources and craftsmanship available to the scribe and their patron.\\n\\n**Conclusion**\\n\\nThe ninth-century manuscript containing Theuthild's letters is a precious artifact that offers a unique glimpse into the literary, cultural, and artistic achievements of the early Middle Ages. As a paleographer, I am struck by the manuscript's paleographic features, which provide a window into the world of Carolingian book production and the networks of scholars, clergy, and nobility that shaped early medieval Europe. This manuscript is a testament to the enduring power of written communication and the importance of preserving our cultural heritage for future generations.</td>\n",
       "      <td>knowledge-rich text synthesis</td>\n",
       "      <td>Unraveling the Secrets of the Ninth-Century Manuscript: A Paleographer's Insights into Theuthild's Letters</td>\n",
       "    </tr>\n",
       "    <tr>\n",
       "      <th>3</th>\n",
       "      <td>I'm a legal scholar specializing in attorney conduct, courtroom behavior, and the First Amendment implications of disciplinary actions against lawyers. I'm interested in analyzing the Snyder case and its impact on attorneys' freedom of speech in their communications with court personnel.</td>\n",
       "      <td>Title: The Snyder Case: A Landmark Ruling on Attorneys' Freedom of Speech in Communications with Court Personnel\\n\\nAs a legal scholar specializing in attorney conduct, courtroom behavior, and the First Amendment implications of disciplinary actions against lawyers, I am excited to delve into the significance of the Snyder case and its far-reaching impact on attorneys' freedom of speech in their communications with court personnel.\\n\\nIntroduction\\n\\nThe Snyder case, also known as Snyder v. Phelps (2011), is a landmark Supreme Court decision that has had a profound influence on the legal profession. While the case primarily revolves around the Westboro Baptist Church's controversial protests, its implications extend to the realm of attorney speech and the boundaries of permissible expression in communications with court personnel. In this article, we will explore the Snyder case, its key holdings, and the subsequent impact on attorneys' freedom of speech.\\n\\nBackground of the Snyder Case\\n\\nThe Snyder case originated from a highly publicized incident in which the Westboro Baptist Church, known for its anti-LGBTQ+ and anti-military views, picketed the funeral of Marine Lance Corporal Matthew Snyder, who died in Iraq in 2006. The church's protest, led by Fred Phelps, included signs with inflammatory messages, such as \"Thank God for Dead Soldiers\" and \"You're Going to Hell.\" The Snyder family sued Phelps and the church, alleging invasion of privacy, emotional distress, and defamation.\\n\\nThe Supreme Court's Ruling\\n\\nIn a unanimous decision, the Supreme Court held that the Westboro Baptist Church's protests were protected by the First Amendment, as they constituted speech on a matter of public concern. The Court emphasized that the protests, although offensive and hurtful, did not target a private individual or entity, but rather addressed a broader public issue. The ruling established that speech on public concerns, even if offensive or provocative, is entitled to robust protection under the First Amendment.\\n\\nImplications for Attorneys' Freedom of Speech\\n\\nWhile the Snyder case did not directly involve attorneys, its implications for the legal profession are significant. The ruling has been cited in various cases involving attorney speech, particularly in the context of communications with court personnel. Here are some key takeaways:\\n\\n1. **Protection for Criticism of Judicial Decisions**: The Snyder case reinforces the notion that attorneys have a constitutional right to criticize judicial decisions, even if their language is strong or provocative. This protection extends to written and oral communications with court personnel, including judges, clerks, and other staff members.\\n2. **Boundaries of Permissible Expression**: The ruling clarifies that attorneys' speech is not categorically exempt from First Amendment protection simply because it is directed at court personnel. However, the Court also emphasized that speech that targets individual judges or court staff, rather than addressing a broader public concern, may not receive the same level of protection.\\n3. **Disciplinary Actions and the First Amendment**: The Snyder case has implications for disciplinary actions taken against attorneys for their speech. While attorney discipline is generally subject to a more relaxed standard of review, the First Amendment still applies. Disciplinary bodies must carefully consider the content and context of an attorney's speech to ensure that it does not infringe upon their constitutional rights.\\n4. **Ethical Considerations**: The ruling serves as a reminder that attorneys must balance their right to free speech with their ethical obligations to maintain a respectful and professional demeanor in their interactions with court personnel. While attorneys are entitled to express themselves on matters of public concern, they must avoid language that is abusive, threatening, or harassing.\\n\\nConclusion\\n\\nThe Snyder case has had a profound impact on the legal profession, particularly in the realm of attorney speech and the First Amendment. By understanding the implications of this landmark ruling, attorneys can better navigate the complexities of communicating with court personnel while exercising their constitutional right to free speech. As the legal profession continues to evolve, it is essential to remain mindful of the delicate balance between protecting attorneys' freedom of expression and maintaining the integrity of the judicial process.</td>\n",
       "      <td>knowledge-rich text synthesis</td>\n",
       "      <td>The Snyder Case: A Landmark Ruling on Attorneys' Freedom of Speech in Communications with Court Personnel</td>\n",
       "    </tr>\n",
       "    <tr>\n",
       "      <th>4</th>\n",
       "      <td>A linguist specialized in the Khoekhoe language, also known as naq, with interest in endangered languages and language documentation.</td>\n",
       "      <td>Title: Preserving the Richness of Khoekhoe: Strategies for Documenting and Revitalizing an Endangered Language\\n\\nAs a linguist specializing in the Khoekhoe language, also known as Nama or Naq, I have dedicated my career to understanding and preserving this unique and valuable part of human cultural heritage. Spoken in southern Africa, Khoekhoe is one of the many endangered languages facing the threat of extinction. In this article, I will share my insights and expertise on the importance of language documentation and revitalization, with a focus on Khoekhoe, and provide strategies for preserving this rich linguistic tradition.\\n\\n**The Importance of Language Documentation**\\n\\nLanguage documentation is the process of recording and analyzing the linguistic structure, vocabulary, and cultural context of a language. In the case of Khoekhoe, documentation is crucial for several reasons:\\n\\n1. **Preservation of Cultural Heritage**: Khoekhoe is an integral part of the cultural identity of the Khoekhoe people, and its loss would result in the erosion of their cultural heritage.\\n2. **Language Revitalization**: Documentation provides a foundation for language revitalization efforts, allowing for the development of language education programs, language planning, and community engagement.\\n3. **Linguistic Diversity**: Khoekhoe is a member of the Tuu language family, which is distinct from other language families in Africa. Its documentation contributes to our understanding of linguistic diversity and the complexity of human language.\\n\\n**Challenges in Documenting Khoekhoe**\\n\\nDespite its importance, documenting Khoekhoe faces several challenges:\\n\\n1. **Limited Speaker Base**: Khoekhoe is spoken by a small number of elderly speakers, making it essential to work with them while they are still able to share their knowledge.\\n2. **Lack of Written Resources**: Khoekhoe has limited written resources, making it difficult to develop language education materials and dictionaries.\\n3. **Language Shift**: Many young Khoekhoe people are shifting to more dominant languages, such as Afrikaans or English, leading to a decline in the use of Khoekhoe in daily life.\\n\\n**Strategies for Documenting and Revitalizing Khoekhoe**\\n\\nTo address these challenges, I recommend the following strategies:\\n\\n1. **Community-Based Language Documentation**: Collaborate with Khoekhoe speakers and communities to develop language documentation projects that prioritize their needs and perspectives.\\n2. **Multimedia Documentation**: Use audio and video recordings, as well as photographs, to capture the linguistic and cultural context of Khoekhoe.\\n3. **Language Education and Literacy**: Develop language education programs and materials that promote literacy in Khoekhoe, targeting both children and adults.\\n4. **Language Planning**: Work with Khoekhoe communities to develop language plans that promote the use of Khoekhoe in official domains, such as education and government.\\n5. **Digital Language Resources**: Create digital language resources, such as online dictionaries and language learning apps, to increase access to Khoekhoe language and cultural materials.\\n\\n**Conclusion**\\n\\nThe documentation and revitalization of Khoekhoe are urgent tasks that require collaboration between linguists, community members, and policymakers. By working together, we can preserve the richness of Khoekhoe and ensure its continued relevance in the lives of its speakers. As a linguist, I am committed to contributing to this effort and hope that this article will inspire others to join me in this important work.</td>\n",
       "      <td>knowledge-rich text synthesis</td>\n",
       "      <td>Preserving the Richness of Khoekhoe: Strategies for Documenting and Revitalizing an Endangered Language</td>\n",
       "    </tr>\n",
       "  </tbody>\n",
       "</table>\n",
       "</div>"
      ],
      "text/plain": [
       "                                                                                                                                                                                                                                                                                      input persona  \\\n",
       "0                                                                                                                                                                           A high school teacher of social studies preparing lessons on the development of political parties in the United States.   \n",
       "1                                                                                                                                                                                                              A geologist studying sunken volcanoes and the geological history of Pacific islands.   \n",
       "2                                                                         A manuscript studies scholar or paleographer with expertise in early medieval European texts and handwriting. This expert would be intrigued by the ninth-century manuscript that contains copies of Theuthild's letters.   \n",
       "3  I'm a legal scholar specializing in attorney conduct, courtroom behavior, and the First Amendment implications of disciplinary actions against lawyers. I'm interested in analyzing the Snyder case and its impact on attorneys' freedom of speech in their communications with court personnel.   \n",
       "4                                                                                                                                                             A linguist specialized in the Khoekhoe language, also known as naq, with interest in endangered languages and language documentation.   \n",
       "\n",
       "                                                                                                                                                                                                                                                                                                                                                                                                                                                                                                                                                                                                                                                                                                                                                                                                                                                                                                                                                                                                                                                                                                                                                                                                                                                                                                                                                                                                                                                                                                                                                                                                                                                                                                                                                                                                                                                                                                                                                                                                                                                                                                                                                                                                                                                                                                                                                                                                                                                                                                                                                                                                                                                                                                                                                                                                                                                                                                                                                                                                                                                                                                                                                                                                                                                                                                                                                                                                                                                                                                                                                                                                                                                                                                                                                                                                                                                                                                                                                                                                                                                                                                                                                                                                                                                                                                                                                                                                                                                                                                                                                                                                                                                                                                                                                                                                                                                                                                                                                                                                                                                                                                                                                                                                                                                                                                                                                                                                                                                                                                                                                                              synthesized text  \\\n",
       "0  Title: Unpacking the Evolution of Political Parties in the United States: A Guide for High School Students and Teachers\\n\\nAs a high school social studies teacher, I've often found that teaching the development of political parties in the United States can be a daunting task. The complex web of ideologies, factions, and historical events can be overwhelming for students to grasp. However, understanding the evolution of political parties is crucial for students to appreciate the intricacies of American politics and civic engagement. In this article, I'll provide a comprehensive guide to help teachers and students navigate the development of political parties in the United States.\\n\\n**The Founding Era: The Emergence of Factions (1780s-1820s)**\\n\\nThe United States' first political parties emerged during the Founding Era, with the Federalists and Anti-Federalists taking center stage. The Federalists, led by Alexander Hamilton, advocated for a strong central government, while the Anti-Federalists, led by Thomas Jefferson, preferred a more limited federal authority. This initial factionalism laid the groundwork for the development of modern political parties.\\n\\n**The First Party System: Federalists and Democratic-Republicans (1790s-1820s)**\\n\\nThe First Party System saw the rise of the Federalist Party and the Democratic-Republican Party. The Federalists, who dominated the early years of the republic, supported a strong central bank, tariffs, and a loose interpretation of the Constitution. In contrast, the Democratic-Republicans, who eventually became the dominant party, advocated for states' rights, limited government, and agrarian interests.\\n\\n**The Second Party System: Whigs and Democrats (1830s-1850s)**\\n\\nThe Second Party System witnessed the emergence of the Whig Party and the continued dominance of the Democratic Party. The Whigs, led by Henry Clay, supported economic development, internal improvements, and a strong federal government. The Democrats, led by Andrew Jackson, championed states' rights, limited government, and the interests of the common man.\\n\\n**The Civil War and the Rise of the Republican Party (1850s-1860s)**\\n\\nThe Kansas-Nebraska Act (1854) and the Dred Scott decision (1857) polarized the nation, leading to the formation of the Republican Party. The Republicans, who opposed the expansion of slavery, eventually became the dominant party in the North. The Democratic Party, which had previously been the dominant party, began to fracture along sectional lines.\\n\\n**The Third Party System: Republicans and Democrats (1870s-1890s)**\\n\\nThe Third Party System saw the Republicans and Democrats solidify their positions as the two major parties in the United States. The Republicans, who dominated the North, supported business interests, tariffs, and civil rights. The Democrats, who dominated the South, advocated for states' rights, limited government, and agrarian interests.\\n\\n**The Fourth Party System: The Progressive Era and the Rise of Interest Groups (1890s-1930s)**\\n\\nThe Fourth Party System witnessed the rise of progressive reform and the emergence of interest groups. The Republicans, who dominated the era, supported business regulation, social reform, and internationalism. The Democrats, who began to rebrand themselves as the party of the common man, advocated for labor rights, agricultural interests, and limited government.\\n\\n**The Fifth Party System: The New Deal and the Rise of Ideological Parties (1930s-1980s)**\\n\\nThe Fifth Party System saw the Democrats, under Franklin D. Roosevelt, implement a series of reforms known as the New Deal. The Republicans, who opposed the New Deal, began to coalesce around a more conservative ideology. This era marked the beginning of the modern ideological divide between the two parties.\\n\\n**The Sixth Party System: The Era of Polarization (1990s-Present)**\\n\\nThe Sixth Party System has been characterized by increasing polarization and ideological entrenchment. The Democrats have become more liberal, while the Republicans have become more conservative. This era has seen the rise of partisan gridlock, gerrymandering, and the erosion of civil discourse.\\n\\n**Teaching Strategies and Resources**\\n\\nTo help students grasp the development of political parties in the United States, I recommend the following strategies and resources:\\n\\n1. **Timelines**: Create a timeline with students to visualize the evolution of political parties and their key events.\\n2. **Primary Sources**: Use primary sources, such as party platforms, speeches, and newspapers, to provide students with a firsthand account of historical events.\\n3. **Debates**: Host debates or mock conventions to engage students in the ideologies and issues of each party system.\\n4. **Interactive Maps**: Utilize interactive maps to illustrate the geographic distribution of political parties and their electoral successes.\\n5. **Graphic Organizers**: Use graphic organizers to help students organize and compare the key features of each party system.\\n\\nBy following this guide, teachers and students can gain a deeper understanding of the complex and fascinating development of political parties in the United States. As we navigate the complexities of modern American politics, it is essential that we appreciate the historical context that has shaped our political landscape.   \n",
       "1                                                                                                                                                                                                                                                                                                                                                                                                                                                                                                                                                                                                                                                                                                                                                                                                                                                                                                                                                                                                                                                                                                                                                                                                                                                                                                                                                                                                                                                                                                                                                                                                                                                                                                                                                                                                          Title: Unveiling the Secrets of Sunken Volcanoes: A Window into the Geological History of Pacific Islands\\n\\nAs a geologist specializing in sunken volcanoes and the geological history of Pacific islands, I'm thrilled to share my insights on this fascinating topic. The Pacific Ocean is home to numerous sunken volcanoes, many of which remain unexplored and shrouded in mystery. In this article, I'll delve into the world of sunken volcanoes, exploring their formation, characteristics, and the valuable information they provide about the geological history of Pacific islands.\\n\\n**What are Sunken Volcanoes?**\\n\\nSunken volcanoes, also known as seamounts, are underwater volcanoes that have formed on the ocean floor. They can be found in various parts of the world, but the Pacific Ocean is particularly renowned for its high concentration of these geological wonders. Sunken volcanoes can be hundreds or even thousands of meters tall, with some rising above the ocean surface to form islands.\\n\\n**Formation of Sunken Volcanoes**\\n\\nThe formation of sunken volcanoes is closely tied to plate tectonics and the movement of the Earth's crust. As tectonic plates move, they interact with each other, resulting in the creation of volcanic hotspots. At these hotspots, magma from the Earth's mantle rises to the surface, producing volcanic eruptions. Over time, the eruptions build up a volcanic cone, which can eventually become a sunken volcano.\\n\\n**Characteristics of Sunken Volcanoes**\\n\\nSunken volcanoes exhibit unique characteristics that distinguish them from their terrestrial counterparts. Some of the key features include:\\n\\n1. **Shape**: Sunken volcanoes often have a gently sloping shape, which is influenced by the weight of the overlying water and the rate of sedimentation.\\n2. **Size**: Sunken volcanoes can be enormous, with some exceeding 1,000 km² in area.\\n3. **Composition**: The rocks that make up sunken volcanoes are typically basaltic in composition, which is indicative of their origin from the Earth's mantle.\\n4. **Hydrothermal Activity**: Sunken volcanoes are often characterized by hydrothermal activity, which involves the interaction of seawater with hot rocks, producing mineral-rich fluids and unique ecosystems.\\n\\n**What Do Sunken Volcanoes Reveal About Pacific Island Geology?**\\n\\nSunken volcanoes provide a unique window into the geological history of Pacific islands. By studying these underwater volcanoes, scientists can gain insights into:\\n\\n1. **Island Formation**: Sunken volcanoes help us understand the processes that formed Pacific islands, including the role of volcanic activity and tectonic plate movement.\\n2. **Magma Evolution**: The rocks from sunken volcanoes offer clues about the evolution of magma chambers and the geochemical processes that shape the Earth's crust.\\n3. **Climate Change**: Sunken volcanoes can provide valuable information about past climate conditions, including changes in sea level and ocean chemistry.\\n4. **Biodiversity**: The unique ecosystems surrounding sunken volcanoes support a diverse range of marine life, which can inform our understanding of the evolution of life on Earth.\\n\\n**Conclusion**\\n\\nSunken volcanoes are fascinating geological features that offer a glimpse into the dynamic and complex processes that shape our planet. By exploring these underwater wonders, we can gain a deeper understanding of the geological history of Pacific islands and the Earth's crust as a whole. As a geologist, I'm excited to continue uncovering the secrets of sunken volcanoes and sharing my findings with the scientific community and the public alike.   \n",
       "2                                                                                                                                                                                                                                                                                                                                                                                                                                                                                                                                                                                                                                                                                                                                                                                                                                                                                                                                                                                                                                                                                                                                                                                                                                                                                                                                                                                                                                                                                                                                                                                                                                                                                                                                                                                                                                                                                                                                                                                                                         Title: Unraveling the Secrets of the Ninth-Century Manuscript: A Paleographer's Insights into Theuthild's Letters\\n\\nAs a paleographer specializing in early medieval European texts and handwriting, I am thrilled to share my expertise on a fascinating ninth-century manuscript that contains copies of Theuthild's letters. This rare and valuable artifact offers a unique window into the literary and cultural landscape of the early Middle Ages. In this article, I will delve into the significance of this manuscript, its historical context, and the paleographic features that make it a treasure trove for scholars.\\n\\n**The Historical Context of Theuthild's Letters**\\n\\nTheuthild, a Frankish abbess, lived during the Carolingian Renaissance (8th-9th centuries), a period marked by a resurgence of interest in classical learning and a flourishing of literary and artistic production. Her letters, likely written in the late 8th or early 9th century, provide valuable insights into the intellectual and spiritual currents of the time. Theuthild's correspondence with prominent figures, including bishops and monks, offers a glimpse into the networks of scholars, clergy, and nobility that shaped the cultural and political landscape of early medieval Europe.\\n\\n**The Manuscript: A Paleographic Analysis**\\n\\nThe ninth-century manuscript containing Theuthild's letters is a remarkable example of Carolingian book production. Written in a clear and elegant script, the manuscript showcases the characteristic features of Carolingian minuscule, a style that emerged during the reign of Charlemagne. The script is notable for its:\\n\\n1. **Rounded letterforms**: The letters are written with a rounded, cursive quality, reflecting the influence of ancient Roman scripts.\\n2. **Consistent spacing**: The text is arranged in a consistent, well-spaced layout, making it easier to read and understand.\\n3. **Decorative initials**: The manuscript features ornate, zoomorphic initials, typical of Carolingian illumination, which add to the overall aesthetic appeal of the text.\\n\\n**Paleographic Clues to the Manuscript's Provenance**\\n\\nA closer examination of the manuscript reveals several paleographic clues that shed light on its origins and transmission. For instance:\\n\\n1. **Scriptorial habits**: The scribe's handwriting, particularly the way they form certain letters, suggests a connection to the scriptorium of a specific monastery or abbey.\\n2. **Correcting hands**: The presence of correcting hands, evident in the manuscript's marginalia and interlinear corrections, indicates that the text was carefully reviewed and edited over time.\\n3. **Ink and parchment quality**: The quality of the ink and parchment used in the manuscript provides insight into the resources and craftsmanship available to the scribe and their patron.\\n\\n**Conclusion**\\n\\nThe ninth-century manuscript containing Theuthild's letters is a precious artifact that offers a unique glimpse into the literary, cultural, and artistic achievements of the early Middle Ages. As a paleographer, I am struck by the manuscript's paleographic features, which provide a window into the world of Carolingian book production and the networks of scholars, clergy, and nobility that shaped early medieval Europe. This manuscript is a testament to the enduring power of written communication and the importance of preserving our cultural heritage for future generations.   \n",
       "3                                                                                                                                                                                                                                                                                                                                                                                                                                                                                                                                                                                                                                                                                                                                                                                                                                                                                       Title: The Snyder Case: A Landmark Ruling on Attorneys' Freedom of Speech in Communications with Court Personnel\\n\\nAs a legal scholar specializing in attorney conduct, courtroom behavior, and the First Amendment implications of disciplinary actions against lawyers, I am excited to delve into the significance of the Snyder case and its far-reaching impact on attorneys' freedom of speech in their communications with court personnel.\\n\\nIntroduction\\n\\nThe Snyder case, also known as Snyder v. Phelps (2011), is a landmark Supreme Court decision that has had a profound influence on the legal profession. While the case primarily revolves around the Westboro Baptist Church's controversial protests, its implications extend to the realm of attorney speech and the boundaries of permissible expression in communications with court personnel. In this article, we will explore the Snyder case, its key holdings, and the subsequent impact on attorneys' freedom of speech.\\n\\nBackground of the Snyder Case\\n\\nThe Snyder case originated from a highly publicized incident in which the Westboro Baptist Church, known for its anti-LGBTQ+ and anti-military views, picketed the funeral of Marine Lance Corporal Matthew Snyder, who died in Iraq in 2006. The church's protest, led by Fred Phelps, included signs with inflammatory messages, such as \"Thank God for Dead Soldiers\" and \"You're Going to Hell.\" The Snyder family sued Phelps and the church, alleging invasion of privacy, emotional distress, and defamation.\\n\\nThe Supreme Court's Ruling\\n\\nIn a unanimous decision, the Supreme Court held that the Westboro Baptist Church's protests were protected by the First Amendment, as they constituted speech on a matter of public concern. The Court emphasized that the protests, although offensive and hurtful, did not target a private individual or entity, but rather addressed a broader public issue. The ruling established that speech on public concerns, even if offensive or provocative, is entitled to robust protection under the First Amendment.\\n\\nImplications for Attorneys' Freedom of Speech\\n\\nWhile the Snyder case did not directly involve attorneys, its implications for the legal profession are significant. The ruling has been cited in various cases involving attorney speech, particularly in the context of communications with court personnel. Here are some key takeaways:\\n\\n1. **Protection for Criticism of Judicial Decisions**: The Snyder case reinforces the notion that attorneys have a constitutional right to criticize judicial decisions, even if their language is strong or provocative. This protection extends to written and oral communications with court personnel, including judges, clerks, and other staff members.\\n2. **Boundaries of Permissible Expression**: The ruling clarifies that attorneys' speech is not categorically exempt from First Amendment protection simply because it is directed at court personnel. However, the Court also emphasized that speech that targets individual judges or court staff, rather than addressing a broader public concern, may not receive the same level of protection.\\n3. **Disciplinary Actions and the First Amendment**: The Snyder case has implications for disciplinary actions taken against attorneys for their speech. While attorney discipline is generally subject to a more relaxed standard of review, the First Amendment still applies. Disciplinary bodies must carefully consider the content and context of an attorney's speech to ensure that it does not infringe upon their constitutional rights.\\n4. **Ethical Considerations**: The ruling serves as a reminder that attorneys must balance their right to free speech with their ethical obligations to maintain a respectful and professional demeanor in their interactions with court personnel. While attorneys are entitled to express themselves on matters of public concern, they must avoid language that is abusive, threatening, or harassing.\\n\\nConclusion\\n\\nThe Snyder case has had a profound impact on the legal profession, particularly in the realm of attorney speech and the First Amendment. By understanding the implications of this landmark ruling, attorneys can better navigate the complexities of communicating with court personnel while exercising their constitutional right to free speech. As the legal profession continues to evolve, it is essential to remain mindful of the delicate balance between protecting attorneys' freedom of expression and maintaining the integrity of the judicial process.   \n",
       "4                                                                                                                                                                                                                                                                                                                                                                                                                                                                                                                                                                                                                                                                                                                                                                                                                                                                                                                                                                                                                                                                                                                                                                                                                                                                                                                                                                                                                                                                                                                                                                                                                                                                                                                                                                                                                              Title: Preserving the Richness of Khoekhoe: Strategies for Documenting and Revitalizing an Endangered Language\\n\\nAs a linguist specializing in the Khoekhoe language, also known as Nama or Naq, I have dedicated my career to understanding and preserving this unique and valuable part of human cultural heritage. Spoken in southern Africa, Khoekhoe is one of the many endangered languages facing the threat of extinction. In this article, I will share my insights and expertise on the importance of language documentation and revitalization, with a focus on Khoekhoe, and provide strategies for preserving this rich linguistic tradition.\\n\\n**The Importance of Language Documentation**\\n\\nLanguage documentation is the process of recording and analyzing the linguistic structure, vocabulary, and cultural context of a language. In the case of Khoekhoe, documentation is crucial for several reasons:\\n\\n1. **Preservation of Cultural Heritage**: Khoekhoe is an integral part of the cultural identity of the Khoekhoe people, and its loss would result in the erosion of their cultural heritage.\\n2. **Language Revitalization**: Documentation provides a foundation for language revitalization efforts, allowing for the development of language education programs, language planning, and community engagement.\\n3. **Linguistic Diversity**: Khoekhoe is a member of the Tuu language family, which is distinct from other language families in Africa. Its documentation contributes to our understanding of linguistic diversity and the complexity of human language.\\n\\n**Challenges in Documenting Khoekhoe**\\n\\nDespite its importance, documenting Khoekhoe faces several challenges:\\n\\n1. **Limited Speaker Base**: Khoekhoe is spoken by a small number of elderly speakers, making it essential to work with them while they are still able to share their knowledge.\\n2. **Lack of Written Resources**: Khoekhoe has limited written resources, making it difficult to develop language education materials and dictionaries.\\n3. **Language Shift**: Many young Khoekhoe people are shifting to more dominant languages, such as Afrikaans or English, leading to a decline in the use of Khoekhoe in daily life.\\n\\n**Strategies for Documenting and Revitalizing Khoekhoe**\\n\\nTo address these challenges, I recommend the following strategies:\\n\\n1. **Community-Based Language Documentation**: Collaborate with Khoekhoe speakers and communities to develop language documentation projects that prioritize their needs and perspectives.\\n2. **Multimedia Documentation**: Use audio and video recordings, as well as photographs, to capture the linguistic and cultural context of Khoekhoe.\\n3. **Language Education and Literacy**: Develop language education programs and materials that promote literacy in Khoekhoe, targeting both children and adults.\\n4. **Language Planning**: Work with Khoekhoe communities to develop language plans that promote the use of Khoekhoe in official domains, such as education and government.\\n5. **Digital Language Resources**: Create digital language resources, such as online dictionaries and language learning apps, to increase access to Khoekhoe language and cultural materials.\\n\\n**Conclusion**\\n\\nThe documentation and revitalization of Khoekhoe are urgent tasks that require collaboration between linguists, community members, and policymakers. By working together, we can preserve the richness of Khoekhoe and ensure its continued relevance in the lives of its speakers. As a linguist, I am committed to contributing to this effort and hope that this article will inspire others to join me in this important work.   \n",
       "\n",
       "                     description  \\\n",
       "0  knowledge-rich text synthesis   \n",
       "1  knowledge-rich text synthesis   \n",
       "2  knowledge-rich text synthesis   \n",
       "3  knowledge-rich text synthesis   \n",
       "4  knowledge-rich text synthesis   \n",
       "\n",
       "                                                                                                              title  \n",
       "0  Unpacking the Evolution of Political Parties in the United States: A Guide for High School Students and Teachers  \n",
       "1                Unveiling the Secrets of Sunken Volcanoes: A Window into the Geological History of Pacific Islands  \n",
       "2        Unraveling the Secrets of the Ninth-Century Manuscript: A Paleographer's Insights into Theuthild's Letters  \n",
       "3         The Snyder Case: A Landmark Ruling on Attorneys' Freedom of Speech in Communications with Court Personnel  \n",
       "4           Preserving the Richness of Khoekhoe: Strategies for Documenting and Revitalizing an Endangered Language  "
      ]
     },
     "execution_count": 11,
     "metadata": {},
     "output_type": "execute_result"
    }
   ],
   "source": [
    "df['title'] = df['synthesized text'].apply(lambda x: x.split('\\n\\n')[0][7:])\n",
    "df.head()"
   ]
  },
  {
   "cell_type": "markdown",
   "id": "2216f822-1c2b-4daa-b64e-dd1d6abaac81",
   "metadata": {},
   "source": [
    "# How diverse are the titles?"
   ]
  },
  {
   "cell_type": "code",
   "execution_count": 18,
   "id": "25819e14-8e71-4af8-9fab-cc117ce98611",
   "metadata": {},
   "outputs": [
    {
     "name": "stdout",
     "output_type": "stream",
     "text": [
      "3.238 2.204\n"
     ]
    }
   ],
   "source": [
    "titles = df['title'].values.tolist()\n",
    "cr = compression_ratio(titles, 'gzip')\n",
    "# hs = homogenization_score(titles, 'rougel')\n",
    "# hs = homogenization_score(titles, 'bertscore') \n",
    "nds = ngram_diversity_score(titles, 4)\n",
    "\n",
    "print(cr, nds)"
   ]
  },
  {
   "cell_type": "markdown",
   "id": "66cae219-9292-4169-aed4-9ca645f8c7c6",
   "metadata": {},
   "source": [
    "Let's compare it to something standard as data - CNN/DailySum maybe?\n",
    "\n",
    "The essays from Visakh/He He's paper showing that GPT-2 text is homogenous might have been a good start, but its too narrow and not big enough."
   ]
  },
  {
   "cell_type": "code",
   "execution_count": 20,
   "id": "994ac229-cc81-4ac6-981e-d22e7e1ec0ce",
   "metadata": {},
   "outputs": [],
   "source": [
    "events = []\n",
    "with open('../data/essays_solo.jsonl', 'r') as f:\n",
    "    for event in f:\n",
    "        events.append(json.loads(event))"
   ]
  },
  {
   "cell_type": "code",
   "execution_count": 23,
   "id": "25fd322b-1412-40a0-9fd5-d846d2f98833",
   "metadata": {},
   "outputs": [
    {
     "name": "stdout",
     "output_type": "stream",
     "text": [
      "11.49 0.437\n"
     ]
    }
   ],
   "source": [
    "essay_titles = [x['title'] for x in events]\n",
    "cr = compression_ratio(essay_titles, 'gzip')\n",
    "# hs = homogenization_score(titles, 'rougel')\n",
    "# hs = homogenization_score(titles, 'bertscore') \n",
    "nds = ngram_diversity_score(essay_titles, 4)\n",
    "\n",
    "print(cr, nds)"
   ]
  },
  {
   "cell_type": "markdown",
   "id": "b2aae9df-b28d-46d3-ab33-a4a950b49954",
   "metadata": {},
   "source": [
    "# How diverse are the generated knowledge base articles?"
   ]
  },
  {
   "cell_type": "code",
   "execution_count": 25,
   "id": "9493d8e4-0822-419c-918b-d5ae636d56c7",
   "metadata": {},
   "outputs": [],
   "source": [
    "def clean_up(text):\n",
    "\n",
    "    # remove title first\n",
    "    text = \" \".join(text.split('\\n\\n')[1:])\n",
    "\n",
    "    return text\n",
    "\n",
    "df['content'] = df['synthesized text'].apply(lambda x: clean_up(x))"
   ]
  },
  {
   "cell_type": "code",
   "execution_count": 28,
   "id": "0fcfe070-da80-4ff3-88e0-557babe099f8",
   "metadata": {},
   "outputs": [
    {
     "name": "stdout",
     "output_type": "stream",
     "text": [
      "3.06 1.72\n"
     ]
    }
   ],
   "source": [
    "contents = df['content'].values.tolist()\n",
    "cr = compression_ratio(contents, 'gzip')\n",
    "# hs = homogenization_score(data_example, 'rougel')\n",
    "# hs = homogenization_score(data_example, 'bertscore') \n",
    "nds = ngram_diversity_score(contents, 4)\n",
    "\n",
    "print(cr, nds)"
   ]
  },
  {
   "cell_type": "code",
   "execution_count": 30,
   "id": "11a9b114-eb53-4d36-b45f-0b56ec7256f9",
   "metadata": {},
   "outputs": [
    {
     "name": "stdout",
     "output_type": "stream",
     "text": [
      "2.901 2.738\n"
     ]
    }
   ],
   "source": [
    "essay_bodies = [x['essay'] for x in events]\n",
    "cr = compression_ratio(essay_bodies, 'gzip')\n",
    "# hs = homogenization_score(data_example, 'rougel')\n",
    "# hs = homogenization_score(data_example, 'bertscore') \n",
    "nds = ngram_diversity_score(essay_bodies, 4)\n",
    "\n",
    "print(cr, nds)"
   ]
  },
  {
   "cell_type": "markdown",
   "id": "b76930cd-42f6-403f-b2a8-5cfdfcd42fa3",
   "metadata": {},
   "source": [
    "Even compared to the human written essays, the contents are more easily compresssed and have a higher n-gram diversity score. \n",
    "\n",
    "**What about POS CR?**"
   ]
  },
  {
   "cell_type": "code",
   "execution_count": 32,
   "id": "2fd0eaf0-30df-4539-8cf1-7fcb7aaa5c5b",
   "metadata": {},
   "outputs": [],
   "source": [
    "synt_patterns = token_patterns(contents, 5)"
   ]
  },
  {
   "cell_type": "code",
   "execution_count": 34,
   "id": "d6559f91-3a5f-4769-ba43-971428e5db0e",
   "metadata": {},
   "outputs": [
    {
     "data": {
      "text/plain": [
       "[(\"In this article, I'll share\", 3221),\n",
       " (\"I've had the privilege of\", 2548),\n",
       " (\"this article, I'll share my\", 2483),\n",
       " (\"this article, I'll delve into\", 1510),\n",
       " (\"In this article, I'll delve\", 1499),\n",
       " ('In this article, I will', 1485),\n",
       " (\"article, I'll delve into the\", 1404),\n",
       " (\"article, I'll share my insights\", 1254),\n",
       " ('I hope this article has', 1234),\n",
       " ('a deeper understanding of the', 1209)]"
      ]
     },
     "execution_count": 34,
     "metadata": {},
     "output_type": "execute_result"
    }
   ],
   "source": [
    "synt_patterns"
   ]
  },
  {
   "cell_type": "code",
   "execution_count": 35,
   "id": "aec3bb2a-1f25-441a-8b35-1d25fc08c77b",
   "metadata": {},
   "outputs": [],
   "source": [
    "# get the POS patterns \n",
    "joined_pos, tuples = get_pos(contents)\n",
    "ngrams_pos = token_patterns(joined_pos, 5, 10)"
   ]
  },
  {
   "cell_type": "code",
   "execution_count": 38,
   "id": "f1a94002-6000-4165-905a-06a025c85c14",
   "metadata": {},
   "outputs": [
    {
     "data": {
      "text/plain": [
       "[('. LS LS NFP NFP', 38990),\n",
       " ('NN . LS LS NFP', 18479),\n",
       " ('LS LS NFP NFP NNP', 15855),\n",
       " ('NNS . LS LS NFP', 15820),\n",
       " ('NN , NN , CC', 15106),\n",
       " ('NNS , NNS , CC', 13133),\n",
       " ('NN , PRP MD VB', 12115),\n",
       " ('DT JJ NN IN DT', 12035),\n",
       " ('LS LS NFP NFP NN', 11149),\n",
       " ('IN DT NN , PRP', 10743)]"
      ]
     },
     "execution_count": 38,
     "metadata": {},
     "output_type": "execute_result"
    }
   ],
   "source": [
    "ngrams_pos"
   ]
  },
  {
   "cell_type": "code",
   "execution_count": 39,
   "id": "d2944795-e7e7-48dd-9324-a41c7dff4bd6",
   "metadata": {},
   "outputs": [
    {
     "name": "stdout",
     "output_type": "stream",
     "text": [
      "6.089 0.02\n"
     ]
    }
   ],
   "source": [
    "cr = compression_ratio(joined_pos, 'gzip')\n",
    "# hs = homogenization_score(data_example, 'rougel')\n",
    "# hs = homogenization_score(data_example, 'bertscore') \n",
    "nds = ngram_diversity_score(joined_pos, 4)\n",
    "\n",
    "print(cr, nds)"
   ]
  },
  {
   "cell_type": "code",
   "execution_count": 41,
   "id": "4d98a6de-7e5d-41c1-9a31-640db7e1148a",
   "metadata": {},
   "outputs": [],
   "source": [
    "# Now for essays\n",
    "\n",
    "# get the POS patterns \n",
    "joined_pos, tuples = get_pos(essay_bodies)\n",
    "ngrams_pos = token_patterns(joined_pos, 5, 10)"
   ]
  },
  {
   "cell_type": "code",
   "execution_count": 42,
   "id": "dcaa69b2-65ef-4682-a21a-65c35d35579d",
   "metadata": {},
   "outputs": [
    {
     "name": "stdout",
     "output_type": "stream",
     "text": [
      "5.072 0.518\n"
     ]
    }
   ],
   "source": [
    "cr = compression_ratio(joined_pos, 'gzip')\n",
    "# hs = homogenization_score(data_example, 'rougel')\n",
    "# hs = homogenization_score(data_example, 'bertscore') \n",
    "nds = ngram_diversity_score(joined_pos, 4)\n",
    "\n",
    "print(cr, nds)"
   ]
  },
  {
   "cell_type": "markdown",
   "id": "d36d433a-1ab5-4cbd-9265-71ea6efaed46",
   "metadata": {},
   "source": [
    "| Source | NDS (Lexical) | CR-Lexical | CR-POS |\n",
    "| --- | --- | --- | --- |\n",
    "| Human solo essays | 2.74 | 3.06 | 5.07 | \n",
    "| Personahub-essays | 1.72 | 2.90 | 6.09 | "
   ]
  },
  {
   "cell_type": "code",
   "execution_count": null,
   "id": "b21e7c4e-ec4e-411c-b82a-b0d6412e02ee",
   "metadata": {},
   "outputs": [],
   "source": []
  }
 ],
 "metadata": {
  "kernelspec": {
   "display_name": "Python 3 (ipykernel)",
   "language": "python",
   "name": "python3"
  },
  "language_info": {
   "codemirror_mode": {
    "name": "ipython",
    "version": 3
   },
   "file_extension": ".py",
   "mimetype": "text/x-python",
   "name": "python",
   "nbconvert_exporter": "python",
   "pygments_lexer": "ipython3",
   "version": "3.10.14"
  }
 },
 "nbformat": 4,
 "nbformat_minor": 5
}
