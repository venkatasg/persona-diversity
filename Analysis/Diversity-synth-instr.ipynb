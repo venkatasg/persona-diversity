{
 "cells": [
  {
   "cell_type": "markdown",
   "id": "7f35668f-0ad9-4003-b4fd-6e65bbebd0be",
   "metadata": {},
   "source": [
    "Persona hub generates sample personas using documents from RedPajamav2 dataset: They prompt GPT4o with a document from the dataset and prompt it thus:\n",
    "\n",
    "*Who is likely to read/like/dislike the following text? Be very detailed in your description of this persona*\n",
    "\n",
    "They then use those personas to generate 'diverse' instructions. **But are the synthesized instructions actually that diverse?** Analyzing that in this notebook"
   ]
  },
  {
   "cell_type": "code",
   "execution_count": 1,
   "id": "059fbace-81fd-462e-90db-f3a6f3ad261c",
   "metadata": {},
   "outputs": [],
   "source": [
    "import pandas as pd\n",
    "import random\n",
    "import numpy as np\n",
    "from tqdm import tqdm\n",
    "import ipdb\n",
    "import re\n",
    "from datasets import load_dataset\n",
    "import json\n",
    "\n",
    "import matplotlib.pyplot as plt\n",
    "# import mplcursors\n",
    "import seaborn as sns\n",
    "%matplotlib inline\n",
    "sns.set(style='darkgrid', context='notebook', rc={'figure.figsize':(14,10)}, font_scale=2)\n",
    "\n",
    "pd.set_option('display.max_rows', 100)\n",
    "pd.set_option('display.max_columns', 100)\n",
    "pd.set_option('display.width', None)\n",
    "pd.set_option('display.max_colwidth', None)\n",
    "pd.set_option('chained_assignment',None)\n",
    "\n",
    "# Set random seeds for reproducibility on a specific machine\n",
    "random.seed(1)\n",
    "np.random.seed(1)\n",
    "np.random.RandomState(1)\n",
    "np.set_printoptions(precision=3)"
   ]
  },
  {
   "cell_type": "markdown",
   "id": "97029a3b-644c-4118-bba4-60a041a9e579",
   "metadata": {},
   "source": [
    "## Persona hub synthesized instructions versus Dolly"
   ]
  },
  {
   "cell_type": "code",
   "execution_count": 2,
   "id": "27b77e14-40cd-4501-bf06-5793d1628b4d",
   "metadata": {},
   "outputs": [],
   "source": [
    "from datasets import load_dataset\n",
    "import numpy as np"
   ]
  },
  {
   "cell_type": "code",
   "execution_count": 6,
   "id": "12c450e6-8d73-4df1-bcf8-1ff073516a79",
   "metadata": {},
   "outputs": [],
   "source": [
    "personahub = load_dataset(\"proj-persona/PersonaHub\", \"instruction\")['train'].to_pandas()"
   ]
  },
  {
   "cell_type": "code",
   "execution_count": 6,
   "id": "1a0184b0-f9ab-4cfb-b28c-472b5e90c631",
   "metadata": {},
   "outputs": [],
   "source": [
    "from diversity import compression_ratio, homogenization_score, ngram_diversity_score, extract_patterns, get_pos, pos_patterns, token_patterns, self_repetition_score\n",
    "\n",
    "def diversity_metrics(sents):\n",
    "    cr = compression_ratio(sents, 'gzip')\n",
    "    print(f\"CR: {np.round(cr,2)}\")\n",
    "\n",
    "    joined_pos, _ = get_pos(sents)\n",
    "    cr_pos = compression_ratio(joined_pos, 'gzip')\n",
    "    print(f\"CR-POS: {np.round(cr_pos,2)}\")\n",
    "    \n",
    "    nds = ngram_diversity_score(sents, 4)\n",
    "    print(f\"NDS: {np.round(nds,2)}\")\n",
    "    \n",
    "    srep = self_repetition_score(sents, verbose=True)\n",
    "    print(f\"Self-rep:{np.round(srep,2)}\")"
   ]
  },
  {
   "cell_type": "code",
   "execution_count": 8,
   "id": "6d96adab-f8a3-4d6b-a64a-b96b1e93311e",
   "metadata": {},
   "outputs": [],
   "source": [
    "dolly = load_dataset(\"databricks/databricks-dolly-15k\")[\"train\"].to_pandas()\n",
    "# dolly = dolly[dolly.category.isin(['brainstorming', 'open_qa', 'creative_writing'])]\n",
    "# data = dolly.instruction.sample(500, random_state=1).values.tolist()"
   ]
  },
  {
   "cell_type": "code",
   "execution_count": 9,
   "id": "437bb163-fcf6-4717-8b4e-7d35988a6046",
   "metadata": {},
   "outputs": [
    {
     "data": {
      "text/plain": [
       "(15011, 4)"
      ]
     },
     "execution_count": 9,
     "metadata": {},
     "output_type": "execute_result"
    }
   ],
   "source": [
    "dolly.shape"
   ]
  },
  {
   "cell_type": "code",
   "execution_count": 10,
   "id": "43c929e7-777a-4095-907a-9de781a9e1a7",
   "metadata": {},
   "outputs": [
    {
     "data": {
      "text/plain": [
       "(50000, 3)"
      ]
     },
     "execution_count": 10,
     "metadata": {},
     "output_type": "execute_result"
    }
   ],
   "source": [
    "personahub.shape"
   ]
  },
  {
   "cell_type": "code",
   "execution_count": 9,
   "id": "525e9d51-3f69-4ebf-aac5-d48d0430d81d",
   "metadata": {},
   "outputs": [
    {
     "name": "stdout",
     "output_type": "stream",
     "text": [
      "CR: 2.58\n",
      "CR-POS: 5.82\n",
      "NDS: 2.33\n"
     ]
    },
    {
     "name": "stderr",
     "output_type": "stream",
     "text": [
      "Calculating self-repetition score: 100%|██████████████████████████████████████████████████| 15011/15011 [00:00<00:00, 751455.48it/s]"
     ]
    },
    {
     "name": "stdout",
     "output_type": "stream",
     "text": [
      "Self-rep:1.95\n"
     ]
    },
    {
     "name": "stderr",
     "output_type": "stream",
     "text": [
      "\n"
     ]
    }
   ],
   "source": [
    "diversity_metrics(dolly.instruction.values.tolist())"
   ]
  },
  {
   "cell_type": "code",
   "execution_count": 13,
   "id": "dc5045b7-bfc7-4421-8e51-be6fa4e4a21f",
   "metadata": {},
   "outputs": [
    {
     "name": "stdout",
     "output_type": "stream",
     "text": [
      "CR: 2.84\n",
      "CR-POS: 6.2\n",
      "NDS: 2.0\n"
     ]
    },
    {
     "name": "stderr",
     "output_type": "stream",
     "text": [
      "Calculating self-repetition score: 100%|██████████████████████████████████████████████████| 15000/15000 [00:00<00:00, 124771.31it/s]"
     ]
    },
    {
     "name": "stdout",
     "output_type": "stream",
     "text": [
      "Self-rep:5.13\n"
     ]
    },
    {
     "name": "stderr",
     "output_type": "stream",
     "text": [
      "\n"
     ]
    }
   ],
   "source": [
    "diversity_metrics(personahub['synthesized text'].sample(15000).values.tolist())"
   ]
  },
  {
   "cell_type": "code",
   "execution_count": 11,
   "id": "97cdd801-0aba-4034-8f2c-403ea206b9d9",
   "metadata": {},
   "outputs": [
    {
     "data": {
      "text/plain": [
       "(9500, 4)"
      ]
     },
     "execution_count": 11,
     "metadata": {},
     "output_type": "execute_result"
    }
   ],
   "source": [
    "nr = load_dataset(\"HuggingFaceH4/no_robots\")['train'].to_pandas()\n",
    "nr.shape"
   ]
  },
  {
   "cell_type": "code",
   "execution_count": 15,
   "id": "30421bb3-1e45-42f2-a1f8-a7b92185e75c",
   "metadata": {},
   "outputs": [
    {
     "data": {
      "text/plain": [
       "np.float64(157.0)"
      ]
     },
     "execution_count": 15,
     "metadata": {},
     "output_type": "execute_result"
    }
   ],
   "source": [
    "np.median([len(x) for x in nr['prompt'].values.tolist()])"
   ]
  },
  {
   "cell_type": "code",
   "execution_count": 16,
   "id": "13424908-7b24-4a71-bca0-7b2c98aa1d1c",
   "metadata": {},
   "outputs": [
    {
     "name": "stdout",
     "output_type": "stream",
     "text": [
      "CR: 2.47\n",
      "CR-POS: 5.13\n",
      "NDS: 2.44\n"
     ]
    },
    {
     "name": "stderr",
     "output_type": "stream",
     "text": [
      "Calculating self-repetition score: 100%|█████████████████████████████████████████████████████| 9500/9500 [00:00<00:00, 90555.54it/s]"
     ]
    },
    {
     "name": "stdout",
     "output_type": "stream",
     "text": [
      "Self-rep:2.62\n"
     ]
    },
    {
     "name": "stderr",
     "output_type": "stream",
     "text": [
      "\n"
     ]
    }
   ],
   "source": [
    "diversity_metrics(nr['prompt'].values.tolist())"
   ]
  },
  {
   "cell_type": "code",
   "execution_count": 12,
   "id": "064f6471-c6be-443e-82ef-c2d6956e768f",
   "metadata": {},
   "outputs": [
    {
     "data": {
      "text/plain": [
       "(29980, 4)"
      ]
     },
     "execution_count": 12,
     "metadata": {},
     "output_type": "execute_result"
    }
   ],
   "source": [
    "tulu = load_dataset(\"allenai/tulu-3-sft-personas-instruction-following\")['train'].to_pandas()\n",
    "tulu.shape"
   ]
  },
  {
   "cell_type": "code",
   "execution_count": 18,
   "id": "7488e07e-424a-4e58-b238-3ab1189b3a31",
   "metadata": {},
   "outputs": [
    {
     "name": "stdout",
     "output_type": "stream",
     "text": [
      "CR: 3.2\n",
      "CR-POS: 6.3\n",
      "NDS: 1.51\n"
     ]
    },
    {
     "name": "stderr",
     "output_type": "stream",
     "text": [
      "Calculating self-repetition score: 100%|██████████████████████████████████████████████████| 29980/29980 [00:00<00:00, 108111.12it/s]\n"
     ]
    },
    {
     "name": "stdout",
     "output_type": "stream",
     "text": [
      "Self-rep:6.79\n"
     ]
    }
   ],
   "source": [
    "diversity_metrics(tulu['prompt'].values.tolist())"
   ]
  },
  {
   "cell_type": "markdown",
   "id": "b7cb7015-6c42-4706-a0ca-b6065cb69879",
   "metadata": {
    "jp-MarkdownHeadingCollapsed": true
   },
   "source": [
    "## Math"
   ]
  },
  {
   "cell_type": "code",
   "execution_count": 13,
   "id": "c2ff2658-d529-4b2e-894b-725a557c8a5f",
   "metadata": {},
   "outputs": [
    {
     "data": {
      "text/plain": [
       "(7473, 2)"
      ]
     },
     "execution_count": 13,
     "metadata": {},
     "output_type": "execute_result"
    }
   ],
   "source": [
    "gsm8k = load_dataset(\"openai/gsm8k\", \"main\")['train'].to_pandas()\n",
    "gsm8k.shape"
   ]
  },
  {
   "cell_type": "code",
   "execution_count": 31,
   "id": "993c54b6-12e8-4708-a4c2-1fb285292679",
   "metadata": {},
   "outputs": [
    {
     "name": "stdout",
     "output_type": "stream",
     "text": [
      "CR: 2.87\n",
      "CR-POS: 5.94\n",
      "NDS: 2.19\n"
     ]
    },
    {
     "name": "stderr",
     "output_type": "stream",
     "text": [
      "Calculating self-repetition score: 100%|████████████████████████████████████████████████████| 7473/7473 [00:00<00:00, 236848.33it/s]"
     ]
    },
    {
     "name": "stdout",
     "output_type": "stream",
     "text": [
      "Self-rep:2.88\n"
     ]
    },
    {
     "name": "stderr",
     "output_type": "stream",
     "text": [
      "\n"
     ]
    }
   ],
   "source": [
    "diversity_metrics(gsm8k['question'].values.tolist())"
   ]
  },
  {
   "cell_type": "code",
   "execution_count": 24,
   "id": "2f3fe6b1-1482-473e-bc8e-f2b1b8b43b3b",
   "metadata": {},
   "outputs": [
    {
     "data": {
      "application/vnd.jupyter.widget-view+json": {
       "model_id": "7d9a9388c65c4befbe7dff33f775b23c",
       "version_major": 2,
       "version_minor": 0
      },
      "text/plain": [
       "README.md:   0%|          | 0.00/749 [00:00<?, ?B/s]"
      ]
     },
     "metadata": {},
     "output_type": "display_data"
    },
    {
     "data": {
      "application/vnd.jupyter.widget-view+json": {
       "model_id": "a719d097e8664001bbd4b3dea354bdc6",
       "version_major": 2,
       "version_minor": 0
      },
      "text/plain": [
       "train-00000-of-00001.parquet:   0%|          | 0.00/52.0M [00:00<?, ?B/s]"
      ]
     },
     "metadata": {},
     "output_type": "display_data"
    },
    {
     "data": {
      "application/vnd.jupyter.widget-view+json": {
       "model_id": "748e86d4cf6c44d29af1fab3438bf1df",
       "version_major": 2,
       "version_minor": 0
      },
      "text/plain": [
       "Generating train split:   0%|          | 0/49980 [00:00<?, ? examples/s]"
      ]
     },
     "metadata": {},
     "output_type": "display_data"
    },
    {
     "data": {
      "text/plain": [
       "(49980, 3)"
      ]
     },
     "execution_count": 24,
     "metadata": {},
     "output_type": "execute_result"
    }
   ],
   "source": [
    "tulu_math = load_dataset(\"allenai/tulu-3-sft-personas-math-grade\")['train'].to_pandas()\n",
    "tulu_math.shape"
   ]
  },
  {
   "cell_type": "code",
   "execution_count": 25,
   "id": "7fb628eb-e8f8-43f7-8dd4-2e8f99a23f9f",
   "metadata": {},
   "outputs": [
    {
     "name": "stdout",
     "output_type": "stream",
     "text": [
      "CR: 3.11\n",
      "CR-POS: 6.26\n",
      "NDS: 1.87\n"
     ]
    },
    {
     "name": "stderr",
     "output_type": "stream",
     "text": [
      "Calculating self-repetition score: 100%|███████████████████████████████████████████████████| 10000/10000 [00:00<00:00, 75599.47it/s]"
     ]
    },
    {
     "name": "stdout",
     "output_type": "stream",
     "text": [
      "Self-rep:5.68\n"
     ]
    },
    {
     "name": "stderr",
     "output_type": "stream",
     "text": [
      "\n"
     ]
    }
   ],
   "source": [
    "diversity_metrics(tulu_math['prompt'].sample(10000).values.tolist())"
   ]
  },
  {
   "cell_type": "code",
   "execution_count": 32,
   "id": "0c1811d9-975c-407f-84fd-c0d1bb3943ff",
   "metadata": {},
   "outputs": [
    {
     "data": {
      "application/vnd.jupyter.widget-view+json": {
       "model_id": "1d68c2c87dac4c73a21084c960828560",
       "version_major": 2,
       "version_minor": 0
      },
      "text/plain": [
       "math.jsonl:   0%|          | 0.00/48.7M [00:00<?, ?B/s]"
      ]
     },
     "metadata": {},
     "output_type": "display_data"
    },
    {
     "data": {
      "application/vnd.jupyter.widget-view+json": {
       "model_id": "890952800c9440fd81c33a67b9c2ece8",
       "version_major": 2,
       "version_minor": 0
      },
      "text/plain": [
       "Generating train split: 0 examples [00:00, ? examples/s]"
      ]
     },
     "metadata": {},
     "output_type": "display_data"
    },
    {
     "data": {
      "text/plain": [
       "(50000, 3)"
      ]
     },
     "execution_count": 32,
     "metadata": {},
     "output_type": "execute_result"
    }
   ],
   "source": [
    "persona_math = load_dataset(\"proj-persona/PersonaHub\", \"math\")['train'].to_pandas()\n",
    "persona_math.shape"
   ]
  },
  {
   "cell_type": "code",
   "execution_count": 33,
   "id": "e5bcb277-756a-44e4-9628-0f618e5763a4",
   "metadata": {},
   "outputs": [
    {
     "name": "stdout",
     "output_type": "stream",
     "text": [
      "CR: 3.11\n",
      "CR-POS: 5.92\n",
      "NDS: 1.75\n"
     ]
    },
    {
     "name": "stderr",
     "output_type": "stream",
     "text": [
      "Calculating self-repetition score: 100%|███████████████████████████████████████████████████| 10000/10000 [00:00<00:00, 37335.57it/s]"
     ]
    },
    {
     "name": "stdout",
     "output_type": "stream",
     "text": [
      "Self-rep:6.38\n"
     ]
    },
    {
     "name": "stderr",
     "output_type": "stream",
     "text": [
      "\n"
     ]
    }
   ],
   "source": [
    "diversity_metrics(persona_math['synthesized text'].sample(10000).values.tolist())"
   ]
  }
 ],
 "metadata": {
  "kernelspec": {
   "display_name": "Python 3 (ipykernel)",
   "language": "python",
   "name": "python3"
  },
  "language_info": {
   "codemirror_mode": {
    "name": "ipython",
    "version": 3
   },
   "file_extension": ".py",
   "mimetype": "text/x-python",
   "name": "python",
   "nbconvert_exporter": "python",
   "pygments_lexer": "ipython3",
   "version": "3.11.0"
  }
 },
 "nbformat": 4,
 "nbformat_minor": 5
}
